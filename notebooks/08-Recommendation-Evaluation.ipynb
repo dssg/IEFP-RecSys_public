{
 "cells": [
  {
   "cell_type": "markdown",
   "metadata": {},
   "source": [
    "## Notebook Magic"
   ]
  },
  {
   "cell_type": "code",
   "execution_count": 2,
   "metadata": {},
   "outputs": [],
   "source": [
    "%matplotlib inline\n",
    "%load_ext autoreload"
   ]
  },
  {
   "cell_type": "markdown",
   "metadata": {},
   "source": [
    "## Imports"
   ]
  },
  {
   "cell_type": "code",
   "execution_count": 3,
   "metadata": {},
   "outputs": [],
   "source": [
    "import os\n",
    "import yaml\n",
    "import pandas as pd\n",
    "import matplotlib.pyplot as plt\n",
    "import pandas as pd\n",
    "import seaborn as sns\n",
    "import numpy as np\n",
    "import pickle\n",
    "import boto3\n",
    "import time\n",
    "\n",
    "from sklearn.model_selection import cross_validate\n",
    "from sklearn.ensemble import RandomForestClassifier, ExtraTreesClassifier, GradientBoostingClassifier, AdaBoostClassifier\n",
    "from sklearn.model_selection import train_test_split\n",
    "from sklearn.metrics import accuracy_score\n",
    "from sklearn.metrics import average_precision_score\n",
    "from sklearn.metrics import precision_recall_curve\n",
    "from sklearn.metrics import confusion_matrix\n",
    "from sklearn.metrics import auc, roc_curve\n",
    "\n",
    "from sklearn.linear_model import LogisticRegression, Lasso\n",
    "\n",
    "from sklearn.metrics import f1_score\n",
    "from sklearn.model_selection import GridSearchCV\n",
    "from sklearn.pipeline import Pipeline\n",
    "from sklearn.preprocessing import MinMaxScaler\n",
    "\n",
    "from scipy.stats import randint\n",
    "\n",
    "import itertools\n",
    "\n",
    "from IPython.display import display\n",
    "pd.options.display.max_columns = None\n",
    "pd.options.display.width = 0"
   ]
  },
  {
   "cell_type": "code",
   "execution_count": 4,
   "metadata": {},
   "outputs": [],
   "source": [
    "df_train = pd.read_parquet(\"s3://iefp-unemployment/copy_test_train/train_T180509.parquet\")"
   ]
  },
  {
   "cell_type": "code",
   "execution_count": 5,
   "metadata": {},
   "outputs": [],
   "source": [
    "df_test = pd.read_parquet(\"s3://iefp-unemployment/copy_test_train/test_T180509.parquet\")"
   ]
  },
  {
   "cell_type": "code",
   "execution_count": 6,
   "metadata": {},
   "outputs": [],
   "source": [
    "s3 = boto3.client('s3')\n",
    "response = s3.get_object(Bucket='iefp-unemployment', Key='copy_test_train/random_forest_T180509.pkl')\n",
    "model = pickle.loads(response[\"Body\"].read())"
   ]
  },
  {
   "cell_type": "code",
   "execution_count": 7,
   "metadata": {},
   "outputs": [],
   "source": [
    "def generate_combinations(n,k):\n",
    "    result = list()\n",
    "    for i in range(1, k + 1):\n",
    "        for bits in itertools.combinations(range(n), i):\n",
    "                s = [0] * n\n",
    "                for bit in bits:\n",
    "                    s[bit] = 1\n",
    "                result.append(s)\n",
    "\n",
    "    return pd.DataFrame(result)"
   ]
  },
  {
   "cell_type": "code",
   "execution_count": 8,
   "metadata": {},
   "outputs": [],
   "source": [
    "def get_user_recommendations(journey_series, model, max_interventions=3, number_results=10, index=1):\n",
    "    # Get interventions to permute over\n",
    "    interventions = [col for col in journey_series.axes[0] if col[0:2] == \"i_\"]\n",
    "    journey_series.drop(labels=interventions + [\"ttj\", \"ttj_sub_12\"], inplace=True)\n",
    "    \n",
    "    # Generate permutation dataframe\n",
    "    permutations = generate_combinations(len(interventions), max_interventions)\n",
    "    \n",
    "    # Create user dataframe to match permutation size and join with permutation df\n",
    "    predict_df = pd.DataFrame(np.tile(journey_series.values,\n",
    "                              len(permutations.index)).reshape(-1,len(journey_series.index)),\n",
    "                              columns=journey_series.index).join(permutations)\n",
    "    \n",
    "    # Predict for all permutations\n",
    "    probabilities = pd.DataFrame(model.predict_proba(predict_df))\n",
    "    probabilities.columns = [\"unsuccessful\", \"successful\"]\n",
    "\n",
    "    #Create final top_n dataframe\n",
    "    results_df = predict_df.join(probabilities)\n",
    "    \n",
    "    top_n = results_df.sort_values(by=['successful'], ascending=False).iloc[0:number_results,:]\n",
    "    top_n[\"journey_id\"] = index\n",
    "\n",
    "    return top_n"
   ]
  },
  {
   "cell_type": "code",
   "execution_count": null,
   "metadata": {},
   "outputs": [],
   "source": [
    "def gen_top_recommendations_table(df, model, permutations, number_results):\n",
    "    # Prepare empty dataframe\n",
    "    recommendations_df = pd.DataFrame()\n",
    "    \n",
    "    # Iterate through each user and append the top 5 recommendations to an empty dataframe\n",
    "    for index, journey in df.iterrows():\n",
    "        user_recommendations = get_user_recommendations(journey, index, model, permutations, number_results)\n",
    "        recommendations_df = pd.concat([recommendations_df,user_recommendations])\n",
    "\n",
    "    return recommendations_df"
   ]
  },
  {
   "cell_type": "code",
   "execution_count": null,
   "metadata": {},
   "outputs": [],
   "source": [
    "# Test intervention count\n",
    "\n",
    "small_test = df_test.head(50)\n",
    "\n",
    "start = time.time()\n",
    "top_5_10 = gen_top_recommendations_table(small_test, model, new_perms, 20)\n",
    "print(time.time() - start)"
   ]
  },
  {
   "cell_type": "code",
   "execution_count": null,
   "metadata": {},
   "outputs": [],
   "source": [
    "top_5_10"
   ]
  },
  {
   "cell_type": "code",
   "execution_count": null,
   "metadata": {},
   "outputs": [],
   "source": [
    "matrix = small_test.join(top_5_10.groupby(\"journey_id\").sum().add_prefix('sum_'))"
   ]
  },
  {
   "cell_type": "code",
   "execution_count": null,
   "metadata": {},
   "outputs": [],
   "source": [
    "matrix"
   ]
  },
  {
   "cell_type": "code",
   "execution_count": null,
   "metadata": {},
   "outputs": [],
   "source": [
    "full_set = pd.read_parquet(\"s3://iefp-unemployment/modelling/modelling.parquet\")"
   ]
  },
  {
   "cell_type": "code",
   "execution_count": null,
   "metadata": {},
   "outputs": [],
   "source": [
    "def get_sub_group(df, observation):\n",
    "    \n",
    "    journey = pd.DataFrame(observation).T\n",
    "    \n",
    "    journey[\"young\"] = (journey[\"d_age\"] >= 0.0) & (journey[\"d_age\"] <= 0.2)\n",
    "    journey[\"adult\"] = (journey[\"d_age\"] >= 0.21) & (journey[\"d_age\"] <= 0.45)\n",
    "    journey[\"middle\"] = (journey[\"d_age\"] >= 0.46) & (journey[\"d_age\"] <= 0.7)\n",
    "    journey[\"old\"] = (journey[\"d_age\"] >= 0.71)\n",
    "    \n",
    "    df[\"young\"] = (df[\"d_age\"] >= 0.0) & (df[\"d_age\"] <= 0.3)\n",
    "    df[\"adult\"] = (df[\"d_age\"] >= 0.31) & (df[\"d_age\"] <= 0.45)\n",
    "    df[\"middle\"] = (df[\"d_age\"] >= 0.46) & (df[\"d_age\"] <= 0.7)\n",
    "    df[\"old\"] = (df[\"d_age\"] >= 0.71)\n",
    "    \n",
    "    dems = [\"d_gender_M\", \"d_disabled\", \"d_subsidy\", \"d_rsi_True\",\n",
    "           \"young\", \"adult\", \"middle\", \"old\", \"d_nationality_other\",\n",
    "           \"d_school_qualification_2.0\", \"d_school_qualification_3.0\",\n",
    "            \"d_school_qualification_4.0\", \"d_school_qualification_5.0\",\n",
    "            \"d_school_qualification_6.0\", \"d_school_qualification_nan\"]\n",
    "    \n",
    "    sub_group = df.merge(journey, left_on=dems, right_on=dems)\n",
    "\n",
    "    return sub_group"
   ]
  },
  {
   "cell_type": "code",
   "execution_count": null,
   "metadata": {},
   "outputs": [],
   "source": [
    "filtered = get_sub_group(full_set, full_set.iloc[10])"
   ]
  },
  {
   "cell_type": "code",
   "execution_count": null,
   "metadata": {},
   "outputs": [],
   "source": [
    "filtered"
   ]
  }
 ],
 "metadata": {
  "kernelspec": {
   "display_name": "iefp",
   "language": "python",
   "name": "iefp"
  },
  "language_info": {
   "codemirror_mode": {
    "name": "ipython",
    "version": 3
   },
   "file_extension": ".py",
   "mimetype": "text/x-python",
   "name": "python",
   "nbconvert_exporter": "python",
   "pygments_lexer": "ipython3",
   "version": "3.6.8"
  }
 },
 "nbformat": 4,
 "nbformat_minor": 4
}
