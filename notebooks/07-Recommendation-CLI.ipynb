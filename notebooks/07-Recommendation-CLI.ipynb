{
 "cells": [
  {
   "cell_type": "markdown",
   "metadata": {},
   "source": [
    "## Notebook Magic"
   ]
  },
  {
   "cell_type": "code",
   "execution_count": 2,
   "metadata": {},
   "outputs": [],
   "source": [
    "%matplotlib inline\n",
    "%load_ext autoreload"
   ]
  },
  {
   "cell_type": "markdown",
   "metadata": {},
   "source": [
    "## Imports"
   ]
  },
  {
   "cell_type": "code",
   "execution_count": 1,
   "metadata": {},
   "outputs": [],
   "source": [
    "import os\n",
    "import itertools\n",
    "import yaml\n",
    "import pandas as pd\n",
    "import matplotlib.pyplot as plt\n",
    "import pandas as pd\n",
    "from random import random\n",
    "import seaborn as sns\n",
    "import numpy as np\n",
    "\n",
    "from iefp.data import postgres\n",
    "from iefp.data import s3"
   ]
  },
  {
   "cell_type": "code",
   "execution_count": 2,
   "metadata": {},
   "outputs": [],
   "source": [
    "def generate_combinations(n,k):\n",
    "    result = list()\n",
    "    for i in range(1, k + 1):\n",
    "        for bits in itertools.combinations(range(n), i):\n",
    "                s = [0] * n\n",
    "                for bit in bits:\n",
    "                    s[bit] = 1\n",
    "                result.append(s)\n",
    "\n",
    "    return pd.DataFrame(result)"
   ]
  },
  {
   "cell_type": "code",
   "execution_count": 3,
   "metadata": {},
   "outputs": [],
   "source": [
    "# Load best model and test set\n",
    "model_path, _, test_path = postgres.get_best_model_paths()\n",
    "\n",
    "rf = s3.read_object_from_s3(model_path)\n",
    "df_test = pd.read_parquet(test_path)"
   ]
  },
  {
   "cell_type": "code",
   "execution_count": 4,
   "metadata": {},
   "outputs": [],
   "source": [
    "# Generate intervention combinations\n",
    "intervention_names = [col for col in df_test.columns if \"i_\" in col[:2]]\n",
    "df_intervention_combinations = generate_combinations(len(intervention_names), 3)\n",
    "df_intervention_combinations.columns = intervention_names"
   ]
  },
  {
   "cell_type": "code",
   "execution_count": 5,
   "metadata": {},
   "outputs": [],
   "source": [
    "# Input: Random observation\n",
    "df_observation = df_test.sample(1)\n",
    "df_observation = df_observation.drop(intervention_names + [\"ttj_sub_12\", \"ttj\"], axis=\"columns\")"
   ]
  },
  {
   "cell_type": "code",
   "execution_count": 6,
   "metadata": {},
   "outputs": [],
   "source": [
    "# Generate dataframe with fixed features and intervention combinations\n",
    "df_observation = df_observation.append([df_observation] * (len(df_intervention_combinations) - 1), ignore_index=True)\n",
    "df_observation = df_observation.merge(df_intervention_combinations, right_index=True, left_index=True)"
   ]
  },
  {
   "cell_type": "code",
   "execution_count": 7,
   "metadata": {},
   "outputs": [],
   "source": [
    "result = rf.predict_proba(df_observation)"
   ]
  },
  {
   "cell_type": "code",
   "execution_count": 14,
   "metadata": {},
   "outputs": [
    {
     "data": {
      "text/html": [
       "<div>\n",
       "<style scoped>\n",
       "    .dataframe tbody tr th:only-of-type {\n",
       "        vertical-align: middle;\n",
       "    }\n",
       "\n",
       "    .dataframe tbody tr th {\n",
       "        vertical-align: top;\n",
       "    }\n",
       "\n",
       "    .dataframe thead th {\n",
       "        text-align: right;\n",
       "    }\n",
       "</style>\n",
       "<table border=\"1\" class=\"dataframe\">\n",
       "  <thead>\n",
       "    <tr style=\"text-align: right;\">\n",
       "      <th></th>\n",
       "      <th>intervention</th>\n",
       "      <th>intervention</th>\n",
       "      <th>intervention</th>\n",
       "      <th>probability</th>\n",
       "    </tr>\n",
       "  </thead>\n",
       "  <tbody>\n",
       "    <tr>\n",
       "      <th>0</th>\n",
       "      <td>tutoring in individual job search</td>\n",
       "      <td>employment-insertion contract</td>\n",
       "      <td>tutoring in collective job search</td>\n",
       "      <td>0.583261</td>\n",
       "    </tr>\n",
       "    <tr>\n",
       "      <th>1</th>\n",
       "      <td>tutoring in individual job search</td>\n",
       "      <td>employment-insertion contract</td>\n",
       "      <td>assertive communication job search techn</td>\n",
       "      <td>0.580327</td>\n",
       "    </tr>\n",
       "    <tr>\n",
       "      <th>2</th>\n",
       "      <td>tutoring in individual job search</td>\n",
       "      <td>paper subsidy ace</td>\n",
       "      <td>employment-insertion contract</td>\n",
       "      <td>0.580198</td>\n",
       "    </tr>\n",
       "    <tr>\n",
       "      <th>3</th>\n",
       "      <td>tutoring in individual job search</td>\n",
       "      <td>paecpe ace</td>\n",
       "      <td>employment-insertion contract</td>\n",
       "      <td>0.579960</td>\n",
       "    </tr>\n",
       "    <tr>\n",
       "      <th>4</th>\n",
       "      <td>tutoring in individual job search</td>\n",
       "      <td>internship job</td>\n",
       "      <td>employment-insertion contract</td>\n",
       "      <td>0.579907</td>\n",
       "    </tr>\n",
       "  </tbody>\n",
       "</table>\n",
       "</div>"
      ],
      "text/plain": [
       "                        intervention                   intervention  \\\n",
       "0  tutoring in individual job search  employment-insertion contract   \n",
       "1  tutoring in individual job search  employment-insertion contract   \n",
       "2  tutoring in individual job search              paper subsidy ace   \n",
       "3  tutoring in individual job search                     paecpe ace   \n",
       "4  tutoring in individual job search                 internship job   \n",
       "\n",
       "                               intervention  probability  \n",
       "0         tutoring in collective job search     0.583261  \n",
       "1  assertive communication job search techn     0.580327  \n",
       "2             employment-insertion contract     0.580198  \n",
       "3             employment-insertion contract     0.579960  \n",
       "4             employment-insertion contract     0.579907  "
      ]
     },
     "execution_count": 14,
     "metadata": {},
     "output_type": "execute_result"
    }
   ],
   "source": [
    "def get_top_interventions(X, y_probs, n):\n",
    "    top_n_rec = pd.DataFrame(y_probs, columns=[\"false\", \"true\"]).sort_values(\"true\", ascending=False).head(n)\n",
    "    \n",
    "    intervention_cols = [col for col in X.columns if \"i_\" in col[:2]]\n",
    "    df_result = X.loc[top_n_rec.index, intervention_cols]\n",
    "    \n",
    "    rec_interv = list()\n",
    "    for i in range(len(df_result)):\n",
    "        row = df_result.iloc[i]\n",
    "        interventions = row[row==1]\n",
    "        # Pretty formatting\n",
    "        interventions = interventions.index.str.replace(\"i_\", \"\").str.replace(\"_\", \" \").tolist()\n",
    "        rec_interv.append(interventions + [top_n_rec.iloc[i][\"true\"]])\n",
    "\n",
    "    df_rec_interv = pd.DataFrame(rec_interv, columns=([\"intervention\"] * 3  + [\"probability\"]))\n",
    "    df_rec_interv = df_rec_interv.replace(\"i_\", \"\") \n",
    "    return df_rec_interv\n",
    "    \n",
    "get_top_interventions(df_observation, result, 5)"
   ]
  },
  {
   "cell_type": "code",
   "execution_count": null,
   "metadata": {},
   "outputs": [],
   "source": []
  },
  {
   "cell_type": "code",
   "execution_count": null,
   "metadata": {},
   "outputs": [],
   "source": []
  },
  {
   "cell_type": "code",
   "execution_count": null,
   "metadata": {},
   "outputs": [],
   "source": []
  }
 ],
 "metadata": {
  "kernelspec": {
   "display_name": "iefp",
   "language": "python",
   "name": "iefp"
  },
  "language_info": {
   "codemirror_mode": {
    "name": "ipython",
    "version": 3
   },
   "file_extension": ".py",
   "mimetype": "text/x-python",
   "name": "python",
   "nbconvert_exporter": "python",
   "pygments_lexer": "ipython3",
   "version": "3.6.8"
  }
 },
 "nbformat": 4,
 "nbformat_minor": 4
}
