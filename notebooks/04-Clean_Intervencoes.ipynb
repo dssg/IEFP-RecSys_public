{
 "cells": [
  {
   "cell_type": "code",
   "execution_count": 13,
   "metadata": {},
   "outputs": [
    {
     "name": "stdout",
     "output_type": "stream",
     "text": [
      "The autoreload extension is already loaded. To reload it, use:\n",
      "  %reload_ext autoreload\n"
     ]
    }
   ],
   "source": [
    "import os\n",
    "import yaml\n",
    "import pandas as pd\n",
    "from pyathena import connect\n",
    "from pyathena.util import as_pandas\n",
    "from sqlalchemy import *\n",
    "\n",
    "%matplotlib inline\n",
    "%load_ext autoreload"
   ]
  },
  {
   "cell_type": "code",
   "execution_count": 14,
   "metadata": {},
   "outputs": [],
   "source": [
    "pg_cred = yaml.load(open(\"../conf/local/credentials.yml\"), Loader=yaml.FullLoader)[\"db\"]"
   ]
  },
  {
   "cell_type": "code",
   "execution_count": 15,
   "metadata": {},
   "outputs": [
    {
     "name": "stderr",
     "output_type": "stream",
     "text": [
      "/home/rosa_lavelle/IEFP-RecSys/env/lib/python3.6/site-packages/ipykernel_launcher.py:8: SADeprecationWarning: reflect=True is deprecate; please use the reflect() method.\n",
      "  \n"
     ]
    }
   ],
   "source": [
    "url = 'postgresql://{}:{}@{}:{}/{}'\n",
    "url = url.format(pg_cred[\"pg_user\"], pg_cred[\"pg_pass\"], pg_cred[\"pg_host\"], 5432, \"iefp\")\n",
    "\n",
    "# The return value of create_engine() is our connection object\n",
    "con = create_engine(url, client_encoding='utf8')\n",
    "\n",
    "# We then bind the connection to MetaData()\n",
    "meta = MetaData(bind=con, reflect=True)"
   ]
  },
  {
   "cell_type": "code",
   "execution_count": null,
   "metadata": {},
   "outputs": [],
   "source": [
    "sql = \"\"\" \n",
    "select * from intervencoes\n",
    "limit 10\n",
    ";\"\"\"\n",
    "\n",
    "intervencoes = pd.read_sql(sql, con)"
   ]
  },
  {
   "cell_type": "code",
   "execution_count": null,
   "metadata": {},
   "outputs": [],
   "source": [
    "intervencoes.iloc[1:10,30:45]"
   ]
  },
  {
   "cell_type": "code",
   "execution_count": null,
   "metadata": {},
   "outputs": [],
   "source": [
    "print(intervencoes.columns.values)"
   ]
  },
  {
   "cell_type": "code",
   "execution_count": null,
   "metadata": {},
   "outputs": [],
   "source": [
    "sql = \"\"\" \n",
    "select distinct(f_dcurso) from intervencoes\n",
    ";\"\"\"\n",
    "dcurso = pd.read_sql(sql, con)"
   ]
  },
  {
   "cell_type": "code",
   "execution_count": null,
   "metadata": {},
   "outputs": [],
   "source": [
    "dcurso.shape"
   ]
  },
  {
   "cell_type": "code",
   "execution_count": null,
   "metadata": {},
   "outputs": [],
   "source": [
    "sql = \"\"\" \n",
    "select f_dcurso, count(f_dcurso) as count from intervencoes\n",
    "group by f_dcurso\n",
    "order by count DESC\n",
    ";\"\"\"\n",
    "dcurso_count = pd.read_sql(sql, con)"
   ]
  },
  {
   "cell_type": "code",
   "execution_count": null,
   "metadata": {},
   "outputs": [],
   "source": [
    "dcurso_count.shape"
   ]
  },
  {
   "cell_type": "code",
   "execution_count": null,
   "metadata": {},
   "outputs": [],
   "source": [
    "dcurso_count.head(10)"
   ]
  },
  {
   "cell_type": "code",
   "execution_count": null,
   "metadata": {},
   "outputs": [],
   "source": [
    "dcurso_count.tail(10)"
   ]
  },
  {
   "cell_type": "raw",
   "metadata": {},
   "source": [
    "dcurso_count.dtypes()"
   ]
  },
  {
   "cell_type": "code",
   "execution_count": null,
   "metadata": {},
   "outputs": [],
   "source": [
    "dcurso_count[dcurso_count.count < 50]"
   ]
  },
  {
   "cell_type": "code",
   "execution_count": null,
   "metadata": {},
   "outputs": [],
   "source": [
    "sql = \"\"\" \n",
    "select distinct(f_dmod_form) from intervencoes\n",
    ";\"\"\"\n",
    "dmod_form = pd.read_sql(sql, con)"
   ]
  },
  {
   "cell_type": "code",
   "execution_count": null,
   "metadata": {},
   "outputs": [],
   "source": [
    "dmod_form.shape"
   ]
  },
  {
   "cell_type": "code",
   "execution_count": null,
   "metadata": {},
   "outputs": [],
   "source": [
    "dmod_form.head()"
   ]
  },
  {
   "cell_type": "code",
   "execution_count": null,
   "metadata": {},
   "outputs": [],
   "source": [
    "sql = \"\"\" \n",
    "select f_dmod_form, count(f_dmod_form) as count from intervencoes\n",
    "group by f_dmod_form\n",
    "order by count DESC\n",
    ";\"\"\"\n",
    "dmod_form_count = pd.read_sql(sql, con)"
   ]
  },
  {
   "cell_type": "code",
   "execution_count": null,
   "metadata": {},
   "outputs": [],
   "source": [
    "dmod_form_count.shape"
   ]
  },
  {
   "cell_type": "code",
   "execution_count": null,
   "metadata": {},
   "outputs": [],
   "source": [
    "dmod_form_count.loc[0:10,:]"
   ]
  },
  {
   "cell_type": "markdown",
   "metadata": {},
   "source": [
    "## Insert intervencoes table using yaml file"
   ]
  },
  {
   "cell_type": "code",
   "execution_count": 16,
   "metadata": {},
   "outputs": [],
   "source": [
    "int_cols = yaml.load(open(\"../conf/base/sigae_columns.yml\"), Loader=yaml.FullLoader)[\"intervencoes\"]\n",
    "table = 'intervencoes'"
   ]
  },
  {
   "cell_type": "code",
   "execution_count": 17,
   "metadata": {},
   "outputs": [],
   "source": [
    "sql = \"\"\"\n",
    "select {}\n",
    "from {}\n",
    "limit 10000\n",
    "\"\"\".format(', '.join(int_cols), \"intervencoes\")\n",
    "\n",
    "df = pd.read_sql(sql, con)"
   ]
  },
  {
   "cell_type": "code",
   "execution_count": 18,
   "metadata": {},
   "outputs": [
    {
     "data": {
      "text/html": [
       "<div>\n",
       "<style scoped>\n",
       "    .dataframe tbody tr th:only-of-type {\n",
       "        vertical-align: middle;\n",
       "    }\n",
       "\n",
       "    .dataframe tbody tr th {\n",
       "        vertical-align: top;\n",
       "    }\n",
       "\n",
       "    .dataframe thead th {\n",
       "        text-align: right;\n",
       "    }\n",
       "</style>\n",
       "<table border=\"1\" class=\"dataframe\">\n",
       "  <thead>\n",
       "    <tr style=\"text-align: right;\">\n",
       "      <th></th>\n",
       "      <th>ute_id</th>\n",
       "      <th>tipo_utente</th>\n",
       "      <th>centro</th>\n",
       "      <th>tipo_movimento</th>\n",
       "      <th>data_intervencao</th>\n",
       "      <th>codigo_intervencao</th>\n",
       "      <th>cnp_pretendida</th>\n",
       "      <th>area_intervencao</th>\n",
       "      <th>data_resultado</th>\n",
       "      <th>resultado_intervencao</th>\n",
       "      <th>...</th>\n",
       "      <th>f_dcurso</th>\n",
       "      <th>f_horas</th>\n",
       "      <th>f_cmod_form</th>\n",
       "      <th>f_ccurso</th>\n",
       "      <th>f_dmod_form</th>\n",
       "      <th>f_carea_form</th>\n",
       "      <th>f_darea_form</th>\n",
       "      <th>f_vagas</th>\n",
       "      <th>f_vagas_ocupadas</th>\n",
       "      <th>cest_superior</th>\n",
       "    </tr>\n",
       "  </thead>\n",
       "  <tbody>\n",
       "    <tr>\n",
       "      <th>0</th>\n",
       "      <td>3519582.0</td>\n",
       "      <td>A</td>\n",
       "      <td>383.0</td>\n",
       "      <td>25.0</td>\n",
       "      <td>2013-05-23</td>\n",
       "      <td>208.0</td>\n",
       "      <td>413105.0</td>\n",
       "      <td>NaN</td>\n",
       "      <td>NaT</td>\n",
       "      <td>NaN</td>\n",
       "      <td>...</td>\n",
       "      <td>None</td>\n",
       "      <td>NaN</td>\n",
       "      <td>NaN</td>\n",
       "      <td>None</td>\n",
       "      <td>None</td>\n",
       "      <td>NaN</td>\n",
       "      <td>None</td>\n",
       "      <td>NaN</td>\n",
       "      <td>NaN</td>\n",
       "      <td>NaN</td>\n",
       "    </tr>\n",
       "    <tr>\n",
       "      <th>1</th>\n",
       "      <td>3519582.0</td>\n",
       "      <td>A</td>\n",
       "      <td>383.0</td>\n",
       "      <td>36.0</td>\n",
       "      <td>2013-05-23</td>\n",
       "      <td>208.0</td>\n",
       "      <td>413105.0</td>\n",
       "      <td>NaN</td>\n",
       "      <td>2013-05-23</td>\n",
       "      <td>14.0</td>\n",
       "      <td>...</td>\n",
       "      <td>None</td>\n",
       "      <td>NaN</td>\n",
       "      <td>NaN</td>\n",
       "      <td>None</td>\n",
       "      <td>None</td>\n",
       "      <td>NaN</td>\n",
       "      <td>None</td>\n",
       "      <td>NaN</td>\n",
       "      <td>NaN</td>\n",
       "      <td>NaN</td>\n",
       "    </tr>\n",
       "    <tr>\n",
       "      <th>2</th>\n",
       "      <td>3519582.0</td>\n",
       "      <td>A</td>\n",
       "      <td>383.0</td>\n",
       "      <td>35.0</td>\n",
       "      <td>2013-05-23</td>\n",
       "      <td>208.0</td>\n",
       "      <td>413105.0</td>\n",
       "      <td>NaN</td>\n",
       "      <td>2013-05-23</td>\n",
       "      <td>1.0</td>\n",
       "      <td>...</td>\n",
       "      <td>None</td>\n",
       "      <td>NaN</td>\n",
       "      <td>NaN</td>\n",
       "      <td>None</td>\n",
       "      <td>None</td>\n",
       "      <td>NaN</td>\n",
       "      <td>None</td>\n",
       "      <td>NaN</td>\n",
       "      <td>NaN</td>\n",
       "      <td>NaN</td>\n",
       "    </tr>\n",
       "    <tr>\n",
       "      <th>3</th>\n",
       "      <td>4586377.0</td>\n",
       "      <td>A</td>\n",
       "      <td>383.0</td>\n",
       "      <td>26.0</td>\n",
       "      <td>2013-05-23</td>\n",
       "      <td>208.0</td>\n",
       "      <td>832210.0</td>\n",
       "      <td>NaN</td>\n",
       "      <td>NaT</td>\n",
       "      <td>NaN</td>\n",
       "      <td>...</td>\n",
       "      <td>None</td>\n",
       "      <td>NaN</td>\n",
       "      <td>NaN</td>\n",
       "      <td>None</td>\n",
       "      <td>None</td>\n",
       "      <td>NaN</td>\n",
       "      <td>None</td>\n",
       "      <td>NaN</td>\n",
       "      <td>NaN</td>\n",
       "      <td>NaN</td>\n",
       "    </tr>\n",
       "    <tr>\n",
       "      <th>4</th>\n",
       "      <td>4586377.0</td>\n",
       "      <td>A</td>\n",
       "      <td>383.0</td>\n",
       "      <td>25.0</td>\n",
       "      <td>2013-05-23</td>\n",
       "      <td>208.0</td>\n",
       "      <td>832210.0</td>\n",
       "      <td>NaN</td>\n",
       "      <td>NaT</td>\n",
       "      <td>NaN</td>\n",
       "      <td>...</td>\n",
       "      <td>None</td>\n",
       "      <td>NaN</td>\n",
       "      <td>NaN</td>\n",
       "      <td>None</td>\n",
       "      <td>None</td>\n",
       "      <td>NaN</td>\n",
       "      <td>None</td>\n",
       "      <td>NaN</td>\n",
       "      <td>NaN</td>\n",
       "      <td>NaN</td>\n",
       "    </tr>\n",
       "  </tbody>\n",
       "</table>\n",
       "<p>5 rows × 26 columns</p>\n",
       "</div>"
      ],
      "text/plain": [
       "      ute_id tipo_utente  centro  tipo_movimento data_intervencao  \\\n",
       "0  3519582.0           A   383.0            25.0       2013-05-23   \n",
       "1  3519582.0           A   383.0            36.0       2013-05-23   \n",
       "2  3519582.0           A   383.0            35.0       2013-05-23   \n",
       "3  4586377.0           A   383.0            26.0       2013-05-23   \n",
       "4  4586377.0           A   383.0            25.0       2013-05-23   \n",
       "\n",
       "   codigo_intervencao  cnp_pretendida  area_intervencao data_resultado  \\\n",
       "0               208.0        413105.0               NaN            NaT   \n",
       "1               208.0        413105.0               NaN     2013-05-23   \n",
       "2               208.0        413105.0               NaN     2013-05-23   \n",
       "3               208.0        832210.0               NaN            NaT   \n",
       "4               208.0        832210.0               NaN            NaT   \n",
       "\n",
       "   resultado_intervencao  ...  f_dcurso f_horas  f_cmod_form f_ccurso  \\\n",
       "0                    NaN  ...      None     NaN          NaN     None   \n",
       "1                   14.0  ...      None     NaN          NaN     None   \n",
       "2                    1.0  ...      None     NaN          NaN     None   \n",
       "3                    NaN  ...      None     NaN          NaN     None   \n",
       "4                    NaN  ...      None     NaN          NaN     None   \n",
       "\n",
       "  f_dmod_form  f_carea_form f_darea_form  f_vagas  f_vagas_ocupadas  \\\n",
       "0        None           NaN         None      NaN               NaN   \n",
       "1        None           NaN         None      NaN               NaN   \n",
       "2        None           NaN         None      NaN               NaN   \n",
       "3        None           NaN         None      NaN               NaN   \n",
       "4        None           NaN         None      NaN               NaN   \n",
       "\n",
       "  cest_superior  \n",
       "0           NaN  \n",
       "1           NaN  \n",
       "2           NaN  \n",
       "3           NaN  \n",
       "4           NaN  \n",
       "\n",
       "[5 rows x 26 columns]"
      ]
     },
     "execution_count": 18,
     "metadata": {},
     "output_type": "execute_result"
    }
   ],
   "source": [
    "df.head()"
   ]
  },
  {
   "cell_type": "code",
   "execution_count": 27,
   "metadata": {},
   "outputs": [
    {
     "data": {
      "text/plain": [
       "0                        None\n",
       "1                        None\n",
       "2                        None\n",
       "3                        None\n",
       "4                        None\n",
       "5                        None\n",
       "6                        None\n",
       "7                        None\n",
       "8                        None\n",
       "9                        None\n",
       "10                       None\n",
       "11                       None\n",
       "12                       None\n",
       "13                       None\n",
       "14                       None\n",
       "15                       None\n",
       "16                       None\n",
       "17                       None\n",
       "18                       None\n",
       "19                       None\n",
       "20                       None\n",
       "21                       None\n",
       "22                       None\n",
       "23                       None\n",
       "24                       None\n",
       "25                       None\n",
       "26                       None\n",
       "27                       None\n",
       "28                       None\n",
       "29    DESENVOLVIMENTO PESSOAL\n",
       "30    DESENVOLVIMENTO PESSOAL\n",
       "31    DESENVOLVIMENTO PESSOAL\n",
       "32    DESENVOLVIMENTO PESSOAL\n",
       "33    DESENVOLVIMENTO PESSOAL\n",
       "34    DESENVOLVIMENTO PESSOAL\n",
       "35    DESENVOLVIMENTO PESSOAL\n",
       "36    DESENVOLVIMENTO PESSOAL\n",
       "37                       None\n",
       "38                       None\n",
       "39                       None\n",
       "40      CIÊNCIAS INFORMÁTICAS\n",
       "41                       None\n",
       "42                       None\n",
       "43                       None\n",
       "44                       None\n",
       "45      CIÊNCIAS INFORMÁTICAS\n",
       "46                       None\n",
       "47      CIÊNCIAS INFORMÁTICAS\n",
       "48                       None\n",
       "49                       None\n",
       "Name: f_darea_form, dtype: object"
      ]
     },
     "execution_count": 27,
     "metadata": {},
     "output_type": "execute_result"
    }
   ],
   "source": [
    "df.f_darea_form.head(50)"
   ]
  },
  {
   "cell_type": "code",
   "execution_count": 12,
   "metadata": {},
   "outputs": [
    {
     "data": {
      "text/plain": [
       "ute_id                          float64\n",
       "tipo_utente                      object\n",
       "centro                          float64\n",
       "tipo_movimento                  float64\n",
       "data_intervencao         datetime64[ns]\n",
       "codigo_intervencao              float64\n",
       "cnp_pretendida                  float64\n",
       "area_intervencao                float64\n",
       "data_resultado           datetime64[ns]\n",
       "resultado_intervencao           float64\n",
       "qualificacao                    float64\n",
       "areas_curso                      object\n",
       "tempo_pratica_ucnp              float64\n",
       "tipo                             object\n",
       "tipo_encaminhamento              object\n",
       "ccentro                         float64\n",
       "f_dcurso                         object\n",
       "f_horas                         float64\n",
       "f_cmod_form                     float64\n",
       "f_ccurso                         object\n",
       "f_dmod_form                      object\n",
       "f_carea_form                    float64\n",
       "f_darea_form                     object\n",
       "f_vagas                         float64\n",
       "f_vagas_ocupadas                float64\n",
       "cest_superior                   float64\n",
       "dtype: object"
      ]
     },
     "execution_count": 12,
     "metadata": {},
     "output_type": "execute_result"
    }
   ],
   "source": [
    "df.dtypes"
   ]
  },
  {
   "cell_type": "markdown",
   "metadata": {},
   "source": [
    "## Create function to clean up string columns"
   ]
  },
  {
   "cell_type": "code",
   "execution_count": null,
   "metadata": {},
   "outputs": [],
   "source": [
    "# find string cols\n",
    "df.dtypes"
   ]
  },
  {
   "cell_type": "code",
   "execution_count": null,
   "metadata": {},
   "outputs": [],
   "source": [
    "# 1. change to lower case"
   ]
  },
  {
   "cell_type": "code",
   "execution_count": null,
   "metadata": {},
   "outputs": [],
   "source": [
    "df_copy = df"
   ]
  },
  {
   "cell_type": "code",
   "execution_count": null,
   "metadata": {},
   "outputs": [],
   "source": [
    "df_copy.f_dcurso.str.lower()"
   ]
  },
  {
   "cell_type": "code",
   "execution_count": null,
   "metadata": {},
   "outputs": [],
   "source": [
    "# 2. remove characters"
   ]
  },
  {
   "cell_type": "code",
   "execution_count": null,
   "metadata": {},
   "outputs": [],
   "source": [
    "df_copy.f_dcurso = df_copy.f_dcurso.str.replace('(|)|-', \"\", regex = True)\n",
    "df_copy.f_dcurso"
   ]
  },
  {
   "cell_type": "code",
   "execution_count": null,
   "metadata": {},
   "outputs": [],
   "source": [
    "def clean_string(column):\n",
    "    \"function to make string column lower case and remove characters defined in list\"\n",
    "    column = column.str.lower()\n",
    "    characters= ['(',')','-','+','  ']\n",
    "    for char in characters:\n",
    "        column = column.str.replace(char, \"\", case = False, regex = False)\n",
    "    \n",
    "    return column"
   ]
  },
  {
   "cell_type": "code",
   "execution_count": null,
   "metadata": {},
   "outputs": [],
   "source": [
    "df_copy = df"
   ]
  },
  {
   "cell_type": "code",
   "execution_count": null,
   "metadata": {},
   "outputs": [],
   "source": [
    "# Check columns to see if we need more characters added to list \n",
    "cleaned = clean_string(df_copy.f_dcurso)\n",
    "cleaned.drop_duplicates().to_list()"
   ]
  },
  {
   "cell_type": "code",
   "execution_count": null,
   "metadata": {},
   "outputs": [],
   "source": [
    "df_copy.head()"
   ]
  },
  {
   "cell_type": "code",
   "execution_count": null,
   "metadata": {},
   "outputs": [],
   "source": [
    "df_copy.dtypes"
   ]
  },
  {
   "cell_type": "markdown",
   "metadata": {},
   "source": [
    "## Change the resultado_intervencao to time and then take out time"
   ]
  },
  {
   "cell_type": "code",
   "execution_count": null,
   "metadata": {},
   "outputs": [],
   "source": [
    "df_copy[\"data_resultado\"].astype(\"str\").head()"
   ]
  },
  {
   "cell_type": "code",
   "execution_count": null,
   "metadata": {},
   "outputs": [],
   "source": [
    "test = df_copy[\"data_resultado\"].astype(\"str\")\n",
    "test.head()"
   ]
  },
  {
   "cell_type": "code",
   "execution_count": null,
   "metadata": {},
   "outputs": [],
   "source": [
    "from datetime import datetime\n",
    "datetime_object = datetime.strptime(\"2013-05-17 13:02:48\",\"%Y-%m-%d %H:%M:%S\")\n",
    "datetime_object"
   ]
  },
  {
   "cell_type": "code",
   "execution_count": null,
   "metadata": {},
   "outputs": [],
   "source": [
    "print(datetime_object.date())"
   ]
  },
  {
   "cell_type": "code",
   "execution_count": null,
   "metadata": {},
   "outputs": [],
   "source": [
    "df_copy.data_intervencao.head()"
   ]
  },
  {
   "cell_type": "code",
   "execution_count": null,
   "metadata": {},
   "outputs": [],
   "source": [
    "def object_to_date(column, format):\n",
    "    \"\"\"converts a object column to a string, and then to a datetime, and then removes the time\"\"\"\n",
    "    column = column.astype(\"int64\").astype(\"str\")\n",
    "    column = pd.to_datetime(column, errors='coerce', format = format)\n",
    "    column = column.dt.date\n",
    "    return column"
   ]
  },
  {
   "cell_type": "code",
   "execution_count": null,
   "metadata": {},
   "outputs": [],
   "source": [
    "df_copy = df\n",
    "from datetime import datetime\n",
    "date_output = object_to_date(df_copy.data_resultado,\"%Y-%m-%d %H:%M:%S\")\n",
    "date_output.head(5)"
   ]
  },
  {
   "cell_type": "code",
   "execution_count": null,
   "metadata": {},
   "outputs": [],
   "source": [
    "# Test on other pedidos dates:"
   ]
  },
  {
   "cell_type": "code",
   "execution_count": null,
   "metadata": {},
   "outputs": [],
   "source": [
    "sql = \"\"\"\n",
    "select *\n",
    "from pedidos\n",
    "limit 10000\n",
    "\"\"\"\n",
    "\n",
    "ped = pd.read_sql(sql, con)"
   ]
  },
  {
   "cell_type": "code",
   "execution_count": null,
   "metadata": {},
   "outputs": [],
   "source": [
    "new = ped.ano_mes.astype(\"int64\").astype(\"str\")\n",
    "new"
   ]
  },
  {
   "cell_type": "code",
   "execution_count": null,
   "metadata": {},
   "outputs": [],
   "source": [
    "from datetime import datetime\n",
    "date_output = object_to_date(ped.ano_mes, \"%Y%m\")\n",
    "date_output.head(50)"
   ]
  }
 ],
 "metadata": {
  "kernelspec": {
   "display_name": "iefp",
   "language": "python",
   "name": "iefp"
  },
  "language_info": {
   "codemirror_mode": {
    "name": "ipython",
    "version": 3
   },
   "file_extension": ".py",
   "mimetype": "text/x-python",
   "name": "python",
   "nbconvert_exporter": "python",
   "pygments_lexer": "ipython3",
   "version": "3.6.8"
  }
 },
 "nbformat": 4,
 "nbformat_minor": 4
}
