{
 "cells": [
  {
   "cell_type": "markdown",
   "metadata": {},
   "source": [
    "## Notebook Magic"
   ]
  },
  {
   "cell_type": "code",
   "execution_count": null,
   "metadata": {},
   "outputs": [],
   "source": [
    "%matplotlib inline\n",
    "%load_ext autoreload"
   ]
  },
  {
   "cell_type": "markdown",
   "metadata": {},
   "source": [
    "## Imports"
   ]
  },
  {
   "cell_type": "code",
   "execution_count": null,
   "metadata": {},
   "outputs": [],
   "source": [
    "import os\n",
    "import yaml\n",
    "import pandas as pd\n",
    "import matplotlib.pyplot as plt\n",
    "import pandas as pd\n",
    "import seaborn as sns\n",
    "import numpy as np\n",
    "\n",
    "from IPython.display import display\n",
    "pd.options.display.max_columns = None\n",
    "pd.options.display.width = 0"
   ]
  },
  {
   "cell_type": "markdown",
   "metadata": {},
   "source": [
    "### TODO: Do we need values from other movement codes\n",
    "### TODO: What about multiple registers (21) at the same day?\n",
    "### TODO: What about cases where multiple exits (31, 21) after each other?\n",
    "### TODO: What about cases where exit is successful vocational training?\n",
    "### In newer times these people just go to 'busy'"
   ]
  },
  {
   "cell_type": "markdown",
   "metadata": {},
   "source": [
    "## Get Pedidos Table"
   ]
  },
  {
   "cell_type": "code",
   "execution_count": null,
   "metadata": {},
   "outputs": [],
   "source": [
    "df = pd.read_parquet(\"s3://iefp-unemployment/intermediate/clean/pedidos.parquet\")"
   ]
  },
  {
   "cell_type": "code",
   "execution_count": null,
   "metadata": {},
   "outputs": [],
   "source": [
    "df = df.sort_values([\"ute_id\", \"data_movimento\"])"
   ]
  },
  {
   "cell_type": "code",
   "execution_count": null,
   "metadata": {},
   "outputs": [],
   "source": [
    "end_count = len(df[df[\"tipo_movimento\"].isin([21, 31])])\n",
    "start_count = len(df[df[\"tipo_movimento\"] == 11])\n",
    "print(start_count)\n",
    "print(end_count)"
   ]
  },
  {
   "cell_type": "code",
   "execution_count": null,
   "metadata": {},
   "outputs": [],
   "source": [
    "df_dem = df.copy()\n",
    "df_dem = df_dem[df_dem[\"tipo_movimento\"] == 11]\n",
    "df_dem[\"data_movimento\"] = df_dem[\"data_movimento\"].dt.date\n",
    "df_dem = df_dem.groupby([\"ute_id\", \"data_movimento\"]).first()\n",
    "print(df_dem.shape)\n",
    "df_dem = df_dem.drop_duplicates()\n",
    "print(df_dem.shape)\n",
    "df_dem.describe(include='all')"
   ]
  },
  {
   "cell_type": "code",
   "execution_count": null,
   "metadata": {},
   "outputs": [],
   "source": [
    "df_t = df.loc[df[\"tipo_movimento\"].isin([\"11\", \"21\", \"31\"]),\n",
    "              [\"ute_id\", \"data_movimento\", \"tipo_movimento\", \"motivo_inscricao\",\n",
    "               \"motivo_anulacao\"]].copy()\n",
    "\n",
    "df_t[\"journey_start\"] = df_t[\"tipo_movimento\"] == 11\n",
    "df_t['journey_count'] = df_t.groupby(\"ute_id\")[\"journey_start\"].cumsum()\n",
    "df_t[\"tipo_movimento\"] = df_t[\"tipo_movimento\"].astype(np.int64).astype('str')\n",
    "\n",
    "# Note: What about multiple registers (21) at the same day?\n",
    "# Note: What about cases where multiple exits (31, 21) after each other?\n",
    "# Note: What about cases where exit is successful vocational training? In newer times these people just go to 'busy'\n",
    "df_t = df_t.pivot_table(index = ['ute_id', 'journey_count'], columns = 'tipo_movimento', aggfunc=np.min)\n",
    "df_t.columns = ['_'.join(col).strip() for col in df_t.columns.values]\n",
    "df_t = df_t.reset_index()"
   ]
  },
  {
   "cell_type": "code",
   "execution_count": null,
   "metadata": {},
   "outputs": [],
   "source": [
    "cols = ['ute_id',\n",
    " 'journey_count',\n",
    " 'data_movimento_11',\n",
    " 'data_movimento_21',\n",
    " 'data_movimento_31',\n",
    " 'motivo_anulacao_31',\n",
    " 'motivo_inscricao_11',\n",
    "]\n",
    "t_cols = ['user_id', 'journey_count', 'register_date', 'exit_date_21',\n",
    "          'exit_date_31', 'exit_reason', 'register_reason']\n",
    "df_t = df_t[cols]\n",
    "df_t.columns = t_cols"
   ]
  },
  {
   "cell_type": "code",
   "execution_count": null,
   "metadata": {},
   "outputs": [],
   "source": [
    "df_t.head(20)"
   ]
  },
  {
   "cell_type": "markdown",
   "metadata": {},
   "source": [
    "### Multiple types of exit codes (21 and 31) and same day registration"
   ]
  },
  {
   "cell_type": "code",
   "execution_count": null,
   "metadata": {},
   "outputs": [],
   "source": [
    "print(df_t.shape)\n",
    "df_t = df_t[df_t[\"journey_count\"] > 0]\n",
    "df_t = df_t[(df_t[\"exit_date_21\"].notna()) & (df_t[\"exit_date_31\"].notna())]\n",
    "print(df_t.shape)"
   ]
  },
  {
   "cell_type": "code",
   "execution_count": null,
   "metadata": {},
   "outputs": [],
   "source": [
    "df_t.head(20)\n",
    "df_t['user_id'].nunique()"
   ]
  },
  {
   "cell_type": "code",
   "execution_count": null,
   "metadata": {},
   "outputs": [],
   "source": [
    "df_t.head(20)"
   ]
  },
  {
   "cell_type": "markdown",
   "metadata": {},
   "source": [
    "#### Register reason 91: REINSCRIÇÃO COMO EMPREGADO NA SEQUÊNCIA DE COLOCAÇÃO - CANDIDATURA EXTERNA\n",
    "#### Register reason 91: REINSTATEMENT AS AN EMPLOYEE FOLLOWING PLACEMENT - EXTERNAL APPLICATION\n",
    "\n",
    "##### Check with IEFP. Possible explanation: successful placement is recorded as a register and then successful exit.\n",
    "\n",
    "##### Can't see placements or course though.. might be a mistake."
   ]
  },
  {
   "cell_type": "markdown",
   "metadata": {},
   "source": [
    "### Testing Nova journey definition\n",
    "we define as an entry a registration (movement 11) or a change in category from employment/busy to unemployment (a movement 43 from a categoria 3, 4, 5 to categoria 1, 2) (edited) \n",
    "and we define an exit was a registration cancellation (mov 31), a successful presentation (mov 21) or a change in category to categoria 3, 4, or 5\n",
    "but only if the exit is not followed by a re-entry within 28 days\n",
    "\n",
    "\"User's category code:\n",
    "1 - Unemployed first job\n",
    "2 - Unemployed new job\n",
    "3 - Employed\n",
    "4 - Employed part-time\n",
    "5 - Busy\n",
    "6 - Unemployed first job, unavailable to work\n",
    "7 - Unemployed, new job, unavailable to work\n",
    "8 - Employed, unavailable to work\""
   ]
  },
  {
   "cell_type": "code",
   "execution_count": null,
   "metadata": {},
   "outputs": [],
   "source": [
    "df['categoria'].value_counts()"
   ]
  },
  {
   "cell_type": "code",
   "execution_count": null,
   "metadata": {},
   "outputs": [],
   "source": [
    "df = df.sort_values([\"ute_id\", \"data_movimento\"], ascending=True)"
   ]
  },
  {
   "cell_type": "code",
   "execution_count": null,
   "metadata": {},
   "outputs": [],
   "source": [
    "df.head()"
   ]
  },
  {
   "cell_type": "code",
   "execution_count": null,
   "metadata": {},
   "outputs": [],
   "source": [
    "df_small = df.iloc[0:100]"
   ]
  },
  {
   "cell_type": "code",
   "execution_count": null,
   "metadata": {},
   "outputs": [],
   "source": [
    "user_cat = df[df['tipo_movimento'] == 43]['ute_id'].unique()\n",
    "len(user_cat)\n",
    "journeys = []"
   ]
  },
  {
   "cell_type": "code",
   "execution_count": null,
   "metadata": {},
   "outputs": [],
   "source": [
    "user_cat = user_cat[-202000:-200000]"
   ]
  },
  {
   "cell_type": "markdown",
   "metadata": {},
   "source": [
    "#### Create list of movement and category tuples"
   ]
  },
  {
   "cell_type": "code",
   "execution_count": null,
   "metadata": {},
   "outputs": [],
   "source": [
    "# Check dates of user journeys\n",
    "\n",
    "for user in user_cat[0:200]:\n",
    "    user_table = df[df['ute_id'] == user]\n",
    "    print(user_table.iloc[-1, 1])"
   ]
  },
  {
   "cell_type": "code",
   "execution_count": null,
   "metadata": {},
   "outputs": [],
   "source": [
    "for user in user_cat:\n",
    "    user_table = df[df['ute_id'] == user]\n",
    "    user_journey = []\n",
    "    for index, row in user_table.iterrows():\n",
    "        user_journey.append((row['tipo_movimento'], row['categoria']))\n",
    "    journeys.append(user_journey)"
   ]
  },
  {
   "cell_type": "code",
   "execution_count": null,
   "metadata": {},
   "outputs": [],
   "source": [
    "for journey in journeys[0:50]:\n",
    "    print(journey)"
   ]
  },
  {
   "cell_type": "markdown",
   "metadata": {},
   "source": [
    "#### How many journeys end in a 43?"
   ]
  },
  {
   "cell_type": "code",
   "execution_count": null,
   "metadata": {},
   "outputs": [],
   "source": [
    "end_state = []"
   ]
  },
  {
   "cell_type": "code",
   "execution_count": null,
   "metadata": {},
   "outputs": [],
   "source": [
    "len(journeys)"
   ]
  },
  {
   "cell_type": "code",
   "execution_count": null,
   "metadata": {},
   "outputs": [],
   "source": [
    "for journey in journeys:\n",
    "    if journey[-1][0] == 43:\n",
    "        end_state.append(journey)\n",
    "print(len(end_state))"
   ]
  },
  {
   "cell_type": "markdown",
   "metadata": {},
   "source": [
    "Out of 2000 journeys, 444 end in a 43."
   ]
  },
  {
   "cell_type": "code",
   "execution_count": null,
   "metadata": {},
   "outputs": [],
   "source": [
    "for journey in journeys:\n",
    "    if journey[-1][0] == 43:\n",
    "        end_state.append(journey[-1])"
   ]
  },
  {
   "cell_type": "code",
   "execution_count": null,
   "metadata": {},
   "outputs": [],
   "source": [
    "len(end_cat)"
   ]
  },
  {
   "cell_type": "code",
   "execution_count": null,
   "metadata": {},
   "outputs": [],
   "source": [
    "end_cat = [journey[1] for journey in end_state]"
   ]
  },
  {
   "cell_type": "code",
   "execution_count": null,
   "metadata": {},
   "outputs": [],
   "source": [
    "all_cat = []\n",
    "for journey in journeys:\n",
    "    for pair in journey:\n",
    "        all_cat.append(pair[1])\n",
    "len(all_cat)"
   ]
  },
  {
   "cell_type": "code",
   "execution_count": null,
   "metadata": {},
   "outputs": [],
   "source": [
    "sns.distplot(all_cat,kde = False)\n",
    "plt.xticks([1,2,3,4,5])\n",
    "plt.title(\"Categoria at Category Change - Mov 43\")\n",
    "plt.show()"
   ]
  },
  {
   "cell_type": "code",
   "execution_count": null,
   "metadata": {},
   "outputs": [],
   "source": [
    "sns.distplot(end_cat,kde = False)\n",
    "plt.show()"
   ]
  },
  {
   "cell_type": "code",
   "execution_count": null,
   "metadata": {},
   "outputs": [],
   "source": [
    "end_state[0:100]"
   ]
  },
  {
   "cell_type": "markdown",
   "metadata": {},
   "source": [
    "#### Sense check individual journeys to see patterns in exit codes/category changes"
   ]
  },
  {
   "cell_type": "code",
   "execution_count": null,
   "metadata": {},
   "outputs": [],
   "source": [
    "df[df['categoria'] == 3].iloc[6000:]"
   ]
  },
  {
   "cell_type": "code",
   "execution_count": null,
   "metadata": {},
   "outputs": [],
   "source": [
    "df[df['ute_id'] == 14456]"
   ]
  },
  {
   "cell_type": "code",
   "execution_count": null,
   "metadata": {},
   "outputs": [],
   "source": [
    "df[df['ute_id'] == 29494]"
   ]
  },
  {
   "cell_type": "code",
   "execution_count": null,
   "metadata": {},
   "outputs": [],
   "source": [
    "df[df['ute_id'] == 43283]"
   ]
  },
  {
   "cell_type": "code",
   "execution_count": null,
   "metadata": {},
   "outputs": [],
   "source": [
    "df[df['ute_id'] == 42968]"
   ]
  },
  {
   "cell_type": "code",
   "execution_count": null,
   "metadata": {},
   "outputs": [],
   "source": [
    "df[df['ute_id'] == 43392]"
   ]
  },
  {
   "cell_type": "code",
   "execution_count": null,
   "metadata": {},
   "outputs": [],
   "source": [
    "df[df['ute_id'] == 60767]"
   ]
  },
  {
   "cell_type": "code",
   "execution_count": null,
   "metadata": {},
   "outputs": [],
   "source": [
    "df[df['ute_id'] == 60372]"
   ]
  },
  {
   "cell_type": "code",
   "execution_count": null,
   "metadata": {},
   "outputs": [],
   "source": [
    "df[df['ute_id'] == 74636]"
   ]
  },
  {
   "cell_type": "code",
   "execution_count": null,
   "metadata": {},
   "outputs": [],
   "source": [
    "display(df[df['ute_id'] == 74470])"
   ]
  },
  {
   "cell_type": "code",
   "execution_count": null,
   "metadata": {},
   "outputs": [],
   "source": [
    "display(df[df['ute_id'] == 91085])"
   ]
  },
  {
   "cell_type": "code",
   "execution_count": null,
   "metadata": {},
   "outputs": [],
   "source": [
    "display(df[df['ute_id'] == 90858])"
   ]
  }
 ],
 "metadata": {
  "kernelspec": {
   "display_name": "iefp",
   "language": "python",
   "name": "iefp"
  },
  "language_info": {
   "codemirror_mode": {
    "name": "ipython",
    "version": 3
   },
   "file_extension": ".py",
   "mimetype": "text/x-python",
   "name": "python",
   "nbconvert_exporter": "python",
   "pygments_lexer": "ipython3",
   "version": "3.6.8"
  }
 },
 "nbformat": 4,
 "nbformat_minor": 4
}
