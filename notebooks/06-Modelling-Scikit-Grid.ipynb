{
 "cells": [
  {
   "cell_type": "markdown",
   "metadata": {},
   "source": [
    "## Notebook Magic"
   ]
  },
  {
   "cell_type": "code",
   "execution_count": null,
   "metadata": {},
   "outputs": [],
   "source": [
    "%matplotlib inline\n",
    "%load_ext autoreload"
   ]
  },
  {
   "cell_type": "markdown",
   "metadata": {},
   "source": [
    "## Imports"
   ]
  },
  {
   "cell_type": "code",
   "execution_count": null,
   "metadata": {},
   "outputs": [],
   "source": [
    "import os\n",
    "import yaml\n",
    "import pandas as pd\n",
    "import matplotlib.pyplot as plt\n",
    "import pandas as pd\n",
    "import seaborn as sns\n",
    "import numpy as np\n",
    "\n",
    "from sklearn.model_selection import cross_validate\n",
    "from sklearn.ensemble import RandomForestClassifier, ExtraTreesClassifier, GradientBoostingClassifier, AdaBoostClassifier\n",
    "from sklearn.model_selection import train_test_split\n",
    "from sklearn.metrics import accuracy_score\n",
    "from sklearn.metrics import average_precision_score\n",
    "from sklearn.metrics import precision_recall_curve\n",
    "from sklearn.metrics import confusion_matrix\n",
    "from sklearn.metrics import auc, roc_curve\n",
    "\n",
    "from sklearn.linear_model import LogisticRegression, Lasso\n",
    "\n",
    "from sklearn.metrics import f1_score\n",
    "from sklearn.model_selection import GridSearchCV\n",
    "from sklearn.pipeline import Pipeline\n",
    "\n",
    "from scipy.stats import randint\n",
    "\n",
    "import itertools\n",
    "\n",
    "from IPython.display import display\n",
    "pd.options.display.max_columns = None\n",
    "pd.options.display.width = 0"
   ]
  },
  {
   "cell_type": "code",
   "execution_count": null,
   "metadata": {},
   "outputs": [],
   "source": [
    "df = pd.read_parquet(\"s3://iefp-unemployment/modelling/modelling.parquet\")\n",
    "df.shape\n",
    "df.head(10)"
   ]
  },
  {
   "cell_type": "code",
   "execution_count": null,
   "metadata": {},
   "outputs": [],
   "source": [
    "# Intervention feature preparation\n",
    "\n",
    "interv_cols = [col for col in df.columns if \"i_\" in col]\n",
    "X = df[interv_cols].copy()\n",
    "\n",
    "# Strip col names\n",
    "#X.columns = [col.replace(\"i_\", \"\") for col in X.columns]\n",
    "\n",
    "# Make df boolean\n",
    "X = (X.notna()).astype('int')\n",
    "\n",
    "# Filter for frequent interventions\n",
    "frequent_i = X.mean()[X.mean() > 0.01].index.tolist()\n",
    "X = X[frequent_i]"
   ]
  },
  {
   "cell_type": "code",
   "execution_count": null,
   "metadata": {},
   "outputs": [],
   "source": [
    "X.head(10)"
   ]
  },
  {
   "cell_type": "code",
   "execution_count": null,
   "metadata": {},
   "outputs": [],
   "source": [
    "len(X.columns.tolist())"
   ]
  },
  {
   "cell_type": "code",
   "execution_count": null,
   "metadata": {},
   "outputs": [],
   "source": [
    "# Demographics prep\n",
    "\n",
    "dems = [\"d_age\", \"d_gender\", \"d_civil_status\", \"d_rsi\", \"d_desired_work_time\", \"d_desired_contract\",\n",
    "       \"d_school_qualification\", \"d_college_qualification\", \"d_disabled\", \"d_subsidy\", \"d_previous_job_sector\",\n",
    "       \"d_desired_job_sector\", \"d_previous_job_experience\"]\n",
    "\n",
    "#Filling NAs!!\n",
    "\n",
    "\n",
    "X[dems] = df[dems].fillna(0)\n",
    "X[\"register_month\"] = df.register_date.dt.month\n",
    "X[\"register_year\"] = df.register_date.dt.year\n",
    "X = pd.get_dummies(X, drop_first=True, dummy_na=True)\n",
    "X.head()\n",
    "\n",
    "# Set output variable\n",
    "\n",
    "Y = df[\"success\"]"
   ]
  },
  {
   "cell_type": "code",
   "execution_count": null,
   "metadata": {},
   "outputs": [],
   "source": [
    "X.columns.tolist()"
   ]
  },
  {
   "cell_type": "code",
   "execution_count": null,
   "metadata": {},
   "outputs": [],
   "source": [
    "# Test/Train split\n",
    "\n",
    "\n",
    "X_train, X_test, y_train, y_test = train_test_split(X, Y, test_size=0.4, random_state=0)"
   ]
  },
  {
   "cell_type": "code",
   "execution_count": null,
   "metadata": {},
   "outputs": [],
   "source": [
    "# Prepare Random Forest pipeline\n",
    "\n",
    "rf_pipeline = Pipeline([\n",
    "    ('rf', RandomForestClassifier(n_estimators=50, n_jobs=-1, random_state=0)),\n",
    "])\n",
    "\n",
    "'''\n",
    "# Prepare Random Forest pipeline with scaling\n",
    "\n",
    "rf__scale_pipeline = Pipeline([\n",
    "    ('scale', StandardScaler()),\n",
    "    ('rf', RandomForestClassifier(n_estimators=50, n_jobs=-1, random_state=0))\n",
    "])\n",
    "'''"
   ]
  },
  {
   "cell_type": "code",
   "execution_count": null,
   "metadata": {},
   "outputs": [],
   "source": [
    "# Grid search\n",
    "\n",
    "big_param_grid = [\n",
    "        {'rf__n_estimators': [1,10,100,1000,10000],\n",
    "         'rf__max_depth': [1,5,10,20,50,100],\n",
    "         'rf__max_features': ['sqrt','log2'],\n",
    "         'rf__min_samples_split': [2,5,10],\n",
    "         'rf__n_jobs': [-1]\n",
    "        },\n",
    "    ]\n",
    "\n",
    "param_grid = [\n",
    "        {'rf__n_estimators': [100,1000],\n",
    "         'rf__max_depth': [2, 3]\n",
    "        },\n",
    "    ]\n",
    "\n",
    "\n",
    "rf_grid_search = GridSearchCV(rf_pipeline, param_grid, cv=3, refit=True)\n",
    "\n",
    "rf_grid_search.fit(X_train, y_train)\n",
    "\n",
    "rf_final_model = rf_grid_search.best_estimator_\n",
    "\n",
    "print(confusion_matrix(y_test, rf_final_model.predict(X_test)))\n",
    "\n",
    "print(accuracy_score(y_test, rf_final_model.predict(X_test)))"
   ]
  },
  {
   "cell_type": "code",
   "execution_count": null,
   "metadata": {},
   "outputs": [],
   "source": [
    "# Permutations\n",
    "\n",
    "print(rf_final_model.predict(X_test.head(10)))\n",
    "print(y_test.head(10))"
   ]
  },
  {
   "cell_type": "code",
   "execution_count": null,
   "metadata": {},
   "outputs": [],
   "source": [
    "combinations = [c for c in itertools.product([0, 1], repeat=16) if sum(c) <= 5]"
   ]
  },
  {
   "cell_type": "code",
   "execution_count": null,
   "metadata": {},
   "outputs": [],
   "source": [
    "combo_df = pd.DataFrame(combinations)"
   ]
  },
  {
   "cell_type": "code",
   "execution_count": null,
   "metadata": {},
   "outputs": [],
   "source": [
    "combo_df.shape"
   ]
  },
  {
   "cell_type": "code",
   "execution_count": null,
   "metadata": {},
   "outputs": [],
   "source": [
    "user_data = X_test.head(1)"
   ]
  },
  {
   "cell_type": "code",
   "execution_count": null,
   "metadata": {},
   "outputs": [],
   "source": [
    "user_data"
   ]
  },
  {
   "cell_type": "code",
   "execution_count": null,
   "metadata": {},
   "outputs": [],
   "source": [
    "user_data_fixed = user_data.drop(user_data.iloc[:,0:16], axis=1)"
   ]
  },
  {
   "cell_type": "code",
   "execution_count": null,
   "metadata": {},
   "outputs": [],
   "source": [
    "user_data_fixed"
   ]
  },
  {
   "cell_type": "code",
   "execution_count": null,
   "metadata": {},
   "outputs": [],
   "source": [
    "user_data_fixed.shape"
   ]
  },
  {
   "cell_type": "code",
   "execution_count": null,
   "metadata": {},
   "outputs": [],
   "source": [
    "user_fixed_df = pd.DataFrame(np.tile(user_data_fixed.values, len(combo_df.index)).reshape(-1,len(user_data_fixed.columns)), \n",
    "                   columns=user_data_fixed.columns)"
   ]
  },
  {
   "cell_type": "code",
   "execution_count": null,
   "metadata": {},
   "outputs": [],
   "source": [
    "user_fixed_df.shape"
   ]
  },
  {
   "cell_type": "code",
   "execution_count": null,
   "metadata": {},
   "outputs": [],
   "source": [
    "predict_df = combo_df.join(user_fixed_df)"
   ]
  },
  {
   "cell_type": "code",
   "execution_count": null,
   "metadata": {},
   "outputs": [],
   "source": [
    "predict_df.shape"
   ]
  },
  {
   "cell_type": "code",
   "execution_count": null,
   "metadata": {},
   "outputs": [],
   "source": [
    "probabilities = pd.DataFrame(rf_final_model.predict_proba(predict_df))"
   ]
  },
  {
   "cell_type": "code",
   "execution_count": null,
   "metadata": {},
   "outputs": [],
   "source": [
    "probabilities.columns = [\"unsuccessful\", \"successful\"]"
   ]
  },
  {
   "cell_type": "code",
   "execution_count": null,
   "metadata": {},
   "outputs": [],
   "source": [
    "results_df = predict_df.join(probabilities)"
   ]
  },
  {
   "cell_type": "code",
   "execution_count": null,
   "metadata": {},
   "outputs": [],
   "source": [
    "results_df.iloc[:,0:16].columns = ['i_job_search_techn',\n",
    " 'i_train_active_life',\n",
    " 'i_tutoring_in_individual_job_search',\n",
    " 'i_professional_internships',\n",
    " 'i_internship_job',\n",
    " 'i_employment-insertion_contract',\n",
    " 'i_employment_contract_insertion',\n",
    " 'i_information_job_eval_orientat',\n",
    " 'i_collective_orientation_session',\n",
    " 'i_tutoring_in_collective_job_search',\n",
    " 'i_efa_s3_type_a',\n",
    " 'i_modular',\n",
    " 'i_efa_n3_vocational_train',\n",
    " 'i_assertive_communication_job_search_techn',\n",
    " 'i_entrepreneurship_skills_job_search_techn',\n",
    " 'i_train_external_entities']"
   ]
  },
  {
   "cell_type": "code",
   "execution_count": null,
   "metadata": {},
   "outputs": [],
   "source": [
    "display(results_df.sort_values(by=['successful'], ascending=False))"
   ]
  },
  {
   "cell_type": "code",
   "execution_count": null,
   "metadata": {},
   "outputs": [],
   "source": [
    "# Prepare LogReg pipeline\n",
    "\n",
    "logreg_pipeline = Pipeline([\n",
    "    ('logreg', LogisticRegression(penalty='l1', C=1e5)),\n",
    "])\n"
   ]
  },
  {
   "cell_type": "code",
   "execution_count": null,
   "metadata": {},
   "outputs": [],
   "source": [
    "# Grid search\n",
    "\n",
    "param_grid = [\n",
    "        {'logreg__penalty': ['l1','l2'],\n",
    "         'logreg__C': [0.00001,0.0001,0.001,0.01,0.1,1,10]\n",
    "        },\n",
    "    ]\n",
    "\n",
    "logreg_grid_search = GridSearchCV(logreg_pipeline, param_grid, cv=3, refit=True)\n",
    "\n",
    "logreg_grid_search.fit(X_train, y_train)\n",
    "\n",
    "logreg_final_model = logreg_grid_search.best_estimator_\n",
    "\n",
    "print(confusion_matrix(y_test, logreg_final_model.predict(X_test)))\n",
    "\n",
    "print(accuracy_score(y_test, logreg_final_model.predict(X_test)))"
   ]
  },
  {
   "cell_type": "code",
   "execution_count": null,
   "metadata": {},
   "outputs": [],
   "source": [
    "# Prepare Gradient boost pipeline\n",
    "\n",
    "gboost_pipeline = Pipeline([\n",
    "    ('gboost', GradientBoostingClassifier(learning_rate=0.05, subsample=0.5, max_depth=6, n_estimators=10)),\n",
    "])"
   ]
  },
  {
   "cell_type": "code",
   "execution_count": null,
   "metadata": {},
   "outputs": [],
   "source": [
    "# Grid search\n",
    "\n",
    "param_grid = [\n",
    "        {'gboost__n_estimators': [1,10,100,1000,10000],\n",
    "         'gboost__learning_rate' : [0.001,0.01,0.05,0.1,0.5],\n",
    "         'gboost__subsample' : [0.1,0.5,1.0],\n",
    "         'gboost__max_depth': [1,3,5,10,20,50,100]\n",
    "        },\n",
    "    ]\n",
    "\n",
    "gboost_grid_search = GridSearchCV(gboost_pipeline, param_grid, cv=3, refit=True)\n",
    "\n",
    "gboost_grid_search.fit(X_train, y_train)\n",
    "\n",
    "gboost_final_model = gboost_grid_search.best_estimator_\n",
    "\n",
    "print(confusion_matrix(y_test, gboost_final_model.predict(X_test)))\n",
    "\n",
    "print(accuracy_score(y_test, gboost_final_model.predict(X_test)))"
   ]
  },
  {
   "cell_type": "code",
   "execution_count": null,
   "metadata": {},
   "outputs": [],
   "source": [
    "# Precision / Recall graph\n",
    "\n",
    "\n",
    "def plot_precision_recall(y_test, y_pred, y_prob):\n",
    "    average_precision = average_precision_score(y_test, y_pred)\n",
    "    precision, recall, _ = precision_recall_curve(y_test, y_prob)\n",
    "    print(\"{} Precision at {} Recall\".format(precision[recall>0.8].max(), 0.8))\n",
    "\n",
    "    step_kwargs = ({'step': 'post'})\n",
    "    plt.step(recall, precision, color='b', alpha=0.2, where='post')\n",
    "    plt.fill_between(recall, precision, alpha=0.2, color='b', **step_kwargs)\n",
    "\n",
    "    plt.xlabel('Recall')\n",
    "    plt.ylabel('Precision')\n",
    "    plt.ylim([0.0, 1.05])\n",
    "    plt.xlim([0.0, 1.0])\n",
    "    plt.title('2-class Precision-Recall curve: AP={0:0.2f}'.format(average_precision))\n",
    "\n",
    "y_pred = pipeline.predict(X_test)\n",
    "y_prob = pipeline.predict_proba(X_test)[:,1]\n",
    "plot_precision_recall(y_test, y_pred, y_prob)"
   ]
  },
  {
   "cell_type": "code",
   "execution_count": null,
   "metadata": {},
   "outputs": [],
   "source": [
    "# Roc curve\n",
    "\n",
    "fpr, tpr, threshold = roc_curve(y_test, y_prob)\n",
    "roc_auc = auc(fpr, tpr)\n",
    "plt.title('Receiver Operating Characteristic')\n",
    "plt.plot(fpr, tpr, 'b', label = 'AUC = %0.2f' % roc_auc)\n",
    "plt.legend(loc = 'lower right')\n",
    "plt.plot([0, 1], [0, 1],'r--')\n",
    "plt.xlim([0, 1])\n",
    "plt.ylim([0, 1])\n",
    "plt.ylabel('True Positive Rate')\n",
    "plt.xlabel('False Positive Rate')\n",
    "plt.show()"
   ]
  },
  {
   "cell_type": "code",
   "execution_count": null,
   "metadata": {},
   "outputs": [],
   "source": [
    "# Feature importance\n",
    "\n",
    "pd.Series(rf.feature_importances_, X_train.columns).sort_values(ascending=False).head(20)"
   ]
  }
 ],
 "metadata": {
  "kernelspec": {
   "display_name": "iefp",
   "language": "python",
   "name": "iefp"
  },
  "language_info": {
   "codemirror_mode": {
    "name": "ipython",
    "version": 3
   },
   "file_extension": ".py",
   "mimetype": "text/x-python",
   "name": "python",
   "nbconvert_exporter": "python",
   "pygments_lexer": "ipython3",
   "version": "3.6.8"
  }
 },
 "nbformat": 4,
 "nbformat_minor": 4
}
