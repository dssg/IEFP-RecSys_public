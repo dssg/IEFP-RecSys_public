{
 "cells": [
  {
   "cell_type": "markdown",
   "metadata": {},
   "source": [
    "## Notebook Magic"
   ]
  },
  {
   "cell_type": "code",
   "execution_count": 1,
   "metadata": {},
   "outputs": [],
   "source": [
    "%matplotlib inline\n",
    "%load_ext autoreload"
   ]
  },
  {
   "cell_type": "markdown",
   "metadata": {},
   "source": [
    "## Imports"
   ]
  },
  {
   "cell_type": "code",
   "execution_count": 2,
   "metadata": {},
   "outputs": [],
   "source": [
    "import os\n",
    "import yaml\n",
    "import pandas as pd\n",
    "from sqlalchemy import *\n",
    "import matplotlib.pyplot as plt\n",
    "import seaborn as sns\n",
    "import numpy as np\n",
    "\n",
    "from iefp import data\n",
    "from iefp import utils\n",
    "from iefp import processing\n",
    "\n",
    "def preview_values(df):\n",
    "    for j in range(len(df.columns)):\n",
    "        values = []\n",
    "        for k in range(len(df)):\n",
    "            df.iloc[k:k+1, j:j+1].isnull().values.any()\n",
    "            if not df.iloc[k:k+1, j:j+1].isnull().values.any():\n",
    "                values.append(\n",
    "                    str(df.iloc[k:k+1, j:j+1].values[0][0]))\n",
    "        print(\n",
    "            str(df.columns[j]) + ': '\n",
    "            + ', '.join(values[0:5]) + '\\n')"
   ]
  },
  {
   "cell_type": "markdown",
   "metadata": {},
   "source": [
    "## SQL Connection"
   ]
  },
  {
   "cell_type": "code",
   "execution_count": 3,
   "metadata": {},
   "outputs": [],
   "source": [
    "pg_cred = yaml.load(open(\"../conf/local/credentials.yml\"), Loader=yaml.FullLoader)"
   ]
  },
  {
   "cell_type": "code",
   "execution_count": 4,
   "metadata": {},
   "outputs": [
    {
     "name": "stderr",
     "output_type": "stream",
     "text": [
      "/home/nathan_cruz/IEFP-RecSys/env/lib/python3.6/site-packages/ipykernel_launcher.py:4: SADeprecationWarning: reflect=True is deprecate; please use the reflect() method.\n",
      "  after removing the cwd from sys.path.\n"
     ]
    }
   ],
   "source": [
    "url = 'postgresql://{}:{}@{}:{}/{}'\n",
    "url = url.format(pg_cred[\"pg_user\"], pg_cred[\"pg_pass\"], pg_cred[\"pg_host\"], 5432, \"iefp\")\n",
    "con = create_engine(url, client_encoding='utf8')\n",
    "meta = MetaData(bind=con, reflect=True)"
   ]
  },
  {
   "cell_type": "markdown",
   "metadata": {},
   "source": [
    "## Get Pedidos Table"
   ]
  },
  {
   "cell_type": "code",
   "execution_count": 5,
   "metadata": {},
   "outputs": [],
   "source": [
    "ped_cols = yaml.load(open(\"../conf/base/sigae_columns.yml\"), Loader=yaml.FullLoader)[\"pedidos\"]\n",
    "table = 'pedidos'"
   ]
  },
  {
   "cell_type": "markdown",
   "metadata": {},
   "source": [
    "## Extract slim pedidos table"
   ]
  },
  {
   "cell_type": "code",
   "execution_count": 6,
   "metadata": {},
   "outputs": [
    {
     "name": "stdout",
     "output_type": "stream",
     "text": [
      "<class 'pandas.core.frame.DataFrame'>\n",
      "RangeIndex: 10000 entries, 0 to 9999\n",
      "Data columns (total 32 columns):\n",
      "ute_id                   10000 non-null float64\n",
      "tipo_movimento           10000 non-null float64\n",
      "data_movimento           10000 non-null datetime64[ns]\n",
      "motivo_inscricao         10000 non-null float64\n",
      "motivo_anulacao          2224 non-null float64\n",
      "motivo_invalidacao       27 non-null object\n",
      "categoria                10000 non-null float64\n",
      "rinsc                    10000 non-null object\n",
      "data_nascimento          10000 non-null datetime64[ns]\n",
      "sexo                     10000 non-null object\n",
      "deficiencia              10000 non-null float64\n",
      "nr_pessoas_cargo         7073 non-null float64\n",
      "formacao_profissional    3054 non-null object\n",
      "carteira_profissional    2749 non-null object\n",
      "habilitacao              10000 non-null object\n",
      "areas_curso              1314 non-null object\n",
      "estado_civil             10000 non-null object\n",
      "origem_registo_utente    10000 non-null object\n",
      "nacionalidade            10000 non-null object\n",
      "freguesia                10000 non-null object\n",
      "centro                   10000 non-null float64\n",
      "centroa                  10000 non-null object\n",
      "pais_emigracao           10 non-null object\n",
      "subsidio                 10000 non-null object\n",
      "rsi                      6970 non-null object\n",
      "ucpp                     9332 non-null object\n",
      "tempo_pratica            9931 non-null float64\n",
      "segmento                 9463 non-null object\n",
      "cpp_pretendida           9874 non-null object\n",
      "local_trabalho           6390 non-null object\n",
      "a_tempo                  10000 non-null object\n",
      "natureza_emprego         10000 non-null object\n",
      "dtypes: datetime64[ns](2), float64(9), object(21)\n",
      "memory usage: 2.4+ MB\n",
      "CPU times: user 135 ms, sys: 14.2 ms, total: 150 ms\n",
      "Wall time: 179 ms\n"
     ]
    }
   ],
   "source": [
    "%%time\n",
    "sql = \"\"\"\n",
    "select {}\n",
    "from {}\n",
    "order by \"ano_mes\" desc\n",
    "limit 10000\n",
    "\"\"\".format(', '.join(ped_cols), \"pedidos\")\n",
    "\n",
    "df = pd.read_sql(sql, con)\n",
    "df.info()"
   ]
  },
  {
   "cell_type": "markdown",
   "metadata": {},
   "source": [
    "# Cleaning"
   ]
  },
  {
   "cell_type": "code",
   "execution_count": 7,
   "metadata": {},
   "outputs": [],
   "source": [
    "def clean(dataframe, bool_list, null_list, cat_list, date_list):\n",
    "    # Replace all None types with Pandas NaNs\n",
    "    for null_val in null_list:\n",
    "        dataframe.replace(to_replace=null_val, value=np.nan, inplace=True)\n",
    "        \n",
    "    # Convert all appropriate column datatypes to int\n",
    "    df_float = dataframe.select_dtypes(exclude=['datetime'])\n",
    "    df_int = df_float.apply(pd.to_numeric, errors='ignore', downcast='integer')\n",
    "    dataframe[df_int.columns] = df_int[df_int.columns]\n",
    "    \n",
    "    # Category convert\n",
    "    dataframe[cat_list] = dataframe[cat_list].astype('category')\n",
    "    \n",
    "    # Boolean convert\n",
    "    dataframe = processing.bool_convert(dataframe, bool_list)\n",
    "    \n",
    "    # Strip time from datetime columns\n",
    "    dataframe = processing.strip_time(dataframe, date_list)\n",
    "    \n",
    "    # Remove duplicates\n",
    "    dataframe = dataframe.drop_duplicates()\n",
    "    return dataframe"
   ]
  },
  {
   "cell_type": "code",
   "execution_count": 8,
   "metadata": {},
   "outputs": [],
   "source": [
    "#preview_values(df)"
   ]
  },
  {
   "cell_type": "code",
   "execution_count": 9,
   "metadata": {},
   "outputs": [],
   "source": [
    "null_list = [[None], '  ']\n",
    "bool_list = [\"rinsc\", \"formacao_profissional\", \"carteira_profissional\", \"rsi\"]\n",
    "cat_list = ['sexo', 'estado_civil', 'origem_registo_utente', 'nacionalidade', \\\n",
    "            'pais_emigracao', 'segmento', 'local_trabalho', 'a_tempo', 'natureza_emprego', 'habilitacao']\n",
    "date_list = ['data_movimento', 'data_nascimento']"
   ]
  },
  {
   "cell_type": "code",
   "execution_count": 10,
   "metadata": {},
   "outputs": [
    {
     "name": "stdout",
     "output_type": "stream",
     "text": [
      "CPU times: user 284 ms, sys: 3.79 ms, total: 288 ms\n",
      "Wall time: 287 ms\n"
     ]
    },
    {
     "data": {
      "text/html": [
       "<div>\n",
       "<style scoped>\n",
       "    .dataframe tbody tr th:only-of-type {\n",
       "        vertical-align: middle;\n",
       "    }\n",
       "\n",
       "    .dataframe tbody tr th {\n",
       "        vertical-align: top;\n",
       "    }\n",
       "\n",
       "    .dataframe thead th {\n",
       "        text-align: right;\n",
       "    }\n",
       "</style>\n",
       "<table border=\"1\" class=\"dataframe\">\n",
       "  <thead>\n",
       "    <tr style=\"text-align: right;\">\n",
       "      <th></th>\n",
       "      <th>ute_id</th>\n",
       "      <th>tipo_movimento</th>\n",
       "      <th>data_movimento</th>\n",
       "      <th>motivo_inscricao</th>\n",
       "      <th>motivo_anulacao</th>\n",
       "      <th>motivo_invalidacao</th>\n",
       "      <th>categoria</th>\n",
       "      <th>rinsc</th>\n",
       "      <th>data_nascimento</th>\n",
       "      <th>sexo</th>\n",
       "      <th>...</th>\n",
       "      <th>pais_emigracao</th>\n",
       "      <th>subsidio</th>\n",
       "      <th>rsi</th>\n",
       "      <th>ucpp</th>\n",
       "      <th>tempo_pratica</th>\n",
       "      <th>segmento</th>\n",
       "      <th>cpp_pretendida</th>\n",
       "      <th>local_trabalho</th>\n",
       "      <th>a_tempo</th>\n",
       "      <th>natureza_emprego</th>\n",
       "    </tr>\n",
       "  </thead>\n",
       "  <tbody>\n",
       "    <tr>\n",
       "      <th>0</th>\n",
       "      <td>6783103</td>\n",
       "      <td>21</td>\n",
       "      <td>2019-05-23</td>\n",
       "      <td>8</td>\n",
       "      <td>NaN</td>\n",
       "      <td>NaN</td>\n",
       "      <td>2</td>\n",
       "      <td>False</td>\n",
       "      <td>1996-07-27</td>\n",
       "      <td>M</td>\n",
       "      <td>...</td>\n",
       "      <td>NaN</td>\n",
       "      <td>24.0</td>\n",
       "      <td>False</td>\n",
       "      <td>93290.0</td>\n",
       "      <td>24.0</td>\n",
       "      <td>RB</td>\n",
       "      <td>93290.0</td>\n",
       "      <td>NaN</td>\n",
       "      <td>C</td>\n",
       "      <td>I</td>\n",
       "    </tr>\n",
       "    <tr>\n",
       "      <th>1</th>\n",
       "      <td>672809</td>\n",
       "      <td>94</td>\n",
       "      <td>2019-05-23</td>\n",
       "      <td>7</td>\n",
       "      <td>NaN</td>\n",
       "      <td>NaN</td>\n",
       "      <td>2</td>\n",
       "      <td>True</td>\n",
       "      <td>1972-02-15</td>\n",
       "      <td>F</td>\n",
       "      <td>...</td>\n",
       "      <td>NaN</td>\n",
       "      <td>8.0</td>\n",
       "      <td>True</td>\n",
       "      <td>96213.0</td>\n",
       "      <td>300.0</td>\n",
       "      <td>RE</td>\n",
       "      <td>96213.0</td>\n",
       "      <td>C</td>\n",
       "      <td>C</td>\n",
       "      <td>P</td>\n",
       "    </tr>\n",
       "    <tr>\n",
       "      <th>2</th>\n",
       "      <td>6477453</td>\n",
       "      <td>43</td>\n",
       "      <td>2019-05-23</td>\n",
       "      <td>12</td>\n",
       "      <td>NaN</td>\n",
       "      <td>NaN</td>\n",
       "      <td>2</td>\n",
       "      <td>True</td>\n",
       "      <td>1993-07-18</td>\n",
       "      <td>F</td>\n",
       "      <td>...</td>\n",
       "      <td>NaN</td>\n",
       "      <td>NaN</td>\n",
       "      <td>False</td>\n",
       "      <td>NaN</td>\n",
       "      <td>0.0</td>\n",
       "      <td>RB</td>\n",
       "      <td>26340.0</td>\n",
       "      <td>NaN</td>\n",
       "      <td>C</td>\n",
       "      <td>P</td>\n",
       "    </tr>\n",
       "    <tr>\n",
       "      <th>3</th>\n",
       "      <td>2616480</td>\n",
       "      <td>11</td>\n",
       "      <td>2019-05-23</td>\n",
       "      <td>12</td>\n",
       "      <td>NaN</td>\n",
       "      <td>NaN</td>\n",
       "      <td>2</td>\n",
       "      <td>True</td>\n",
       "      <td>1959-06-25</td>\n",
       "      <td>M</td>\n",
       "      <td>...</td>\n",
       "      <td>NaN</td>\n",
       "      <td>26.0</td>\n",
       "      <td>True</td>\n",
       "      <td>52230.0</td>\n",
       "      <td>60.0</td>\n",
       "      <td>RM</td>\n",
       "      <td>52230.0</td>\n",
       "      <td>C</td>\n",
       "      <td>C</td>\n",
       "      <td>P</td>\n",
       "    </tr>\n",
       "    <tr>\n",
       "      <th>4</th>\n",
       "      <td>6474193</td>\n",
       "      <td>21</td>\n",
       "      <td>2019-05-23</td>\n",
       "      <td>8</td>\n",
       "      <td>NaN</td>\n",
       "      <td>NaN</td>\n",
       "      <td>2</td>\n",
       "      <td>True</td>\n",
       "      <td>1994-03-04</td>\n",
       "      <td>M</td>\n",
       "      <td>...</td>\n",
       "      <td>NaN</td>\n",
       "      <td>24.0</td>\n",
       "      <td>False</td>\n",
       "      <td>93290.0</td>\n",
       "      <td>30.0</td>\n",
       "      <td>RB</td>\n",
       "      <td>93290.0</td>\n",
       "      <td>NaN</td>\n",
       "      <td>C</td>\n",
       "      <td>I</td>\n",
       "    </tr>\n",
       "  </tbody>\n",
       "</table>\n",
       "<p>5 rows × 32 columns</p>\n",
       "</div>"
      ],
      "text/plain": [
       "    ute_id  tipo_movimento data_movimento  motivo_inscricao  motivo_anulacao  \\\n",
       "0  6783103              21     2019-05-23                 8              NaN   \n",
       "1   672809              94     2019-05-23                 7              NaN   \n",
       "2  6477453              43     2019-05-23                12              NaN   \n",
       "3  2616480              11     2019-05-23                12              NaN   \n",
       "4  6474193              21     2019-05-23                 8              NaN   \n",
       "\n",
       "   motivo_invalidacao  categoria  rinsc data_nascimento sexo  ...  \\\n",
       "0                 NaN          2  False      1996-07-27    M  ...   \n",
       "1                 NaN          2   True      1972-02-15    F  ...   \n",
       "2                 NaN          2   True      1993-07-18    F  ...   \n",
       "3                 NaN          2   True      1959-06-25    M  ...   \n",
       "4                 NaN          2   True      1994-03-04    M  ...   \n",
       "\n",
       "   pais_emigracao  subsidio    rsi     ucpp tempo_pratica segmento  \\\n",
       "0             NaN      24.0  False  93290.0          24.0       RB   \n",
       "1             NaN       8.0   True  96213.0         300.0       RE   \n",
       "2             NaN       NaN  False      NaN           0.0       RB   \n",
       "3             NaN      26.0   True  52230.0          60.0       RM   \n",
       "4             NaN      24.0  False  93290.0          30.0       RB   \n",
       "\n",
       "  cpp_pretendida local_trabalho a_tempo natureza_emprego  \n",
       "0        93290.0            NaN       C                I  \n",
       "1        96213.0              C       C                P  \n",
       "2        26340.0            NaN       C                P  \n",
       "3        52230.0              C       C                P  \n",
       "4        93290.0            NaN       C                I  \n",
       "\n",
       "[5 rows x 32 columns]"
      ]
     },
     "execution_count": 10,
     "metadata": {},
     "output_type": "execute_result"
    }
   ],
   "source": [
    "%%time\n",
    "cleaned_df = clean(df, bool_list, null_list, cat_list, date_list)\n",
    "cleaned_df.head()"
   ]
  },
  {
   "cell_type": "code",
   "execution_count": 11,
   "metadata": {},
   "outputs": [
    {
     "data": {
      "text/plain": [
       "ute_id                            int32\n",
       "tipo_movimento                     int8\n",
       "data_movimento           datetime64[ns]\n",
       "motivo_inscricao                   int8\n",
       "motivo_anulacao                 float64\n",
       "motivo_invalidacao              float64\n",
       "categoria                          int8\n",
       "rinsc                              bool\n",
       "data_nascimento          datetime64[ns]\n",
       "sexo                           category\n",
       "deficiencia                        int8\n",
       "nr_pessoas_cargo                float64\n",
       "formacao_profissional              bool\n",
       "carteira_profissional              bool\n",
       "habilitacao                    category\n",
       "areas_curso                      object\n",
       "estado_civil                   category\n",
       "origem_registo_utente          category\n",
       "nacionalidade                  category\n",
       "freguesia                        object\n",
       "centro                            int16\n",
       "centroa                           int16\n",
       "pais_emigracao                 category\n",
       "subsidio                        float64\n",
       "rsi                                bool\n",
       "ucpp                            float64\n",
       "tempo_pratica                   float64\n",
       "segmento                       category\n",
       "cpp_pretendida                  float64\n",
       "local_trabalho                 category\n",
       "a_tempo                        category\n",
       "natureza_emprego               category\n",
       "dtype: object"
      ]
     },
     "execution_count": 11,
     "metadata": {},
     "output_type": "execute_result"
    }
   ],
   "source": [
    "cleaned_df.dtypes"
   ]
  },
  {
   "cell_type": "code",
   "execution_count": 12,
   "metadata": {},
   "outputs": [
    {
     "name": "stdout",
     "output_type": "stream",
     "text": [
      "<class 'pandas.core.frame.DataFrame'>\n",
      "Int64Index: 9966 entries, 0 to 9999\n",
      "Data columns (total 32 columns):\n",
      "ute_id                   9966 non-null int32\n",
      "tipo_movimento           9966 non-null int8\n",
      "data_movimento           9966 non-null datetime64[ns]\n",
      "motivo_inscricao         9966 non-null int8\n",
      "motivo_anulacao          2224 non-null float64\n",
      "motivo_invalidacao       27 non-null float64\n",
      "categoria                9966 non-null int8\n",
      "rinsc                    9966 non-null bool\n",
      "data_nascimento          9966 non-null datetime64[ns]\n",
      "sexo                     9966 non-null category\n",
      "deficiencia              9966 non-null int8\n",
      "nr_pessoas_cargo         7042 non-null float64\n",
      "formacao_profissional    9966 non-null bool\n",
      "carteira_profissional    9966 non-null bool\n",
      "habilitacao              9966 non-null category\n",
      "areas_curso              1312 non-null object\n",
      "estado_civil             9966 non-null category\n",
      "origem_registo_utente    9966 non-null category\n",
      "nacionalidade            9966 non-null category\n",
      "freguesia                9966 non-null object\n",
      "centro                   9966 non-null int16\n",
      "centroa                  9966 non-null int16\n",
      "pais_emigracao           10 non-null category\n",
      "subsidio                 8154 non-null float64\n",
      "rsi                      9966 non-null bool\n",
      "ucpp                     9302 non-null float64\n",
      "tempo_pratica            9901 non-null float64\n",
      "segmento                 9432 non-null category\n",
      "cpp_pretendida           9840 non-null float64\n",
      "local_trabalho           6376 non-null category\n",
      "a_tempo                  9966 non-null category\n",
      "natureza_emprego         9966 non-null category\n",
      "dtypes: bool(4), category(10), datetime64[ns](2), float64(7), int16(2), int32(1), int8(4), object(2)\n",
      "memory usage: 1.2+ MB\n"
     ]
    }
   ],
   "source": [
    "cleaned_df.info()"
   ]
  },
  {
   "cell_type": "code",
   "execution_count": 13,
   "metadata": {},
   "outputs": [],
   "source": [
    "#preview_values(cleaned_df)"
   ]
  }
 ],
 "metadata": {
  "kernelspec": {
   "display_name": "iefp",
   "language": "python",
   "name": "iefp"
  },
  "language_info": {
   "codemirror_mode": {
    "name": "ipython",
    "version": 3
   },
   "file_extension": ".py",
   "mimetype": "text/x-python",
   "name": "python",
   "nbconvert_exporter": "python",
   "pygments_lexer": "ipython3",
   "version": "3.6.8"
  }
 },
 "nbformat": 4,
 "nbformat_minor": 4
}
