{
 "cells": [
  {
   "cell_type": "markdown",
   "metadata": {},
   "source": [
    "## Notebook Magic"
   ]
  },
  {
   "cell_type": "code",
   "execution_count": null,
   "metadata": {},
   "outputs": [],
   "source": [
    "%matplotlib inline\n",
    "%load_ext autoreload"
   ]
  },
  {
   "cell_type": "markdown",
   "metadata": {},
   "source": [
    "## Imports"
   ]
  },
  {
   "cell_type": "code",
   "execution_count": null,
   "metadata": {},
   "outputs": [],
   "source": [
    "import os\n",
    "import yaml\n",
    "import pandas as pd\n",
    "from sqlalchemy import *\n",
    "import matplotlib.pyplot as plt\n",
    "import seaborn as sns\n",
    "import numpy as np\n",
    "\n",
    "from iefp.processing.cleaning import *\n",
    "\n",
    "'''\n",
    "from iefp import data\n",
    "from iefp import utils\n",
    "def preview_values(df):\n",
    "    for j in range(len(df.columns)):\n",
    "        values = []\n",
    "        for k in range(len(df)):\n",
    "            df.iloc[k:k+1, j:j+1].isnull().values.any()\n",
    "            if not df.iloc[k:k+1, j:j+1].isnull().values.any():\n",
    "                values.append(\n",
    "                    str(df.iloc[k:k+1, j:j+1].values[0][0]))\n",
    "        print(\n",
    "            str(df.columns[j]) + ': '\n",
    "            + ', '.join(values[0:5]) + '\\n')\n",
    "'''"
   ]
  },
  {
   "cell_type": "markdown",
   "metadata": {},
   "source": [
    "## SQL Connection"
   ]
  },
  {
   "cell_type": "code",
   "execution_count": null,
   "metadata": {},
   "outputs": [],
   "source": [
    "pg_cred = yaml.load(open(\"../conf/local/credentials.yml\"), Loader=yaml.FullLoader)"
   ]
  },
  {
   "cell_type": "code",
   "execution_count": null,
   "metadata": {},
   "outputs": [],
   "source": [
    "url = 'postgresql://{}:{}@{}:{}/{}'\n",
    "url = url.format(pg_cred['db'][\"pg_user\"], pg_cred['db'][\"pg_pass\"], pg_cred['db'][\"pg_host\"], 5432, \"iefp\")\n",
    "con = create_engine(url, client_encoding='utf8')\n",
    "meta = MetaData(bind=con, reflect=True)"
   ]
  },
  {
   "cell_type": "markdown",
   "metadata": {},
   "source": [
    "## Get Pedidos Table"
   ]
  },
  {
   "cell_type": "code",
   "execution_count": null,
   "metadata": {},
   "outputs": [],
   "source": [
    "ped_cols = yaml.load(open(\"../conf/base/sigae_columns.yml\"), Loader=yaml.FullLoader)[\"pedidos\"]\n",
    "table = 'pedidos'"
   ]
  },
  {
   "cell_type": "markdown",
   "metadata": {},
   "source": [
    "## Extract slim pedidos table"
   ]
  },
  {
   "cell_type": "code",
   "execution_count": null,
   "metadata": {},
   "outputs": [],
   "source": [
    "%%time\n",
    "sql = \"\"\"\n",
    "select {}\n",
    "from {}\n",
    "order by \"ano_mes\" desc\n",
    "limit 10000\n",
    "\"\"\".format(', '.join(ped_cols), \"pedidos\")\n",
    "\n",
    "df = pd.read_sql(sql, con)\n",
    "df.info()"
   ]
  },
  {
   "cell_type": "markdown",
   "metadata": {},
   "source": [
    "# Cleaning"
   ]
  },
  {
   "cell_type": "code",
   "execution_count": null,
   "metadata": {},
   "outputs": [],
   "source": [
    "def clean(dataframe, bool_list, null_list, cat_list, date_list):\n",
    "    # Replace all None types with Pandas NaNs\n",
    "    for null_val in null_list:\n",
    "        dataframe.replace(to_replace=null_val, value=np.nan, inplace=True)\n",
    "        \n",
    "    # Convert all appropriate column datatypes to int\n",
    "    df_float = dataframe.select_dtypes(exclude=['datetime'])\n",
    "    df_int = df_float.apply(pd.to_numeric, errors='ignore', downcast='integer')\n",
    "    dataframe[df_int.columns] = df_int[df_int.columns]\n",
    "    \n",
    "    # Category convert\n",
    "    dataframe[cat_list] = dataframe[cat_list].astype('category')\n",
    "    \n",
    "    # Boolean convert\n",
    "    dataframe = processing.bool_convert(dataframe, bool_list)\n",
    "    \n",
    "    # Strip time from datetime columns\n",
    "    dataframe = processing.strip_time(dataframe, date_list)\n",
    "    \n",
    "    # Remove duplicates\n",
    "    dataframe = dataframe.drop_duplicates()\n",
    "    return dataframe"
   ]
  },
  {
   "cell_type": "code",
   "execution_count": null,
   "metadata": {},
   "outputs": [],
   "source": [
    "#preview_values(df)"
   ]
  },
  {
   "cell_type": "code",
   "execution_count": null,
   "metadata": {},
   "outputs": [],
   "source": [
    "null_list = [[None], '  ']\n",
    "bool_list = [\"rinsc\", \"formacao_profissional\", \"carteira_profissional\", \"rsi\"]\n",
    "cat_list = ['sexo', 'estado_civil', 'origem_registo_utente', 'nacionalidade', \\\n",
    "            'pais_emigracao', 'segmento', 'local_trabalho', 'a_tempo', 'natureza_emprego', 'habilitacao']\n",
    "date_list = ['data_movimento', 'data_nascimento']"
   ]
  },
  {
   "cell_type": "code",
   "execution_count": null,
   "metadata": {},
   "outputs": [],
   "source": [
    "%%time\n",
    "cleaned_df = clean(df, bool_list, null_list, cat_list, date_list)\n",
    "cleaned_df.head()"
   ]
  },
  {
   "cell_type": "code",
   "execution_count": null,
   "metadata": {},
   "outputs": [],
   "source": [
    "cleaned_df.dtypes"
   ]
  },
  {
   "cell_type": "code",
   "execution_count": null,
   "metadata": {},
   "outputs": [],
   "source": [
    "cleaned_df.info()"
   ]
  },
  {
   "cell_type": "code",
   "execution_count": null,
   "metadata": {},
   "outputs": [],
   "source": [
    "#preview_values(cleaned_df)"
   ]
  },
  {
   "cell_type": "code",
   "execution_count": null,
   "metadata": {},
   "outputs": [],
   "source": [
    "df_clean = pd.read_parquet(\"s3://iefp-unemployment/intermediate/clean/pedidos.parquet\")"
   ]
  },
  {
   "cell_type": "code",
   "execution_count": null,
   "metadata": {},
   "outputs": [],
   "source": [
    "df_inter = pd.read_parquet(\"s3://iefp-unemployment/intermediate/filter/pedidos.parquet\")"
   ]
  },
  {
   "cell_type": "code",
   "execution_count": null,
   "metadata": {},
   "outputs": [],
   "source": [
    "df_clean.info()\n",
    "df_clean.head(30)"
   ]
  }
 ],
 "metadata": {
  "kernelspec": {
   "display_name": "iefp",
   "language": "python",
   "name": "iefp"
  },
  "language_info": {
   "codemirror_mode": {
    "name": "ipython",
    "version": 3
   },
   "file_extension": ".py",
   "mimetype": "text/x-python",
   "name": "python",
   "nbconvert_exporter": "python",
   "pygments_lexer": "ipython3",
   "version": "3.6.8"
  }
 },
 "nbformat": 4,
 "nbformat_minor": 4
}
