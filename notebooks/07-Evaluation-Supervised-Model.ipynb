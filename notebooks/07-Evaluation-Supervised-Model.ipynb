{
 "cells": [
  {
   "cell_type": "markdown",
   "metadata": {},
   "source": [
    "## Notebook Magic"
   ]
  },
  {
   "cell_type": "code",
   "execution_count": 1,
   "metadata": {},
   "outputs": [],
   "source": [
    "%matplotlib inline\n",
    "%load_ext autoreload"
   ]
  },
  {
   "cell_type": "markdown",
   "metadata": {},
   "source": [
    "## Imports"
   ]
  },
  {
   "cell_type": "code",
   "execution_count": 4,
   "metadata": {},
   "outputs": [],
   "source": [
    "import os\n",
    "import yaml\n",
    "import pandas as pd\n",
    "import matplotlib.pyplot as plt\n",
    "import pandas as pd\n",
    "import seaborn as sns\n",
    "import numpy as np"
   ]
  },
  {
   "cell_type": "code",
   "execution_count": 55,
   "metadata": {},
   "outputs": [
    {
     "name": "stdout",
     "output_type": "stream",
     "text": [
      "(219661, 263)\n",
      "(175729, 262)\n",
      "(43932, 262)\n"
     ]
    }
   ],
   "source": [
    "df_modelling = pd.read_parquet(\"s3://iefp-unemployment/modelling/modelling.parquet\")\n",
    "print(df_modelling.shape)\n",
    "df_train = pd.read_parquet(\"s3://iefp-unemployment/modelling/train.parquet\")\n",
    "print(df_train.shape)\n",
    "df_test = pd.read_parquet(\"s3://iefp-unemployment/modelling/test.parquet\")\n",
    "print(df_test.shape)"
   ]
  },
  {
   "cell_type": "markdown",
   "metadata": {},
   "source": [
    "## Whole Dataset"
   ]
  },
  {
   "cell_type": "code",
   "execution_count": 35,
   "metadata": {},
   "outputs": [
    {
     "name": "stdout",
     "output_type": "stream",
     "text": [
      "Mean journey length: 461.60 days\n"
     ]
    },
    {
     "data": {
      "image/png": "[encoded data removed]",
      "text/plain": [
       "<Figure size 432x288 with 1 Axes>"
      ]
     },
     "metadata": {
      "needs_background": "light"
     },
     "output_type": "display_data"
    }
   ],
   "source": [
    "df_modelling.journey_length.hist(bins=50)\n",
    "print(\"Mean journey length: {:.2f} days\".format(df_modelling.journey_length.mean()))"
   ]
  },
  {
   "cell_type": "code",
   "execution_count": 34,
   "metadata": {},
   "outputs": [
    {
     "name": "stdout",
     "output_type": "stream",
     "text": [
      "Mean number of interventions during journey: 1.11\n"
     ]
    }
   ],
   "source": [
    "interv_col = [col for col in df_modelling.columns if \"i_\" in col]\n",
    "print(\"Mean number of interventions during journey: {:.2f}\".format(df_modelling[interv_col].notna().sum(axis=1).mean()))"
   ]
  },
  {
   "cell_type": "markdown",
   "metadata": {},
   "source": [
    "## Training Dataset"
   ]
  },
  {
   "cell_type": "code",
   "execution_count": 30,
   "metadata": {},
   "outputs": [
    {
     "name": "stdout",
     "output_type": "stream",
     "text": [
      "Mean journey length: 436.52 days\n",
      "Mean number of interventions during journey: 1.10\n"
     ]
    },
    {
     "data": {
      "image/png": "[encoded data removed]",
      "text/plain": [
       "<Figure size 432x288 with 1 Axes>"
      ]
     },
     "metadata": {
      "needs_background": "light"
     },
     "output_type": "display_data"
    }
   ],
   "source": [
    "df_train.journey_length.hist(bins=50)\n",
    "print(\"Mean journey length: {:.2f} days\".format(df_train.journey_length.mean()))\n",
    "print(\"Mean number of interventions during journey: {:.2f}\".format(df_train[interv_col].notna().sum(axis=1).mean()))"
   ]
  },
  {
   "cell_type": "markdown",
   "metadata": {},
   "source": [
    "## Testing Dataset"
   ]
  },
  {
   "cell_type": "code",
   "execution_count": 40,
   "metadata": {},
   "outputs": [
    {
     "name": "stdout",
     "output_type": "stream",
     "text": [
      "Mean journey length: 561.92 days\n",
      "Mean number of interventions during journey: 1.16\n"
     ]
    },
    {
     "data": {
      "image/png": "[encoded data removed]",
      "text/plain": [
       "<Figure size 432x288 with 1 Axes>"
      ]
     },
     "metadata": {
      "needs_background": "light"
     },
     "output_type": "display_data"
    }
   ],
   "source": [
    "df_test.journey_length.hist(bins=50)\n",
    "print(\"Mean journey length: {:.2f} days\".format(df_test.journey_length.mean()))\n",
    "print(\"Mean number of interventions during journey: {:.2f}\".format(df_test.notna()[interv_col].sum(axis=1).mean()))"
   ]
  }
 ],
 "metadata": {
  "kernelspec": {
   "display_name": "iefp",
   "language": "python",
   "name": "iefp"
  },
  "language_info": {
   "codemirror_mode": {
    "name": "ipython",
    "version": 3
   },
   "file_extension": ".py",
   "mimetype": "text/x-python",
   "name": "python",
   "nbconvert_exporter": "python",
   "pygments_lexer": "ipython3",
   "version": "3.6.8"
  }
 },
 "nbformat": 4,
 "nbformat_minor": 4
}
