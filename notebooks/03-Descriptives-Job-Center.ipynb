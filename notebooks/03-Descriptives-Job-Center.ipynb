{
 "cells": [
  {
   "cell_type": "markdown",
   "metadata": {},
   "source": [
    "Job Center level objectives:\n",
    "- Average number of counsellors per center (and SD)\n",
    "- Average number of different interventions per centre (and SD)\n",
    "- Top nth (5) interventions per center\n",
    "- Average number of job seekers per center \n"
   ]
  },
  {
   "cell_type": "code",
   "execution_count": null,
   "metadata": {},
   "outputs": [],
   "source": [
    "import os\n",
    "import yaml\n",
    "import pandas as pd\n",
    "import seaborn as sns\n",
    "from pyathena import connect\n",
    "from pyathena.util import as_pandas\n",
    "from sqlalchemy import *\n",
    "\n",
    "%matplotlib inline\n",
    "%load_ext autoreload"
   ]
  },
  {
   "cell_type": "code",
   "execution_count": null,
   "metadata": {},
   "outputs": [],
   "source": [
    "pg_cred = yaml.load(open(\"../conf/local/credentials.yml\"), Loader=yaml.FullLoader)"
   ]
  },
  {
   "cell_type": "code",
   "execution_count": null,
   "metadata": {},
   "outputs": [],
   "source": [
    "url = 'postgresql://{}:{}@{}:{}/{}'\n",
    "url = url.format(pg_cred[\"pg_user\"], pg_cred[\"pg_pass\"], pg_cred[\"pg_host\"], 5432, \"iefp\")\n",
    "\n",
    "# The return value of create_engine() is our connection object\n",
    "con = create_engine(url, client_encoding='utf8')\n",
    "\n",
    "# We then bind the connection to MetaData()\n",
    "meta = MetaData(bind=con, reflect=True)"
   ]
  },
  {
   "cell_type": "markdown",
   "metadata": {},
   "source": [
    "## Count No. of counsellors per center"
   ]
  },
  {
   "cell_type": "code",
   "execution_count": null,
   "metadata": {},
   "outputs": [],
   "source": [
    "sql = \"\"\" \n",
    "select centro, count(distinct(utilizador))\n",
    "from pedidos\n",
    "group by centro \n",
    ";\"\"\"\n",
    "\n",
    "counsellors_center = pd.read_sql(sql, con)"
   ]
  },
  {
   "cell_type": "code",
   "execution_count": null,
   "metadata": {},
   "outputs": [],
   "source": [
    "counsellors_center.head()"
   ]
  },
  {
   "cell_type": "code",
   "execution_count": null,
   "metadata": {},
   "outputs": [],
   "source": [
    "counsellors_center['count'].mean()"
   ]
  },
  {
   "cell_type": "code",
   "execution_count": null,
   "metadata": {},
   "outputs": [],
   "source": [
    "counsellors_center['count'].min()"
   ]
  },
  {
   "cell_type": "code",
   "execution_count": null,
   "metadata": {},
   "outputs": [],
   "source": [
    "counsellors_center['count'].max()"
   ]
  },
  {
   "cell_type": "code",
   "execution_count": null,
   "metadata": {},
   "outputs": [],
   "source": [
    "counsellors_center.shape "
   ]
  },
  {
   "cell_type": "code",
   "execution_count": null,
   "metadata": {},
   "outputs": [],
   "source": [
    "# plot distribution of counsellors by center\n",
    "\n",
    "# order by count\n",
    "\n",
    "order = counsellors_center.sort_values(by= 'count', ascending=False, inplace=False)\n",
    "order.head()\n"
   ]
  },
  {
   "cell_type": "code",
   "execution_count": null,
   "metadata": {},
   "outputs": [],
   "source": [
    "g = sns.barplot(order['centro'].astype('category'),order['count'])"
   ]
  },
  {
   "cell_type": "markdown",
   "metadata": {},
   "source": [
    "## Average number of different interventions per centre (and SD)"
   ]
  },
  {
   "cell_type": "code",
   "execution_count": null,
   "metadata": {},
   "outputs": [],
   "source": [
    "# one for where movement code happened (occured)\n",
    "# and one for where the perosn is registered (recommended) "
   ]
  },
  {
   "cell_type": "code",
   "execution_count": null,
   "metadata": {},
   "outputs": [],
   "source": [
    "# CENTRO_MOVIMENTO              \n",
    "sql = \"\"\" \n",
    "select centro_movimento, count(codigo_intervencao)\n",
    "\n",
    "from intervencoes\n",
    "\n",
    "where ((intervencoes.tipo_movimento > 30) \n",
    "and intervencoes.codigo_intervencao != '0101' \n",
    "and intervencoes.codigo_intervencao != '0102')\n",
    "\n",
    "group by centro_movimento\n",
    ";\"\"\"\n",
    "\n",
    "interv_center = pd.read_sql(sql, con)"
   ]
  },
  {
   "cell_type": "code",
   "execution_count": null,
   "metadata": {},
   "outputs": [],
   "source": [
    "interv_center.sort_values(by= 'count', ascending=False, inplace=True)"
   ]
  },
  {
   "cell_type": "code",
   "execution_count": null,
   "metadata": {},
   "outputs": [],
   "source": [
    "interv_center.head()"
   ]
  },
  {
   "cell_type": "code",
   "execution_count": null,
   "metadata": {},
   "outputs": [],
   "source": [
    "interv_center.dtypes"
   ]
  },
  {
   "cell_type": "code",
   "execution_count": null,
   "metadata": {},
   "outputs": [],
   "source": [
    "interv_center.shape"
   ]
  },
  {
   "cell_type": "code",
   "execution_count": null,
   "metadata": {},
   "outputs": [],
   "source": [
    "interv_center.columns = ['centro','mov_count']"
   ]
  },
  {
   "cell_type": "code",
   "execution_count": null,
   "metadata": {},
   "outputs": [],
   "source": [
    "interv_center['centro']=interv_center['centro'].astype('category')"
   ]
  },
  {
   "cell_type": "code",
   "execution_count": null,
   "metadata": {},
   "outputs": [],
   "source": [
    "# CENTRO                                                \n",
    "sql = \"\"\" \n",
    "select centro, count(codigo_intervencao)\n",
    "\n",
    "from intervencoes\n",
    "\n",
    "where ((intervencoes.tipo_movimento > 30) \n",
    "and intervencoes.codigo_intervencao != '0101' \n",
    "and intervencoes.codigo_intervencao != '0102')\n",
    "\n",
    "group by centro\n",
    ";\"\"\"\n",
    "\n",
    "interv_center_r = pd.read_sql(sql, con)"
   ]
  },
  {
   "cell_type": "code",
   "execution_count": null,
   "metadata": {},
   "outputs": [],
   "source": [
    "interv_center_r.sort_values(by= 'count', ascending=False, inplace=True)"
   ]
  },
  {
   "cell_type": "code",
   "execution_count": null,
   "metadata": {},
   "outputs": [],
   "source": [
    "interv_center_r.centro = interv_center_r['centro'].astype('int')"
   ]
  },
  {
   "cell_type": "code",
   "execution_count": null,
   "metadata": {},
   "outputs": [],
   "source": [
    "interv_center.centro = interv_center['centro'].astype('int')"
   ]
  },
  {
   "cell_type": "code",
   "execution_count": null,
   "metadata": {},
   "outputs": [],
   "source": [
    "interv_center.centro = interv_center.centro.astype('int')"
   ]
  },
  {
   "cell_type": "code",
   "execution_count": null,
   "metadata": {},
   "outputs": [],
   "source": [
    "interv_center.drop(\"center\", axis=1, inplace=True)"
   ]
  },
  {
   "cell_type": "code",
   "execution_count": null,
   "metadata": {},
   "outputs": [],
   "source": [
    "#merge together\n",
    "df_merge = interv_center_r.merge(interv_center,on='centro')\n",
    "df_merge.head()"
   ]
  },
  {
   "cell_type": "code",
   "execution_count": null,
   "metadata": {},
   "outputs": [],
   "source": [
    "interv_center[\"centro\"] = interv_center.center.astype(int)"
   ]
  },
  {
   "cell_type": "code",
   "execution_count": null,
   "metadata": {},
   "outputs": [],
   "source": [
    "interv_center.dtypes"
   ]
  },
  {
   "cell_type": "code",
   "execution_count": null,
   "metadata": {},
   "outputs": [],
   "source": [
    "df_merge = interv_center_r.merge(interv_center, left_on=\"centro\", right_on=\"centro\", how=\"inner\")"
   ]
  },
  {
   "cell_type": "code",
   "execution_count": null,
   "metadata": {},
   "outputs": [],
   "source": [
    "df_merge.head()"
   ]
  },
  {
   "cell_type": "code",
   "execution_count": null,
   "metadata": {},
   "outputs": [],
   "source": [
    "df_merge['centro'] = df_merge['centro'].astype('category')"
   ]
  },
  {
   "cell_type": "code",
   "execution_count": null,
   "metadata": {},
   "outputs": [],
   "source": [
    "df_merge = df_merge.set_index(\"centro\")"
   ]
  },
  {
   "cell_type": "code",
   "execution_count": null,
   "metadata": {},
   "outputs": [],
   "source": [
    "df_merge.columns = ['Registered','Movement']"
   ]
  },
  {
   "cell_type": "code",
   "execution_count": null,
   "metadata": {},
   "outputs": [],
   "source": [
    "import matplotlib as plt\n",
    "ax = df_merge.plot(figsize=(12,8))\n",
    "ax.set(xlabel=\"Center Number\", ylabel=\"Number of interventions\")\n",
    "ax.get_yaxis().set_major_formatter(\n",
    "    plt.ticker.FuncFormatter(lambda x, p: format(int(x), ',')))"
   ]
  },
  {
   "cell_type": "code",
   "execution_count": null,
   "metadata": {},
   "outputs": [],
   "source": [
    "interv_center.reset_index(level=0, inplace=True)\n"
   ]
  },
  {
   "cell_type": "code",
   "execution_count": null,
   "metadata": {},
   "outputs": [],
   "source": [
    "interv_center.head()"
   ]
  },
  {
   "cell_type": "code",
   "execution_count": null,
   "metadata": {},
   "outputs": [],
   "source": [
    "interv_center['centro'] = interv_center['centro'].astype('category')"
   ]
  },
  {
   "cell_type": "code",
   "execution_count": null,
   "metadata": {},
   "outputs": [],
   "source": [
    "interv_center2 = interv_center.set_index(\"centro\")"
   ]
  },
  {
   "cell_type": "code",
   "execution_count": null,
   "metadata": {},
   "outputs": [],
   "source": [
    "interv_center2.columns = ['Movement']"
   ]
  },
  {
   "cell_type": "code",
   "execution_count": null,
   "metadata": {},
   "outputs": [],
   "source": [
    "import matplotlib as plt\n",
    "ax = interv_center2.plot(figsize=(12,8))\n",
    "ax.set(xlabel=\"Center Number\", ylabel=\"Number of interventions\")\n",
    "ax.get_yaxis().set_major_formatter(\n",
    "    plt.ticker.FuncFormatter(lambda x, p: format(int(x), ',')))"
   ]
  },
  {
   "cell_type": "code",
   "execution_count": null,
   "metadata": {},
   "outputs": [],
   "source": [
    "# interv_center_r\n",
    "interv_center_r.head()"
   ]
  },
  {
   "cell_type": "code",
   "execution_count": null,
   "metadata": {},
   "outputs": [],
   "source": [
    "interv_center_r['centro'] = interv_center_r['centro'].astype('category')"
   ]
  },
  {
   "cell_type": "code",
   "execution_count": null,
   "metadata": {},
   "outputs": [],
   "source": [
    "interv_center_r2 = interv_center_r.set_index(\"centro\")"
   ]
  },
  {
   "cell_type": "code",
   "execution_count": null,
   "metadata": {},
   "outputs": [],
   "source": [
    "interv_center_r2.columns = ['Registration']"
   ]
  },
  {
   "cell_type": "code",
   "execution_count": null,
   "metadata": {},
   "outputs": [],
   "source": [
    "import matplotlib as plt\n",
    "ax = interv_center_r2.plot(figsize=(12,8))\n",
    "ax.set(xlabel=\"Center Number\", ylabel=\"Number of interventions\")\n",
    "ax.get_yaxis().set_major_formatter(\n",
    "    plt.ticker.FuncFormatter(lambda x, p: format(int(x), ',')))"
   ]
  },
  {
   "cell_type": "code",
   "execution_count": null,
   "metadata": {},
   "outputs": [],
   "source": [
    "# centro but different codes per centre"
   ]
  },
  {
   "cell_type": "code",
   "execution_count": null,
   "metadata": {},
   "outputs": [],
   "source": [
    "sql = \"\"\" \n",
    "select centro, tipo_movimento, count(codigo_intervencao)\n",
    "\n",
    "from intervencoes\n",
    "\n",
    "where (\n",
    "intervencoes.codigo_intervencao != '0101' \n",
    "and intervencoes.codigo_intervencao != '0102')\n",
    "\n",
    "group by centro, tipo_movimento\n",
    ";\"\"\"\n",
    "\n",
    "interv_types = pd.read_sql(sql, con)"
   ]
  },
  {
   "cell_type": "code",
   "execution_count": null,
   "metadata": {},
   "outputs": [],
   "source": [
    "interv_types.head()"
   ]
  },
  {
   "cell_type": "code",
   "execution_count": null,
   "metadata": {},
   "outputs": [],
   "source": [
    "interv_types['centro'] = interv_types['centro'].astype('category')"
   ]
  },
  {
   "cell_type": "code",
   "execution_count": null,
   "metadata": {},
   "outputs": [],
   "source": [
    "interv_types['tipo_movimento'] = interv_types['tipo_movimento'].astype('category')"
   ]
  },
  {
   "cell_type": "code",
   "execution_count": null,
   "metadata": {},
   "outputs": [],
   "source": [
    "interv_types = interv_types.set_index(\"centro\")"
   ]
  },
  {
   "cell_type": "code",
   "execution_count": null,
   "metadata": {},
   "outputs": [],
   "source": [
    "interv_types.head()"
   ]
  },
  {
   "cell_type": "code",
   "execution_count": null,
   "metadata": {},
   "outputs": [],
   "source": [
    "interv_types['centro'] = interv_types['centro'].astype('int64')"
   ]
  },
  {
   "cell_type": "code",
   "execution_count": null,
   "metadata": {},
   "outputs": [],
   "source": [
    "interv_center.reset_index(level=0, inplace=True)"
   ]
  },
  {
   "cell_type": "code",
   "execution_count": null,
   "metadata": {},
   "outputs": [],
   "source": [
    "interv_types.tipo_movimento = interv_types.tipo_movimento.astype('int64')"
   ]
  },
  {
   "cell_type": "code",
   "execution_count": null,
   "metadata": {},
   "outputs": [],
   "source": [
    "interv_types2 = interv_types # copy"
   ]
  },
  {
   "cell_type": "code",
   "execution_count": null,
   "metadata": {},
   "outputs": [],
   "source": [
    "interv_types.tipo_movimento[interv_types.tipo_movimento == 25] = 'INTERVENTIONS'"
   ]
  },
  {
   "cell_type": "code",
   "execution_count": null,
   "metadata": {},
   "outputs": [],
   "source": [
    "interv_types.tipo_movimento[interv_types.tipo_movimento == 26] = 'REFERRALS'"
   ]
  },
  {
   "cell_type": "code",
   "execution_count": null,
   "metadata": {},
   "outputs": [],
   "source": [
    "interv_types.tipo_movimento[interv_types.tipo_movimento == 27] = 'REFUSALS'"
   ]
  },
  {
   "cell_type": "code",
   "execution_count": null,
   "metadata": {},
   "outputs": [],
   "source": [
    "interv_types.tipo_movimento[interv_types.tipo_movimento == 29] = 'IOP'"
   ]
  },
  {
   "cell_type": "code",
   "execution_count": null,
   "metadata": {},
   "outputs": [],
   "source": [
    "interv_types.tipo_movimento[interv_types.tipo_movimento == 35] = 'OUTCOME'"
   ]
  },
  {
   "cell_type": "code",
   "execution_count": null,
   "metadata": {},
   "outputs": [],
   "source": [
    "interv_types.tipo_movimento[interv_types.tipo_movimento == 36] = 'RESULT_REFERRALS'"
   ]
  },
  {
   "cell_type": "code",
   "execution_count": null,
   "metadata": {},
   "outputs": [],
   "source": [
    "interv_types.tipo_movimento[interv_types.tipo_movimento == 39] = 'RESULT_IOP'"
   ]
  },
  {
   "cell_type": "code",
   "execution_count": null,
   "metadata": {},
   "outputs": [],
   "source": [
    "interv_types.tipo_movimento.value_counts()"
   ]
  },
  {
   "cell_type": "code",
   "execution_count": null,
   "metadata": {},
   "outputs": [],
   "source": [
    "pivot_df = interv_types.pivot(index='centro', columns='tipo_movimento', values='count')\n",
    "pivot_df.head()"
   ]
  },
  {
   "cell_type": "code",
   "execution_count": null,
   "metadata": {},
   "outputs": [],
   "source": [
    "ax = pivot_df.plot.bar(stacked=True, figsize=(16,8))\n",
    "ax.set(xlabel=\"Center Number\", ylabel=\"Number of interventions\")\n",
    "ax.get_yaxis().set_major_formatter(\n",
    "    plt.ticker.FuncFormatter(lambda x, p: format(int(x), ',')))"
   ]
  },
  {
   "cell_type": "code",
   "execution_count": null,
   "metadata": {},
   "outputs": [],
   "source": [
    "interv_types.head()"
   ]
  },
  {
   "cell_type": "code",
   "execution_count": null,
   "metadata": {},
   "outputs": [],
   "source": [
    "# plot referals against interventions\n",
    "types_comp = interv_types[(interv_types.tipo_movimento == 'REFERRALS') | (interv_types.tipo_movimento =='INTERVENTIONS')]\n",
    "types_comp.head()"
   ]
  },
  {
   "cell_type": "code",
   "execution_count": null,
   "metadata": {},
   "outputs": [],
   "source": [
    "pivot_df2 = types_comp.pivot(index='centro', columns='tipo_movimento', values='count')\n",
    "pivot_df2.head()"
   ]
  },
  {
   "cell_type": "code",
   "execution_count": null,
   "metadata": {},
   "outputs": [],
   "source": [
    "ax = pivot_df2.plot.bar(stacked=True, figsize=(16,8))\n",
    "ax.set(xlabel=\"Center Number\", ylabel=\"Number of interventions\")\n",
    "ax.get_yaxis().set_major_formatter(\n",
    "    plt.ticker.FuncFormatter(lambda x, p: format(int(x), ',')))"
   ]
  },
  {
   "cell_type": "code",
   "execution_count": null,
   "metadata": {},
   "outputs": [],
   "source": [
    "#covert to df to do % /diff plot\n",
    "flattened = pd.DataFrame(pivot_df2.to_records())"
   ]
  },
  {
   "cell_type": "code",
   "execution_count": null,
   "metadata": {},
   "outputs": [],
   "source": [
    "flattened.head()"
   ]
  },
  {
   "cell_type": "code",
   "execution_count": null,
   "metadata": {},
   "outputs": [],
   "source": [
    "flattened['total'] = flattened['INTERVENTIONS'] + flattened['REFERRALS']"
   ]
  },
  {
   "cell_type": "code",
   "execution_count": null,
   "metadata": {},
   "outputs": [],
   "source": [
    "flattened['int_perc'] = (flattened['INTERVENTIONS'] / flattened['total']) *100"
   ]
  },
  {
   "cell_type": "code",
   "execution_count": null,
   "metadata": {},
   "outputs": [],
   "source": [
    "flattened['ref_perc'] = (flattened['REFERRALS'] / flattened['total']) *100"
   ]
  },
  {
   "cell_type": "code",
   "execution_count": null,
   "metadata": {},
   "outputs": [],
   "source": [
    "import numpy as np\n",
    "f = flattened.iloc[:,np.r_[0,4,5]]\n",
    "f.head()"
   ]
  },
  {
   "cell_type": "code",
   "execution_count": null,
   "metadata": {},
   "outputs": [],
   "source": [
    "f = f.set_index(\"centro\")"
   ]
  },
  {
   "cell_type": "code",
   "execution_count": null,
   "metadata": {},
   "outputs": [],
   "source": [
    "f.sort_values(by= 'int_perc',ascending=False, inplace=True)"
   ]
  },
  {
   "cell_type": "code",
   "execution_count": null,
   "metadata": {},
   "outputs": [],
   "source": [
    "f.columns = ['Interventions','Referral']"
   ]
  },
  {
   "cell_type": "code",
   "execution_count": null,
   "metadata": {},
   "outputs": [],
   "source": [
    "ax = f.plot.bar(stacked=True, figsize=(16,8))\n",
    "ax.set(xlabel=\"Center Number\", ylabel=\"% of intervention type\")\n",
    "ax.get_yaxis().set_major_formatter(\n",
    "    plt.ticker.FuncFormatter(lambda x, p: format(int(x), ',')))"
   ]
  },
  {
   "cell_type": "code",
   "execution_count": null,
   "metadata": {},
   "outputs": [],
   "source": [
    "# no. of people per center:\n",
    "\n",
    "sql = \"\"\" \n",
    "select centro_intervencao, count(codigo_intervencao)\n",
    "\n",
    "from intervencoes\n",
    "\n",
    "where ((intervencoes.tipo_movimento > 30) \n",
    "and intervencoes.codigo_intervencao != '0101' \n",
    "and intervencoes.codigo_intervencao != '0102')\n",
    "\n",
    "group by centro_intervencao\n",
    ";\"\"\"\n",
    "\n",
    "interv_center_i = pd.read_sql(sql, con)"
   ]
  },
  {
   "cell_type": "code",
   "execution_count": null,
   "metadata": {},
   "outputs": [],
   "source": [
    "# other center codes: ccentro_ins, ccentro "
   ]
  },
  {
   "cell_type": "code",
   "execution_count": null,
   "metadata": {},
   "outputs": [],
   "source": [
    "#CODIGO_INTERVENCAO                                                 \n",
    "sql = \"\"\" \n",
    "select centro_intervencao, count(codigo_intervencao)\n",
    "\n",
    "from intervencoes\n",
    "\n",
    "where ((intervencoes.tipo_movimento > 30) \n",
    "and intervencoes.codigo_intervencao != '0101' \n",
    "and intervencoes.codigo_intervencao != '0102')\n",
    "\n",
    "group by centro_intervencao\n",
    ";\"\"\"\n",
    "\n",
    "interv_center_i = pd.read_sql(sql, con)"
   ]
  },
  {
   "cell_type": "code",
   "execution_count": null,
   "metadata": {},
   "outputs": [],
   "source": [
    "interv_center_i.sort_values(by= 'count', ascending=False, inplace=True)"
   ]
  },
  {
   "cell_type": "code",
   "execution_count": null,
   "metadata": {},
   "outputs": [],
   "source": [
    "interv_center_i.head()"
   ]
  },
  {
   "cell_type": "code",
   "execution_count": null,
   "metadata": {},
   "outputs": [],
   "source": [
    "# With to make it faster?\n",
    "\n",
    "WITH temporaryTable (averageValue) as\n",
    "    (SELECT avg(Attr1)\n",
    "    FROM Table),\n",
    "    SELECT Attr1\n",
    "    FROM Table\n",
    "    WHERE Table.Attr1 > temporaryTable.averageValue;\n",
    "\n",
    "\n",
    "sql = \"\"\" \n",
    "\n",
    "WITH temp as \n",
    "\n",
    "(select distinct ute_id, centro, utilizador from pedidos),\n",
    "\n",
    "select centro, count(distinct(counsellors))\n",
    "\n",
    "group by centro \n",
    "from pedidos\n",
    "\n",
    "where ((intervencoes.tipo_movimento > 30) \n",
    "\n",
    "and intervencoes.codigo_intervencao != '0101' \n",
    "and intervencoes.codigo_intervencao != '0102')\n",
    "\n",
    "group by ano_mes\n",
    "\n",
    "order by ano_mes\n",
    "\n",
    ";\"\"\"\n",
    "\n",
    "\n",
    "\n",
    "interv_time = pd.read_sql(sql, con)"
   ]
  }
 ],
 "metadata": {
  "kernelspec": {
   "display_name": "iefp",
   "language": "python",
   "name": "iefp"
  },
  "language_info": {
   "codemirror_mode": {
    "name": "ipython",
    "version": 3
   },
   "file_extension": ".py",
   "mimetype": "text/x-python",
   "name": "python",
   "nbconvert_exporter": "python",
   "pygments_lexer": "ipython3",
   "version": "3.6.8"
  }
 },
 "nbformat": 4,
 "nbformat_minor": 4
}
