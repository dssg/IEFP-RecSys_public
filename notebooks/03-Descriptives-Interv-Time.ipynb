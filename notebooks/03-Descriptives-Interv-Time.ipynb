{
 "cells": [
  {
   "cell_type": "code",
   "execution_count": null,
   "metadata": {},
   "outputs": [],
   "source": [
    "import os\n",
    "import yaml\n",
    "import pandas as pd\n",
    "from pyathena import connect\n",
    "from pyathena.util import as_pandas\n",
    "from sqlalchemy import *\n",
    "\n",
    "%matplotlib inline\n",
    "%load_ext autoreload"
   ]
  },
  {
   "cell_type": "code",
   "execution_count": null,
   "metadata": {},
   "outputs": [],
   "source": [
    "pg_cred = yaml.load(open(\"../conf/local/credentials.yml\"), Loader=yaml.FullLoader)"
   ]
  },
  {
   "cell_type": "code",
   "execution_count": null,
   "metadata": {},
   "outputs": [],
   "source": [
    "url = 'postgresql://{}:{}@{}:{}/{}'\n",
    "url = url.format(pg_cred[\"pg_user\"], pg_cred[\"pg_pass\"], pg_cred[\"pg_host\"], 5432, \"iefp\")\n",
    "\n",
    "# The return value of create_engine() is our connection object\n",
    "con = create_engine(url, client_encoding='utf8')\n",
    "\n",
    "# We then bind the connection to MetaData()\n",
    "meta = MetaData(bind=con, reflect=True)"
   ]
  },
  {
   "cell_type": "code",
   "execution_count": null,
   "metadata": {},
   "outputs": [],
   "source": [
    "# Interventions over time: >30 means only results\n",
    "\n",
    "sql = \"\"\"select ute_id, ano_mes, codigo_intervencao,\n",
    "\n",
    "resultado_intervencao, dcodigo_interv \n",
    "\n",
    "from intervencoes\n",
    "\n",
    "join tipos_intervencoes\n",
    "\n",
    "on intervencoes.codigo_intervencao = tipos_intervencoes.codigo_interv\n",
    "\n",
    "where ((intervencoes.tipo_movimento > 30) \n",
    "\n",
    "and intervencoes.codigo_intervencao != '0101' \n",
    "and intervencoes.codigo_intervencao != '0102')\n",
    "\n",
    "order by ute_id\n",
    "\n",
    "limit 10;\n",
    ";\"\"\"\n",
    "\n",
    "interv_time = pd.read_sql(sql, con)"
   ]
  },
  {
   "cell_type": "code",
   "execution_count": null,
   "metadata": {},
   "outputs": [],
   "source": [
    "interv_time.head(20)"
   ]
  },
  {
   "cell_type": "code",
   "execution_count": null,
   "metadata": {},
   "outputs": [],
   "source": [
    "\n",
    "sql = \"\"\"select ute_id, ano_mes, codigo_intervencao, intervencoes.tipo_movimento, resultado_intervencao, dcodigo_interv \n",
    "\n",
    "from intervencoes\n",
    "\n",
    "join tipos_intervencoes\n",
    "\n",
    "on intervencoes.codigo_intervencao = tipos_intervencoes.codigo_interv\n",
    "\n",
    "order by ute_id, ano_mes\n",
    "\n",
    "limit 10;\n",
    ";\"\"\"\n",
    "\n",
    "interv = pd.read_sql(sql, con)"
   ]
  },
  {
   "cell_type": "code",
   "execution_count": null,
   "metadata": {},
   "outputs": [],
   "source": [
    "interv.head(10)"
   ]
  },
  {
   "cell_type": "code",
   "execution_count": null,
   "metadata": {},
   "outputs": [],
   "source": [
    "# count (only) interventions per month where not PPE and = 35\n",
    "sql = \"\"\"select ano_mes, count(codigo_intervencao)\n",
    "\n",
    "from intervencoes\n",
    "\n",
    "where ((intervencoes.tipo_movimento = 35) \n",
    "\n",
    "and intervencoes.codigo_intervencao != '0101' \n",
    "and intervencoes.codigo_intervencao != '0102')\n",
    "\n",
    "group by ano_mes\n",
    "\n",
    "order by ano_mes\n",
    "\n",
    ";\"\"\"\n",
    "\n",
    "interv_time = pd.read_sql(sql, con)"
   ]
  },
  {
   "cell_type": "code",
   "execution_count": null,
   "metadata": {},
   "outputs": [],
   "source": [
    "interv_time.head(20)"
   ]
  },
  {
   "cell_type": "code",
   "execution_count": null,
   "metadata": {},
   "outputs": [],
   "source": [
    "interv_time[\"ano_mes\"] = pd.to_datetime(interv_time[\"ano_mes\"].astype(\"int\").astype(\"str\"), format=\"%Y%m\")\n",
    "interv_time.columns = [\"Date\", \"Interventions\"]\n",
    "interv_time = interv_time.set_index(\"Date\")"
   ]
  },
  {
   "cell_type": "code",
   "execution_count": null,
   "metadata": {},
   "outputs": [],
   "source": [
    "interv_time.plot(figsize=(12,8), title=\"Monthly Intervention Counts\")"
   ]
  },
  {
   "cell_type": "code",
   "execution_count": null,
   "metadata": {},
   "outputs": [],
   "source": [
    "# count results interventions per month where not PPE and not >30\n",
    "sql = \"\"\"select ano_mes, count(codigo_intervencao)\n",
    "\n",
    "from intervencoes\n",
    "\n",
    "join tipos_intervencoes\n",
    "\n",
    "on intervencoes.codigo_intervencao = tipos_intervencoes.codigo_interv\n",
    "\n",
    "where ((intervencoes.tipo_movimento > 30) \n",
    "\n",
    "and intervencoes.codigo_intervencao != '0101' \n",
    "and intervencoes.codigo_intervencao != '0102')\n",
    "\n",
    "order by ute_id\n",
    "\n",
    "limit 10;\n",
    ";\"\"\"\n",
    "\n",
    "interv_time = pd.read_sql(sql, con)"
   ]
  }
 ],
 "metadata": {
  "kernelspec": {
   "display_name": "iefp",
   "language": "python",
   "name": "iefp"
  },
  "language_info": {
   "codemirror_mode": {
    "name": "ipython",
    "version": 3
   },
   "file_extension": ".py",
   "mimetype": "text/x-python",
   "name": "python",
   "nbconvert_exporter": "python",
   "pygments_lexer": "ipython3",
   "version": "3.6.8"
  }
 },
 "nbformat": 4,
 "nbformat_minor": 4
}
