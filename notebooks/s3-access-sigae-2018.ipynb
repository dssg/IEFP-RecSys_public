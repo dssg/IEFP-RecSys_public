{
 "cells": [
  {
   "cell_type": "code",
   "execution_count": 44,
   "metadata": {},
   "outputs": [],
   "source": [
    "import os\n",
    "import yaml\n",
    "import pandas as pd\n",
    "import s3fs\n",
    "import matplotlib.pyplot as plt"
   ]
  },
  {
   "cell_type": "code",
   "execution_count": 49,
   "metadata": {},
   "outputs": [
    {
     "name": "stderr",
     "output_type": "stream",
     "text": [
      "/Users/nathancruzcoulson/DSSG/IEFP-RecSys/env/lib/python3.7/site-packages/ipykernel_launcher.py:1: YAMLLoadWarning: calling yaml.load() without Loader=... is deprecated, as the default Loader is unsafe. Please read https://msg.pyyaml.org/load for full details.\n",
      "  \"\"\"Entry point for launching an IPython kernel.\n"
     ]
    }
   ],
   "source": [
    "aws_cred = yaml.load(open(\"../conf/local/credentials.yml\"))"
   ]
  },
  {
   "cell_type": "code",
   "execution_count": 50,
   "metadata": {},
   "outputs": [],
   "source": [
    "s3 = s3fs.S3FileSystem(key=aws_cred['dssg']['aws_access_key_id'], secret=aws_cred['dssg']['aws_secret_access_key'])"
   ]
  },
  {
   "cell_type": "code",
   "execution_count": 51,
   "metadata": {},
   "outputs": [],
   "source": [
    "s3_path = \"s3://iefp-unemployment/SIGAE/JOIN_TABLES_PER_YEAR_2018.csv\""
   ]
  },
  {
   "cell_type": "code",
   "execution_count": 52,
   "metadata": {},
   "outputs": [
    {
     "data": {
      "text/plain": [
       "['iefp-unemployment/SIGAE/JOIN_TABLES_PER_YEAR_2018.csv']"
      ]
     },
     "execution_count": 52,
     "metadata": {},
     "output_type": "execute_result"
    }
   ],
   "source": [
    "s3.ls(s3_path)"
   ]
  },
  {
   "cell_type": "code",
   "execution_count": 53,
   "metadata": {},
   "outputs": [],
   "source": [
    "sigae_2018 = pd.read_csv(s3_path)"
   ]
  },
  {
   "cell_type": "code",
   "execution_count": 27,
   "metadata": {},
   "outputs": [
    {
     "data": {
      "text/plain": [
       "Index(['UTE_ID', 'CENTER', 'SNAPSHOT_DATE', 'START_DATE', 'END_DATE',\n",
       "       'UNEMPLOYMENT_LENGTH_TO_DATE', 'REGISTR_REASON', 'ONLINE_REGISTR_FLAG',\n",
       "       'REGISTR_ACC', 'UNVAILABLE_COUNT_ACC', 'WAS_UNAVAILABLE_FLAG',\n",
       "       'LAST_EXIT_REASON', 'CENTR_REGIST_CAND', 'CENTR_UNEMP_CAND',\n",
       "       'CENTR_ATTENDANCE', 'CENTR_PRESENTAT', 'CENTR_AVG_JOBS_CAND',\n",
       "       'CENTR_AVG_PRESENT_CAND', 'PRES_REF_ENT_ACC',\n",
       "       'PRES_REF_CAND_UNJUST_ACC', 'PRES_REF_CAND_JUST_ACC', 'TOTAL_PRES_ACC',\n",
       "       'SUCCESS_PRES_COUNT', 'PRESENTATIONS_LASTMONTH',\n",
       "       'PRESENTATIONS_LAST3MONTHS', 'CONV_UNJUST_REFUSAL', 'CONV_ATTENDED',\n",
       "       'CONV_JUST_REFUSAL', 'TOTAL_CONV', 'SUMMONS_LASTMONTH',\n",
       "       'SUMMONS_LAST3MONTHS', 'INTERV_ACC', 'ROUT_ACC', 'INT_FINISHED_ACC',\n",
       "       'INT_ENT_REFUSAL_ACC', 'INT_INSUCCESS_ACC', 'INT_INTEGRATED_ACC',\n",
       "       'INT_REORIENTED_ACC', 'INT_EMPLOYM_ACC', 'INT_PROF_ORIENT_ACC',\n",
       "       'INT_RVCC_ACC', 'INT_JOB_CREAT_ACC', 'INT_TRAIN_JOB_ACC',\n",
       "       'INT_OCUP_ACT_ACC', 'INT_PROF_REHAB_ACC', 'INT_PROF_TRAIN_ACC',\n",
       "       'INT_VIDA_ACT_ACC', 'INT_OTHER_INT_ACC', 'INTERV_LASTMONTH',\n",
       "       'INTERV_LAST3MONTHS', 'ROUT_LASTMONTH', 'ROUT_LAST3MONTHS',\n",
       "       'SUB_CESS_ACC', 'SUB_SUSP_ACC', 'SUB_EMPLOY_ACC', 'SUB_NONCOMPL_ACC',\n",
       "       'HAD_SUBSIDY_ANY_FLAG', 'HAD_SUBSIDY_DESEMPREGO_FLAG',\n",
       "       'HAD_SUBSIDY_SOCIAL_FLAG', 'HAD_SUBSIDY_PARCIAL_FLAG',\n",
       "       'HAS_SUBSIDY_ANY_FLAG', 'HAS_SUBSIDY_DESEMPREGO_FLAG',\n",
       "       'HAS_SUBSIDY_SOCIAL_FLAG', 'HAS_SUBSIDY_PARCIAL_FLAG', 'FREGUESIA',\n",
       "       'NATIONALITY', 'FEMALE', 'EDUCATION', 'QUALIFICATION', 'TRAINING_AREA',\n",
       "       'DISABILITY', 'MARITAL_STATUS', 'RSI', 'AGE', 'DEPENDENTS', 'CHILDREN',\n",
       "       'DESIRED_PROFESSION_CNP', 'DESIRED_PROFESSION_CPP',\n",
       "       'PREVIOUS_EXPERIENCE_DESIRED_JOB', 'PREVIOUS_EXPERIENCE_LAST_JOB',\n",
       "       'PPE_FLAG', 'PPE_BEFORE_FLAG', 'PROF_LICENSE', 'PROF_TRAINING',\n",
       "       'LAST_PROFESSION_CNP', 'LAST_PROFESSION_CPP', 'LAST_CAE',\n",
       "       'PART_TIME_FLAG', 'PERMANENT_CONTRACT_FLAG'],\n",
       "      dtype='object')"
      ]
     },
     "execution_count": 27,
     "metadata": {},
     "output_type": "execute_result"
    }
   ],
   "source": [
    "sigae_2018.columns"
   ]
  },
  {
   "cell_type": "code",
   "execution_count": 29,
   "metadata": {},
   "outputs": [
    {
     "data": {
      "text/plain": [
       "0      INCUMP\n",
       "1      INCUMP\n",
       "2      INCUMP\n",
       "3     UNKNOWN\n",
       "4     UNKNOWN\n",
       "5      OUTROS\n",
       "6      INCUMP\n",
       "7      INCUMP\n",
       "8     UNKNOWN\n",
       "9        EMIG\n",
       "10    UNKNOWN\n",
       "11    UNKNOWN\n",
       "12     INCUMP\n",
       "13    UNKNOWN\n",
       "14    UNKNOWN\n",
       "15    UNKNOWN\n",
       "16     INCUMP\n",
       "17    UNKNOWN\n",
       "18     INCUMP\n",
       "19     INCUMP\n",
       "Name: LAST_EXIT_REASON, dtype: object"
      ]
     },
     "execution_count": 29,
     "metadata": {},
     "output_type": "execute_result"
    }
   ],
   "source": [
    "sigae_2018['LAST_EXIT_REASON'].head(20)"
   ]
  },
  {
   "cell_type": "code",
   "execution_count": 30,
   "metadata": {},
   "outputs": [
    {
     "data": {
      "text/plain": [
       "UNKNOWN      1095618\n",
       "INCUMP        782713\n",
       "MERC_TRAB     325890\n",
       "OUTROS         75852\n",
       "EMIG           42563\n",
       "RECUSA         10493\n",
       "INAT            5607\n",
       "PROG_EMPR       5073\n",
       "FORM_PROF       4091\n",
       "Name: LAST_EXIT_REASON, dtype: int64"
      ]
     },
     "execution_count": 30,
     "metadata": {},
     "output_type": "execute_result"
    }
   ],
   "source": [
    "sigae_2018['LAST_EXIT_REASON'].value_counts()"
   ]
  },
  {
   "cell_type": "code",
   "execution_count": 32,
   "metadata": {},
   "outputs": [
    {
     "data": {
      "text/plain": [
       "558017"
      ]
     },
     "execution_count": 32,
     "metadata": {},
     "output_type": "execute_result"
    }
   ],
   "source": [
    "sigae_2018['UTE_ID'].nunique()"
   ]
  },
  {
   "cell_type": "code",
   "execution_count": 35,
   "metadata": {},
   "outputs": [
    {
     "data": {
      "text/plain": [
       "2347900"
      ]
     },
     "execution_count": 35,
     "metadata": {},
     "output_type": "execute_result"
    }
   ],
   "source": [
    "sigae_2018['UTE_ID'].count()"
   ]
  },
  {
   "cell_type": "code",
   "execution_count": 37,
   "metadata": {},
   "outputs": [
    {
     "data": {
      "text/plain": [
       "23.766642531624004"
      ]
     },
     "execution_count": 37,
     "metadata": {},
     "output_type": "execute_result"
    }
   ],
   "source": [
    "(sigae_2018['UTE_ID'].nunique()/sigae_2018['UTE_ID'].count())*100"
   ]
  },
  {
   "cell_type": "code",
   "execution_count": 43,
   "metadata": {},
   "outputs": [
    {
     "data": {
      "text/plain": [
       "(array([113000, 206828, 184640, 193305, 199750, 201512, 245088, 167521,\n",
       "        186332, 649924]),\n",
       " array([3.8000000e+01, 6.8240190e+05, 1.3647658e+06, 2.0471297e+06,\n",
       "        2.7294936e+06, 3.4118575e+06, 4.0942214e+06, 4.7765853e+06,\n",
       "        5.4589492e+06, 6.1413131e+06, 6.8236770e+06]))"
      ]
     },
     "execution_count": 43,
     "metadata": {},
     "output_type": "execute_result"
    }
   ],
   "source": [
    "import numpy as np\n",
    "np.histogram(sigae_2018['UTE_ID'])"
   ]
  },
  {
   "cell_type": "code",
   "execution_count": 48,
   "metadata": {},
   "outputs": [
    {
     "data": {
      "text/plain": [
       "6257441    515\n",
       "6248367    131\n",
       "6024115     44\n",
       "6467974     40\n",
       "3261656     40\n",
       "6478763     40\n",
       "5979283     40\n",
       "5540776     37\n",
       "2954312     36\n",
       "6359121     36\n",
       "894567      36\n",
       "6357304     36\n",
       "6209864     36\n",
       "4410879     36\n",
       "6625798     36\n",
       "112068      36\n",
       "6509360     36\n",
       "2396408     34\n",
       "4818073     33\n",
       "6346314     33\n",
       "2066204     32\n",
       "4280993     32\n",
       "6618814     32\n",
       "6623155     32\n",
       "2411229     32\n",
       "2573821     31\n",
       "3018309     31\n",
       "18258       30\n",
       "6496494     30\n",
       "3542471     30\n",
       "          ... \n",
       "5241454      1\n",
       "920144       1\n",
       "1282531      1\n",
       "5726589      1\n",
       "5736800      1\n",
       "5685577      1\n",
       "1399098      1\n",
       "4140148      1\n",
       "3763388      1\n",
       "3917033      1\n",
       "6733638      1\n",
       "6730375      1\n",
       "6533092      1\n",
       "2181049      1\n",
       "6414250      1\n",
       "6328192      1\n",
       "6768505      1\n",
       "6805355      1\n",
       "6707035      1\n",
       "6719297      1\n",
       "3225015      1\n",
       "6620977      1\n",
       "6653729      1\n",
       "6557456      1\n",
       "2825970      1\n",
       "2805448      1\n",
       "2696885      1\n",
       "2960948      1\n",
       "3010092      1\n",
       "6756576      1\n",
       "Name: UTE_ID, Length: 558017, dtype: int64"
      ]
     },
     "execution_count": 48,
     "metadata": {},
     "output_type": "execute_result"
    }
   ],
   "source": [
    "sigae_2018['UTE_ID'].value_counts()"
   ]
  },
  {
   "cell_type": "code",
   "execution_count": null,
   "metadata": {},
   "outputs": [],
   "source": []
  }
 ],
 "metadata": {
  "kernelspec": {
   "display_name": "iefp",
   "language": "python",
   "name": "iefp"
  },
  "language_info": {
   "codemirror_mode": {
    "name": "ipython",
    "version": 3
   },
   "file_extension": ".py",
   "mimetype": "text/x-python",
   "name": "python",
   "nbconvert_exporter": "python",
   "pygments_lexer": "ipython3",
   "version": "3.7.3"
  }
 },
 "nbformat": 4,
 "nbformat_minor": 2
}
