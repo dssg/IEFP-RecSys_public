{
 "cells": [
  {
   "cell_type": "markdown",
   "metadata": {},
   "source": [
    "## Imports"
   ]
  },
  {
   "cell_type": "code",
   "execution_count": 1,
   "metadata": {},
   "outputs": [],
   "source": [
    "import os\n",
    "import yaml\n",
    "import pandas as pd\n",
    "import s3fs\n",
    "import matplotlib.pyplot as plt"
   ]
  },
  {
   "cell_type": "markdown",
   "metadata": {},
   "source": [
    "## Load CSVs from S3"
   ]
  },
  {
   "cell_type": "code",
   "execution_count": 2,
   "metadata": {},
   "outputs": [],
   "source": [
    "aws_cred = yaml.load(open(\"../conf/local/credentials.yml\"), Loader=yaml.FullLoader)"
   ]
  },
  {
   "cell_type": "code",
   "execution_count": 3,
   "metadata": {},
   "outputs": [],
   "source": [
    "s3 = s3fs.S3FileSystem(key=aws_cred['dssg']['aws_access_key_id'], secret=aws_cred['dssg']['aws_secret_access_key'])"
   ]
  },
  {
   "cell_type": "code",
   "execution_count": 4,
   "metadata": {},
   "outputs": [],
   "source": [
    "table_names = [\"ESTGESTOR_EMP_OFERTAS.csv\",\n",
    "            \"ESTGESTOR_EMP_PEDIDOS.csv\",\n",
    "            \"ESTGESTOR_MOV_APRESENTADOS.csv\",\n",
    "            \"ESTGESTOR_MOV_CONTROLADOS.csv\",\n",
    "            \"ESTGESTOR_MOV_CONVOCADOS.csv\",\n",
    "            \"ESTGESTOR_MOV_INTERVENCOES.csv\",\n",
    "            \"ESTGESTOR_MOV_OCUPACOES.csv\",\n",
    "            \"ESTGESTOR_MOV_REC_INTERNACIONAL.csv\",\n",
    "            \"ESTGESTOR_MOV_RMG.csv\",\n",
    "            \"ESTGESTOR_MOV_UTENTES.csv\",\n",
    "            \"ESTGESTOR_RESP_OFERTAS.csv\",\n",
    "            \"ESTUSER_GDE_OFERTAS.csv\",\n",
    "            \"ESTUSER_GDE_UTENTES.csv\",]\n",
    "\n",
    "s3_path_template = \"s3://iefp-unemployment/SIGAE/{}\""
   ]
  },
  {
   "cell_type": "code",
   "execution_count": 5,
   "metadata": {},
   "outputs": [],
   "source": [
    "tables = dict()\n",
    "\n",
    "for name in table_names:\n",
    "    tables.update({name.strip(\".csv\"): pd.read_csv(s3_path_template.format(name))})"
   ]
  },
  {
   "cell_type": "markdown",
   "metadata": {},
   "source": [
    "## Translate Column Names"
   ]
  },
  {
   "cell_type": "code",
   "execution_count": 6,
   "metadata": {},
   "outputs": [],
   "source": [
    "# Load data dictionary\n",
    "column_dict = yaml.load(open('../references/SIGAE_dict.yaml'),Loader=yaml.FullLoader)"
   ]
  },
  {
   "cell_type": "code",
   "execution_count": 7,
   "metadata": {},
   "outputs": [],
   "source": [
    "import sys\n",
    "src_dir = os.path.join(os.getcwd(), '..', 'src')\n",
    "sys.path.append(src_dir)\n",
    "\n",
    "from d01_data.translation import translate_columns"
   ]
  },
  {
   "cell_type": "code",
   "execution_count": 8,
   "metadata": {},
   "outputs": [],
   "source": [
    "dfs_translated = translate_columns(tables.values(), column_dict[\"SIGAE_DICT\"])\n",
    "tables = dict(zip(table_names, dfs_translated))"
   ]
  }
 ],
 "metadata": {
  "kernelspec": {
   "display_name": "iefp",
   "language": "python",
   "name": "iefp"
  },
  "language_info": {
   "codemirror_mode": {
    "name": "ipython",
    "version": 3
   },
   "file_extension": ".py",
   "mimetype": "text/x-python",
   "name": "python",
   "nbconvert_exporter": "python",
   "pygments_lexer": "ipython3",
   "version": "3.6.5"
  }
 },
 "nbformat": 4,
 "nbformat_minor": 2
}
