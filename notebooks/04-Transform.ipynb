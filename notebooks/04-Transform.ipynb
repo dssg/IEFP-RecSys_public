{
 "cells": [
  {
   "cell_type": "markdown",
   "metadata": {},
   "source": [
    "## Notebook Magic"
   ]
  },
  {
   "cell_type": "code",
   "execution_count": null,
   "metadata": {},
   "outputs": [],
   "source": [
    "%matplotlib inline\n",
    "%load_ext autoreload"
   ]
  },
  {
   "cell_type": "markdown",
   "metadata": {},
   "source": [
    "## Imports"
   ]
  },
  {
   "cell_type": "code",
   "execution_count": null,
   "metadata": {},
   "outputs": [],
   "source": [
    "import os\n",
    "import yaml\n",
    "import pandas as pd\n",
    "import matplotlib.pyplot as plt\n",
    "import pandas as pd\n",
    "import seaborn as sns\n",
    "import numpy as np"
   ]
  },
  {
   "cell_type": "markdown",
   "metadata": {},
   "source": [
    "## Get Pedidos Table"
   ]
  },
  {
   "cell_type": "code",
   "execution_count": null,
   "metadata": {},
   "outputs": [],
   "source": [
    "df = pd.read_parquet(\"s3://iefp-unemployment/intermediate/clean/pedidos.parquet\")"
   ]
  },
  {
   "cell_type": "markdown",
   "metadata": {},
   "source": [
    "## Transform"
   ]
  },
  {
   "cell_type": "code",
   "execution_count": null,
   "metadata": {},
   "outputs": [],
   "source": [
    "df.shape"
   ]
  },
  {
   "cell_type": "code",
   "execution_count": null,
   "metadata": {},
   "outputs": [],
   "source": [
    "df = df[[\"ute_id\",\n",
    "\"data_movimento\",\n",
    "\"tipo_movimento\",\n",
    "\"motivo_inscricao\",\n",
    "\"motivo_anulacao\",\n",
    "\"estado\",\n",
    "\"categoria\",\n",
    "]]\n",
    "df = df[df.tipo_movimento.isin([11, 21, 31, 43])]"
   ]
  },
  {
   "cell_type": "code",
   "execution_count": null,
   "metadata": {},
   "outputs": [],
   "source": [
    "df = df.sort_values([\"ute_id\", \"data_movimento\"], ascending=True)"
   ]
  },
  {
   "cell_type": "code",
   "execution_count": null,
   "metadata": {},
   "outputs": [],
   "source": [
    "df.head()"
   ]
  },
  {
   "cell_type": "code",
   "execution_count": null,
   "metadata": {},
   "outputs": [],
   "source": [
    "df[\"start_journey\"] = (\n",
    "    ((df.tipo_movimento == 11) & df.categoria.isin([1, 2]))\n",
    "    | ((df.tipo_movimento == 11) & df.motivo_inscricao == 17)\n",
    "    | ((df.tipo_movimento == 43) & df.categoria.isin([1, 2]))\n",
    "    | ((df.tipo_movimento == 43) & df.motivo_inscricao == 17)\n",
    ")\n",
    "df[\"end_journey\"] = (\n",
    "    (df.tipo_movimento == 21)\n",
    "    | (df.tipo_movimento == 31)\n",
    "    | ((df.tipo_movimento == 43) & df.categoria.isin([3, 4]))\n",
    ")\n",
    "\n",
    "df.loc[df.start_journey == True, \"journey\"] = \"start\"\n",
    "df.loc[df.end_journey == True, \"journey\"] = \"end\"\n",
    "df[\"journey_count\"] = df.groupby(\"ute_id\")[\"end_journey\"].cumsum() - df[\"end_journey\"] + 1\n",
    "df = df.drop([\"start_journey\", \"end_journey\"], axis='columns')"
   ]
  },
  {
   "cell_type": "code",
   "execution_count": null,
   "metadata": {},
   "outputs": [],
   "source": [
    "df_j = df.pivot_table(index=[\"ute_id\", \"journey_count\"], columns=\"journey\", aggfunc=\"first\")"
   ]
  },
  {
   "cell_type": "code",
   "execution_count": null,
   "metadata": {},
   "outputs": [],
   "source": [
    "df_j.columns = [\"_\".join(col).strip() for col in df_j.columns.values]\n",
    "df_j = df_j.reset_index()\n",
    "print(df_j.shape)"
   ]
  },
  {
   "cell_type": "code",
   "execution_count": null,
   "metadata": {},
   "outputs": [],
   "source": [
    "df_j.head()"
   ]
  },
  {
   "cell_type": "code",
   "execution_count": null,
   "metadata": {},
   "outputs": [],
   "source": [
    "df_j = df_j[df_j.data_movimento_end.notna() & df_j.data_movimento_start.notna()]\n",
    "print(df_j.shape)"
   ]
  },
  {
   "cell_type": "code",
   "execution_count": null,
   "metadata": {},
   "outputs": [],
   "source": [
    "print(df_j.shape)\n",
    "df_j = df_j[df_j.estado_start == \"ACT\"]\n",
    "print(df_j.shape)"
   ]
  },
  {
   "cell_type": "code",
   "execution_count": null,
   "metadata": {},
   "outputs": [],
   "source": [
    "df_j = df_j[\n",
    "    [\n",
    "        \"ute_id\",\n",
    "        \"journey_count\",\n",
    "        \"data_movimento_start\",\n",
    "        \"data_movimento_end\",\n",
    "        \"tipo_movimento_start\",\n",
    "        \"tipo_movimento_end\",\n",
    "        \"categoria_start\",\n",
    "        \"categoria_end\",\n",
    "        \"motivo_inscricao_start\",\n",
    "        \"motivo_anulacao_end\",\n",
    "    ]\n",
    "]\n",
    "df_j.columns = [\n",
    "    \"user_id\",\n",
    "    \"journey_count\",\n",
    "    \"register_date\",\n",
    "    \"exit_date\",\n",
    "    \"register_movement\",\n",
    "    \"exit_movement\",\n",
    "    \"register_category\",\n",
    "    \"exit_category\",\n",
    "    \"register_reason\",\n",
    "    \"exit_reason\",\n",
    "]\n",
    "df_j.head()"
   ]
  },
  {
   "cell_type": "markdown",
   "metadata": {},
   "source": [
    "### Recount journeys"
   ]
  },
  {
   "cell_type": "code",
   "execution_count": null,
   "metadata": {},
   "outputs": [],
   "source": [
    "df_j.journey_count = 1\n",
    "df_j[\"journey_count\"] = df_j.groupby([\"user_id\"])[\"journey_count\"].cumsum()\n",
    "df_j.head()"
   ]
  },
  {
   "cell_type": "code",
   "execution_count": null,
   "metadata": {},
   "outputs": [],
   "source": [
    "df_j.head()"
   ]
  },
  {
   "cell_type": "markdown",
   "metadata": {},
   "source": [
    "## Check special cases"
   ]
  },
  {
   "cell_type": "markdown",
   "metadata": {},
   "source": [
    "#### One-day journeys"
   ]
  },
  {
   "cell_type": "code",
   "execution_count": null,
   "metadata": {},
   "outputs": [],
   "source": [
    "df_j[df_j.register_date.dt.date == df_j.exit_date.dt.date].shape"
   ]
  },
  {
   "cell_type": "code",
   "execution_count": null,
   "metadata": {},
   "outputs": [],
   "source": [
    "df_j[df_j.register_date.dt.date == df_j.exit_date.dt.date].head()"
   ]
  },
  {
   "cell_type": "code",
   "execution_count": null,
   "metadata": {},
   "outputs": [],
   "source": []
  },
  {
   "cell_type": "markdown",
   "metadata": {},
   "source": [
    "#### End/Start at same day"
   ]
  },
  {
   "cell_type": "code",
   "execution_count": null,
   "metadata": {},
   "outputs": [],
   "source": [
    "df_j[\"prev_exit\"] = df_j.shift(1)[\"exit_date\"]"
   ]
  },
  {
   "cell_type": "code",
   "execution_count": null,
   "metadata": {},
   "outputs": [],
   "source": [
    "df_j[df_j.prev_exit.dt.date == df_j.register_date.dt.date].shape"
   ]
  },
  {
   "cell_type": "code",
   "execution_count": null,
   "metadata": {},
   "outputs": [],
   "source": [
    "df_j[df_j.prev_exit.dt.date == df_j.register_date.dt.date].head()"
   ]
  },
  {
   "cell_type": "code",
   "execution_count": null,
   "metadata": {},
   "outputs": [],
   "source": [
    "df[df.ute_id == 604]"
   ]
  },
  {
   "cell_type": "markdown",
   "metadata": {},
   "source": [
    "## Journey stats"
   ]
  },
  {
   "cell_type": "code",
   "execution_count": null,
   "metadata": {},
   "outputs": [],
   "source": [
    "df_j.groupby(\"user_id\")[\"journey_count\"].max().value_counts().head(10)"
   ]
  },
  {
   "cell_type": "code",
   "execution_count": null,
   "metadata": {},
   "outputs": [],
   "source": [
    "df_j.groupby(\"user_id\")[\"journey_count\"].max().mean()"
   ]
  },
  {
   "cell_type": "code",
   "execution_count": null,
   "metadata": {},
   "outputs": [],
   "source": [
    "df_j.groupby(\"user_id\")[\"journey_count\"].max().median()"
   ]
  },
  {
   "cell_type": "markdown",
   "metadata": {},
   "source": [
    "## Filter data"
   ]
  },
  {
   "cell_type": "code",
   "execution_count": null,
   "metadata": {},
   "outputs": [],
   "source": [
    "print(df_t.shape)\n",
    "df_t = df_t[df_t[\"journey_count\"] > 0]\n",
    "print(df_t.shape)\n",
    "df_t = df_t[(df_t[\"data_movimento_21\"].notna()) | (df_t[\"data_movimento_31\"].notna())]\n",
    "print(df_t.shape)"
   ]
  },
  {
   "cell_type": "markdown",
   "metadata": {},
   "source": [
    "## Transform with dates"
   ]
  },
  {
   "cell_type": "code",
   "execution_count": null,
   "metadata": {},
   "outputs": [],
   "source": [
    "df_t = transform(df, \"first\")\n",
    "df_t.head()"
   ]
  },
  {
   "cell_type": "code",
   "execution_count": null,
   "metadata": {},
   "outputs": [],
   "source": [
    "df_t[df_t[\"data_movimento_11\"].dt.date == df_t[\"data_movimento_21\"].dt.date]"
   ]
  }
 ],
 "metadata": {
  "kernelspec": {
   "display_name": "iefp",
   "language": "python",
   "name": "iefp"
  },
  "language_info": {
   "codemirror_mode": {
    "name": "ipython",
    "version": 3
   },
   "file_extension": ".py",
   "mimetype": "text/x-python",
   "name": "python",
   "nbconvert_exporter": "python",
   "pygments_lexer": "ipython3",
   "version": "3.6.8"
  }
 },
 "nbformat": 4,
 "nbformat_minor": 4
}
