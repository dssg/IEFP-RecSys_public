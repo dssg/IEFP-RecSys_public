{
 "cells": [
  {
   "cell_type": "markdown",
   "metadata": {},
   "source": [
    "## Notebook Magic"
   ]
  },
  {
   "cell_type": "code",
   "execution_count": null,
   "metadata": {},
   "outputs": [],
   "source": [
    "%matplotlib inline\n",
    "%load_ext autoreload"
   ]
  },
  {
   "cell_type": "markdown",
   "metadata": {},
   "source": [
    "## Imports"
   ]
  },
  {
   "cell_type": "code",
   "execution_count": null,
   "metadata": {},
   "outputs": [],
   "source": [
    "import os\n",
    "import yaml\n",
    "import pandas as pd\n",
    "import matplotlib.pyplot as plt\n",
    "import pandas as pd\n",
    "import seaborn as sns\n",
    "import numpy as np"
   ]
  },
  {
   "cell_type": "markdown",
   "metadata": {},
   "source": [
    "## Get Pedidos Table"
   ]
  },
  {
   "cell_type": "code",
   "execution_count": null,
   "metadata": {},
   "outputs": [],
   "source": [
    "df = pd.read_parquet(\"s3://iefp-unemployment/intermediate/clean/pedidos.parquet\")"
   ]
  },
  {
   "cell_type": "code",
   "execution_count": null,
   "metadata": {},
   "outputs": [],
   "source": [
    "df = df.sort_values([\"ute_id\", \"data_movimento\"])"
   ]
  },
  {
   "cell_type": "code",
   "execution_count": null,
   "metadata": {},
   "outputs": [],
   "source": [
    "end_count = len(df[df[\"tipo_movimento\"].isin([21, 31])])\n",
    "start_count = len(df[df[\"tipo_movimento\"] == 11])\n",
    "print(start_count)\n",
    "print(end_count)"
   ]
  },
  {
   "cell_type": "code",
   "execution_count": null,
   "metadata": {},
   "outputs": [],
   "source": [
    "df_dem = df.copy()\n",
    "df_dem = df_dem[df_dem[\"tipo_movimento\"] == 11]\n",
    "df_dem[\"data_movimento\"] = df_dem[\"data_movimento\"].dt.date\n",
    "df_dem = df_dem.groupby([\"ute_id\", \"data_movimento\"]).first()\n",
    "print(df_dem.shape)\n",
    "df_dem = df_dem.drop_duplicates()\n",
    "print(df_dem.shape)\n",
    "df_dem.describe(include='all')"
   ]
  },
  {
   "cell_type": "code",
   "execution_count": null,
   "metadata": {},
   "outputs": [],
   "source": [
    "df_t = df.loc[df[\"tipo_movimento\"].isin([\"11\", \"21\", \"31\"]), [\"ute_id\", \"data_movimento\", \"tipo_movimento\", \"motivo_inscricao\", \"motivo_anulacao\"]].copy()\n",
    "df_t[\"journey_start\"] = df_t[\"tipo_movimento\"] == 11\n",
    "df_t['journey_count'] = df_t.groupby(\"ute_id\")[\"journey_start\"].cumsum()\n",
    "df_t[\"tipo_movimento\"] = df_t[\"tipo_movimento\"].astype(np.int64).astype('str')\n",
    "\n",
    "# Note: What about multiple registers (21) at the same day?\n",
    "# Note: What about cases where multiple exits (31, 21) after each other?\n",
    "# Note: What about cases where exit is successful vocational training? In newer times these people just go to 'busy'\n",
    "df_t = df_t.pivot_table(index = ['ute_id', 'journey_count'], columns = 'tipo_movimento', aggfunc=np.min)\n",
    "df_t.columns = ['_'.join(col).strip() for col in df_t.columns.values]\n",
    "df_t = df_t.reset_index()"
   ]
  },
  {
   "cell_type": "code",
   "execution_count": null,
   "metadata": {},
   "outputs": [],
   "source": [
    "cols = ['ute_id',\n",
    " 'journey_count',\n",
    " 'data_movimento_11',\n",
    " 'data_movimento_21',\n",
    " 'data_movimento_31',\n",
    " 'motivo_anulacao_31',\n",
    " 'motivo_inscricao_11',\n",
    "]\n",
    "t_cols = ['user_id', 'journey_count', 'register_date', 'exit_date_21', 'exit_date_31', 'exit_reason', 'register_reason']\n",
    "df_t = df_t[cols]\n",
    "df_t.columns = t_cols"
   ]
  },
  {
   "cell_type": "code",
   "execution_count": null,
   "metadata": {},
   "outputs": [],
   "source": [
    "print(df_t.shape)\n",
    "df_t = df_t[df_t[\"journey_count\"] > 0]\n",
    "df_t = df_t[(df_t[\"exit_date_21\"].notna()) | (df_t[\"exit_date_31\"].notna())]\n",
    "print(df_t.shape)"
   ]
  }
 ],
 "metadata": {
  "kernelspec": {
   "display_name": "iefp",
   "language": "python",
   "name": "iefp"
  },
  "language_info": {
   "codemirror_mode": {
    "name": "ipython",
    "version": 3
   },
   "file_extension": ".py",
   "mimetype": "text/x-python",
   "name": "python",
   "nbconvert_exporter": "python",
   "pygments_lexer": "ipython3",
   "version": "3.6.8"
  }
 },
 "nbformat": 4,
 "nbformat_minor": 4
}
