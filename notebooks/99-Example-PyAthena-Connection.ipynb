{
 "cells": [
  {
   "cell_type": "markdown",
   "metadata": {},
   "source": [
    "# PyAthena"
   ]
  },
  {
   "cell_type": "markdown",
   "metadata": {},
   "source": [
    "## Imports"
   ]
  },
  {
   "cell_type": "code",
   "execution_count": 25,
   "metadata": {},
   "outputs": [],
   "source": [
    "import os\n",
    "import yaml\n",
    "import pandas as pd\n",
    "from pyathena import connect\n",
    "from pyathena.util import as_pandas"
   ]
  },
  {
   "cell_type": "code",
   "execution_count": 26,
   "metadata": {},
   "outputs": [],
   "source": [
    "aws_cred = yaml.load(open(\"../conf/local/credentials.yml\"), Loader=yaml.FullLoader)"
   ]
  },
  {
   "cell_type": "markdown",
   "metadata": {},
   "source": [
    "## Athena connection"
   ]
  },
  {
   "cell_type": "code",
   "execution_count": 27,
   "metadata": {},
   "outputs": [
    {
     "data": {
      "text/plain": [
       "<pyathena.cursor.Cursor at 0x112810358>"
      ]
     },
     "execution_count": 27,
     "metadata": {},
     "output_type": "execute_result"
    }
   ],
   "source": [
    "# Basic connection\n",
    "\n",
    "cursor = connect(aws_access_key_id=aws_cred['dssg']['aws_access_key_id'],\n",
    "                 aws_secret_access_key=aws_cred['dssg']['aws_secret_access_key'],\n",
    "                 s3_staging_dir='s3://iefp-unemployment/SIGAE/', \n",
    "                 region_name='eu-west-2').cursor()\n",
    "\n",
    "cursor.execute(\"SELECT * FROM sigae.tipos_intervencoes LIMIT 5;\")"
   ]
  },
  {
   "cell_type": "code",
   "execution_count": 28,
   "metadata": {},
   "outputs": [
    {
     "name": "stdout",
     "output_type": "stream",
     "text": [
      "  codigo_interv    ito_eco                      dcodigo_interv    tipo  \\\n",
      "0          None  \"ITO_ECO\"                    \"DCODIGO_INTERV\"  \"TIPO\"   \n",
      "1          None        ECO  FEG -  FORMAÇÃO PROFISSIONAL - TIC           \n",
      "2          None        ITO  FEG -  FORMAÇÃO PROFISSIONAL - TIC     RES   \n",
      "3          None        ECO   FEG - FORMAÇÃO PROFISSIONAL - EMP           \n",
      "4          None        ITO   FEG - FORMAÇÃO PROFISSIONAL - EMP     RES   \n",
      "\n",
      "     eco_obrigatorio    cdo_obrigatorio    ppe_obrigatorio  \\\n",
      "0  \"ECO_OBRIGATORIO\"  \"CDO_OBRIGATORIO\"  \"PPE_OBRIGATORIO\"   \n",
      "1                                     S                      \n",
      "2                  S                  S                      \n",
      "3                                                            \n",
      "4                  S                  S                      \n",
      "\n",
      "     cdo_act_obrigatorio    dfa_obrigatoria    sso_obrigatorio    sso_nulo  \\\n",
      "0  \"CDO_ACT_OBRIGATORIO\"  \"DFA_OBRIGATORIA\"  \"SSO_OBRIGATORIO\"  \"SSO_NULO\"   \n",
      "1                      N                                                     \n",
      "2                      N                                                     \n",
      "3                                                                            \n",
      "4                      N                                                     \n",
      "\n",
      "     possi_eco_simultaneo    accao_form_obrigatoria    grupo_sieg  \\\n",
      "0  \"POSSI_ECO_SIMULTANEO\"  \"ACCAO_FORM_OBRIGATORIA\"  \"GRUPO_SIEG\"   \n",
      "1                       N                         N          \"07\"   \n",
      "2                       N                         N          \"07\"   \n",
      "3                       N                         N          \"07\"   \n",
      "4                       N                         N          \"07\"   \n",
      "\n",
      "               descricao    risco_elevado    risco_medio    risco_baixo  \\\n",
      "0            \"DESCRICAO\"  \"RISCO_ELEVADO\"  \"RISCO_MEDIO\"  \"RISCO_BAIXO\"   \n",
      "1  Formação Profissional                                                  \n",
      "2  Formação Profissional                N              N              N   \n",
      "3  Formação Profissional                                                  \n",
      "4  Formação Profissional                N              N              N   \n",
      "\n",
      "     tipo_movimento  \n",
      "0  \"TIPO_MOVIMENTO\"  \n",
      "1              \"36\"  \n",
      "2              \"35\"  \n",
      "3              \"36\"  \n",
      "4              \"35\"  \n"
     ]
    }
   ],
   "source": [
    "# Load to DataFrame\n",
    "\n",
    "df = as_pandas(cursor)\n",
    "\n",
    "print(df.head(10))"
   ]
  },
  {
   "cell_type": "code",
   "execution_count": 29,
   "metadata": {},
   "outputs": [
    {
     "name": "stdout",
     "output_type": "stream",
     "text": [
      "('codigo_interv', 'integer', None, None, 10, 0, 'UNKNOWN')\n",
      "('ito_eco', 'varchar', None, None, 2147483647, 0, 'UNKNOWN')\n",
      "('dcodigo_interv', 'varchar', None, None, 2147483647, 0, 'UNKNOWN')\n",
      "('tipo', 'varchar', None, None, 2147483647, 0, 'UNKNOWN')\n",
      "('eco_obrigatorio', 'varchar', None, None, 2147483647, 0, 'UNKNOWN')\n",
      "('cdo_obrigatorio', 'varchar', None, None, 2147483647, 0, 'UNKNOWN')\n",
      "('ppe_obrigatorio', 'varchar', None, None, 2147483647, 0, 'UNKNOWN')\n",
      "('cdo_act_obrigatorio', 'varchar', None, None, 2147483647, 0, 'UNKNOWN')\n",
      "('dfa_obrigatoria', 'varchar', None, None, 2147483647, 0, 'UNKNOWN')\n",
      "('sso_obrigatorio', 'varchar', None, None, 2147483647, 0, 'UNKNOWN')\n",
      "('sso_nulo', 'varchar', None, None, 2147483647, 0, 'UNKNOWN')\n",
      "('possi_eco_simultaneo', 'varchar', None, None, 2147483647, 0, 'UNKNOWN')\n",
      "('accao_form_obrigatoria', 'varchar', None, None, 2147483647, 0, 'UNKNOWN')\n",
      "('grupo_sieg', 'varchar', None, None, 2147483647, 0, 'UNKNOWN')\n",
      "('descricao', 'varchar', None, None, 2147483647, 0, 'UNKNOWN')\n",
      "('risco_elevado', 'varchar', None, None, 2147483647, 0, 'UNKNOWN')\n",
      "('risco_medio', 'varchar', None, None, 2147483647, 0, 'UNKNOWN')\n",
      "('risco_baixo', 'varchar', None, None, 2147483647, 0, 'UNKNOWN')\n",
      "('tipo_movimento', 'varchar', None, None, 2147483647, 0, 'UNKNOWN')\n",
      "[None, None, None, None, None, None, None, None, None, None, None, None, None, None, None, None, None, None, None]\n",
      "[]\n"
     ]
    }
   ],
   "source": [
    "# Cursor description connection\n",
    "\n",
    "print([print(lst) for lst in cursor.description])\n",
    "print(cursor.fetchall())"
   ]
  },
  {
   "cell_type": "code",
   "execution_count": 30,
   "metadata": {},
   "outputs": [
    {
     "name": "stdout",
     "output_type": "stream",
     "text": [
      "(None, '\"ITO_ECO\"', '\"DCODIGO_INTERV\"', '\"TIPO\"', '\"ECO_OBRIGATORIO\"', '\"CDO_OBRIGATORIO\"', '\"PPE_OBRIGATORIO\"', '\"CDO_ACT_OBRIGATORIO\"', '\"DFA_OBRIGATORIA\"', '\"SSO_OBRIGATORIO\"', '\"SSO_NULO\"', '\"POSSI_ECO_SIMULTANEO\"', '\"ACCAO_FORM_OBRIGATORIA\"', '\"GRUPO_SIEG\"', '\"DESCRICAO\"', '\"RISCO_ELEVADO\"', '\"RISCO_MEDIO\"', '\"RISCO_BAIXO\"', '\"TIPO_MOVIMENTO\"')\n",
      "(None, 'ECO', 'FEG -  FORMAÇÃO PROFISSIONAL - TIC', '', '', 'S', '', 'N', '', '', '', 'N', 'N', '\"07\"', 'Formação Profissional', '', '', '', '\"36\"')\n",
      "(None, 'ITO', 'FEG -  FORMAÇÃO PROFISSIONAL - TIC', 'RES', 'S', 'S', '', 'N', '', '', '', 'N', 'N', '\"07\"', 'Formação Profissional', 'N', 'N', 'N', '\"35\"')\n",
      "(None, 'ECO', 'FEG - FORMAÇÃO PROFISSIONAL - EMP', '', '', '', '', '', '', '', '', 'N', 'N', '\"07\"', 'Formação Profissional', '', '', '', '\"36\"')\n",
      "(None, 'ITO', 'FEG - FORMAÇÃO PROFISSIONAL - EMP', 'RES', 'S', 'S', '', 'N', '', '', '', 'N', 'N', '\"07\"', 'Formação Profissional', 'N', 'N', 'N', '\"35\"')\n"
     ]
    }
   ],
   "source": [
    "# Iterate over rows\n",
    "\n",
    "cursor.execute(\"SELECT * FROM sigae.tipos_intervencoes LIMIT 5;\")\n",
    "\n",
    "for row in cursor:\n",
    "    print(row)"
   ]
  },
  {
   "cell_type": "code",
   "execution_count": 32,
   "metadata": {},
   "outputs": [
    {
     "name": "stdout",
     "output_type": "stream",
     "text": [
      "[('RES',), ('RES',), ('RES',), ('RES',), ('RES',)]\n"
     ]
    }
   ],
   "source": [
    "# Execute query\n",
    "\n",
    "cursor.execute(\"\"\"\n",
    "               SELECT TIPO FROM sigae.tipos_intervencoes\n",
    "               WHERE TIPO = %(param)s\n",
    "               LIMIT 5\n",
    "               \"\"\", {'param': 'RES'})\n",
    "print(cursor.fetchall())"
   ]
  },
  {
   "cell_type": "code",
   "execution_count": null,
   "metadata": {},
   "outputs": [],
   "source": []
  }
 ],
 "metadata": {
  "kernelspec": {
   "display_name": "iefp",
   "language": "python",
   "name": "iefp"
  },
  "language_info": {
   "codemirror_mode": {
    "name": "ipython",
    "version": 3
   },
   "file_extension": ".py",
   "mimetype": "text/x-python",
   "name": "python",
   "nbconvert_exporter": "python",
   "pygments_lexer": "ipython3",
   "version": "3.7.3"
  }
 },
 "nbformat": 4,
 "nbformat_minor": 2
}
