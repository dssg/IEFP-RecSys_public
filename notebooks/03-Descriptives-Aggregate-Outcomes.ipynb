{
 "cells": [
  {
   "cell_type": "code",
   "execution_count": null,
   "metadata": {},
   "outputs": [],
   "source": [
    "import yaml\n",
    "import pandas as pd\n",
    "from sqlalchemy import *\n",
    "import numpy as np\n",
    "import datetime\n",
    "import matplotlib.pyplot as plt\n",
    "import numpy as np\n",
    "import seaborn as sns\n",
    "sns.set()\n",
    "\n",
    "%matplotlib inline\n",
    "%load_ext autoreload"
   ]
  },
  {
   "cell_type": "code",
   "execution_count": null,
   "metadata": {},
   "outputs": [],
   "source": [
    "pg_cred = yaml.load(open(\"../conf/local/credentials.yml\"), Loader=yaml.FullLoader)\n"
   ]
  },
  {
   "cell_type": "code",
   "execution_count": null,
   "metadata": {},
   "outputs": [],
   "source": [
    "exit_map = yaml.load(open(\"../conf/base/exit_mappings.yml\"), Loader=yaml.FullLoader)"
   ]
  },
  {
   "cell_type": "code",
   "execution_count": null,
   "metadata": {},
   "outputs": [],
   "source": [
    "url = 'postgresql://{}:{}@{}:{}/{}'\n",
    "url = url.format(pg_cred[\"pg_user\"], pg_cred[\"pg_pass\"], pg_cred[\"pg_host\"], 5432, \"iefp\")\n",
    "\n",
    "# The return value of create_engine() is our connection object\n",
    "con = create_engine(url, client_encoding='utf8')\n",
    "\n",
    "# We then bind the connection to MetaData()\n",
    "meta = MetaData(bind=con, reflect=True)"
   ]
  },
  {
   "cell_type": "code",
   "execution_count": null,
   "metadata": {},
   "outputs": [],
   "source": [
    "%%time\n",
    "target_table = Table('pedidos', meta, autoload=True, autoload_with=con)\n",
    "\n",
    "# stmt = sqlalchemy.select(col_lst)\n",
    "\n",
    "stmt = select([target_table.c.ano_mes, target_table.c.motivo_anulacao, func.count(target_table.c.motivo_anulacao)])\n",
    "\n",
    "stmt = stmt.where(target_table.columns.tipo_movimento == 31)\n",
    "\n",
    "stmt = stmt.group_by(target_table.columns.ano_mes, target_table.columns.motivo_anulacao)\n",
    "\n",
    "stmt = stmt.order_by(target_table.columns.ano_mes, desc(func.count(target_table.c.motivo_anulacao)))\n",
    "\n",
    "results = con.execute(stmt).fetchall()\n",
    "\n",
    "df = pd.read_sql(stmt, con)\n",
    "df.info()"
   ]
  },
  {
   "cell_type": "code",
   "execution_count": null,
   "metadata": {},
   "outputs": [],
   "source": [
    "months = df['ano_mes'].unique()"
   ]
  },
  {
   "cell_type": "code",
   "execution_count": null,
   "metadata": {},
   "outputs": [],
   "source": [
    "df.head(10)"
   ]
  },
  {
   "cell_type": "markdown",
   "metadata": {},
   "source": [
    "# Exit reasons by Category"
   ]
  },
  {
   "cell_type": "code",
   "execution_count": null,
   "metadata": {},
   "outputs": [],
   "source": [
    "exit_col_names = [\"MONTH\", \"EMIGRATION\", \"EMPLOY_PROG\", \"FAILURE\", \"INACTIVITY\", \"LAB_MARK_INT\", \"OTHER\", \"REFUSALS\", \"VOCA_TRAIN_INT\"]\n",
    "rows = []\n",
    "for month in months:\n",
    "    df_month = df[df['ano_mes'] == month]\n",
    "    reason_cat_month = df_month.iloc[:,2:4].groupby(['exit_cat']).sum()['count_1'].tolist()\n",
    "    reason_cat_month.insert(0, month)\n",
    "    rows.append(reason_cat_month)\n",
    "\n",
    "exit_cat_df = pd.DataFrame(rows, columns=exit_col_names)\n",
    "    \n",
    "exit_cat_df.head(10)"
   ]
  },
  {
   "cell_type": "code",
   "execution_count": null,
   "metadata": {},
   "outputs": [],
   "source": [
    "exit_cat_df['MONTH'] = pd.to_datetime(exit_cat_df['MONTH'].astype('int').astype(\"str\"), format='%Y%m')\n",
    "exit_cat_df = exit_cat_df.set_index('MONTH')\n",
    "\n",
    "exit_cat_df = exit_cat_df.rolling(3).mean()\n",
    "\n",
    "exit_cat_df.plot(figsize=(16,8))\n",
    "plt.xlabel(\"Month\", labelpad=14)\n",
    "plt.ylabel(\"Number of people exiting\", labelpad=14)\n",
    "plt.title(\"IEFP Exit Reasons by category\", y=1.02)"
   ]
  },
  {
   "cell_type": "markdown",
   "metadata": {},
   "source": [
    "# Top 5 exit reasons"
   ]
  },
  {
   "cell_type": "code",
   "execution_count": null,
   "metadata": {},
   "outputs": [],
   "source": [
    "def map_exit_cat(code):\n",
    "    cat = exit_map[code]\n",
    "    return cat\n",
    "\n",
    "df['exit_cat'] = df['motivo_anulacao'].apply(map_exit_cat)\n",
    "\n",
    "df_month = df[df['ano_mes'] == 201003.0]\n",
    "df_month.iloc[:,2:4].groupby(['exit_cat']).sum()['count_1'].tolist()\n",
    "df_month.iloc[:,2:4].groupby(['exit_cat']).sum()"
   ]
  },
  {
   "cell_type": "code",
   "execution_count": null,
   "metadata": {},
   "outputs": [],
   "source": [
    "col_names = [\"month\", \"self_place\", \"no_notice\", \"lack_control\", \"emigration\", \"center_trans\", \"employ_prog\"]\n",
    "cols =  [20.0, 11.0, 12.0, 44.0, 80.0, 62.0]\n",
    "\n",
    "rows = []\n",
    "for month in months:\n",
    "    df_month = df[df['ano_mes'] == month]\n",
    "    freq = []\n",
    "    for col in cols:\n",
    "        freq.append(df_month[df_month['motivo_anulacao'] == col]['count_1'].values[0])\n",
    "    freq.insert(0, month)\n",
    "    rows.append(freq)\n",
    "    \n",
    "reason_df = pd.DataFrame(rows, columns=col_names)\n",
    "reason_df.head(10)"
   ]
  },
  {
   "cell_type": "code",
   "execution_count": null,
   "metadata": {},
   "outputs": [],
   "source": [
    "reason_df['month'] = pd.to_datetime(reason_df['month'].astype('int').astype(\"str\"), format='%Y%m')\n",
    "reason_df = reason_df.set_index(\"month\")"
   ]
  },
  {
   "cell_type": "code",
   "execution_count": null,
   "metadata": {},
   "outputs": [],
   "source": [
    "reason_df = reason_df.rolling(6).mean()"
   ]
  },
  {
   "cell_type": "code",
   "execution_count": null,
   "metadata": {},
   "outputs": [],
   "source": [
    "reason_df.plot(figsize=(16,8))"
   ]
  },
  {
   "cell_type": "code",
   "execution_count": null,
   "metadata": {},
   "outputs": [],
   "source": [
    "reason_df['year'] = reason_df['month'].apply(lambda x: str(x)[0:4])"
   ]
  },
  {
   "cell_type": "markdown",
   "metadata": {},
   "source": [
    "# Aggregate statistics"
   ]
  },
  {
   "cell_type": "code",
   "execution_count": null,
   "metadata": {},
   "outputs": [],
   "source": [
    "target_table = Table('convocados', meta, autoload=True, autoload_with=con)\n",
    "\n",
    "# stmt = sqlalchemy.select(col_lst)\n",
    "\n",
    "stmt = select([target_table])\n",
    "\n",
    "# target_table.c.motivo_indisponibilidade, target_table.c.sexo, target_table.c.data_nascimento, target_table.c.chabilitacao_escolar, target_table.c.formacao_profissional, target_table.c.qualificacao, target_table.c.cnacionalidade, target_table.c.cdeficiencia, target_table.c.data_nascimento, target_table.c.chabilitacao_escolar, target_table.c.cfreguesia, target_table.c.area_curso, target_table.c.tipo_ocupacao, target_table.c.transporte_proprio, target_table.c.formacao_profissional, target_table.c.qualificacao, target_table.c.estado_civil\n",
    "stmt = stmt.where(target_table.columns.ute_id == 961010)\n",
    "\n",
    "con.execute(stmt).fetchall()\n",
    "\n",
    "df = pd.read_sql(stmt, con)"
   ]
  },
  {
   "cell_type": "code",
   "execution_count": null,
   "metadata": {},
   "outputs": [],
   "source": [
    "for col in df.columns: print(col)"
   ]
  },
  {
   "cell_type": "code",
   "execution_count": null,
   "metadata": {},
   "outputs": [],
   "source": [
    "df.head(20)"
   ]
  },
  {
   "cell_type": "code",
   "execution_count": null,
   "metadata": {},
   "outputs": [],
   "source": [
    "df['ute_type'].value_counts()"
   ]
  },
  {
   "cell_type": "code",
   "execution_count": null,
   "metadata": {},
   "outputs": [],
   "source": [
    "df['cnacionalidade'].value_counts()"
   ]
  },
  {
   "cell_type": "code",
   "execution_count": null,
   "metadata": {},
   "outputs": [],
   "source": [
    "def is_portuguese(code):\n",
    "    if code == 'PT': return 1\n",
    "    else: return 0"
   ]
  },
  {
   "cell_type": "code",
   "execution_count": null,
   "metadata": {},
   "outputs": [],
   "source": [
    "df['portuguese'] = df['cnacionalidade'].apply(is_portuguese)"
   ]
  },
  {
   "cell_type": "code",
   "execution_count": null,
   "metadata": {},
   "outputs": [],
   "source": [
    "df['portuguese'].value_counts()"
   ]
  },
  {
   "cell_type": "code",
   "execution_count": null,
   "metadata": {},
   "outputs": [],
   "source": [
    "df['portuguese'].value_counts().plot(kind='bar')\n",
    "plt.xlabel(\"Portuguese or not\", labelpad=14)\n",
    "plt.ylabel(\"Number of people\", labelpad=14)\n",
    "plt.xticks([0, 1], [\"Portuguese\", \"Other\"])\n",
    "plt.title(\"Nationality\", y=1.02)"
   ]
  },
  {
   "cell_type": "code",
   "execution_count": null,
   "metadata": {},
   "outputs": [],
   "source": [
    "df['cdeficiencia'].value_counts()"
   ]
  },
  {
   "cell_type": "code",
   "execution_count": null,
   "metadata": {},
   "outputs": [],
   "source": [
    "def has_dis_code(code):\n",
    "    if code == 0: return 0\n",
    "    else: return 1"
   ]
  },
  {
   "cell_type": "code",
   "execution_count": null,
   "metadata": {},
   "outputs": [],
   "source": [
    "df['his_disability_code'] = df['cdeficiencia'].apply(has_dis_code)"
   ]
  },
  {
   "cell_type": "code",
   "execution_count": null,
   "metadata": {},
   "outputs": [],
   "source": [
    "df['his_disability_code'].value_counts().plot(kind='bar')\n",
    "plt.xlabel(\"Recorded disability\", labelpad=14)\n",
    "plt.ylabel(\"Number of people\", labelpad=14)\n",
    "plt.xticks([0, 1], [\"No disability code\", \"disability code\"])\n",
    "plt.title(\"Disability codes\", y=1.02)"
   ]
  },
  {
   "cell_type": "code",
   "execution_count": null,
   "metadata": {},
   "outputs": [],
   "source": [
    "df['descendentes_a_cargo'].value_counts()"
   ]
  },
  {
   "cell_type": "code",
   "execution_count": null,
   "metadata": {},
   "outputs": [],
   "source": [
    "df['descendentes_a_cargo'].value_counts().hist(bins=8)"
   ]
  },
  {
   "cell_type": "code",
   "execution_count": null,
   "metadata": {},
   "outputs": [],
   "source": [
    "def dependents(count):\n",
    "    if count > 8.0: return 8.0\n",
    "    elif count > 0 and count < 1: return 0\n",
    "    else: return count"
   ]
  },
  {
   "cell_type": "code",
   "execution_count": null,
   "metadata": {},
   "outputs": [],
   "source": [
    "df['descendentes_a_cargo'].value_counts()"
   ]
  },
  {
   "cell_type": "code",
   "execution_count": null,
   "metadata": {},
   "outputs": [],
   "source": [
    "df['num_deps'] = df['descendentes_a_cargo'].apply(dependents)"
   ]
  },
  {
   "cell_type": "code",
   "execution_count": null,
   "metadata": {},
   "outputs": [],
   "source": [
    "df['num_deps'].value_counts()"
   ]
  },
  {
   "cell_type": "code",
   "execution_count": null,
   "metadata": {},
   "outputs": [],
   "source": [
    "df['num_deps'].value_counts().plot.bar()\n",
    "plt.xlabel(\"Num of dependants per person\", labelpad=14)\n",
    "plt.ylabel(\"Number of people\", labelpad=14)\n",
    "plt.title(\"Number of dependants\", y=1.02)"
   ]
  },
  {
   "cell_type": "code",
   "execution_count": null,
   "metadata": {},
   "outputs": [],
   "source": [
    "df.groupby(['sexo'])['num_deps'].value_counts().plot.bar()\n",
    "plt.xlabel(\"Num of dependants per person\", labelpad=14)\n",
    "plt.ylabel(\"Number of people\", labelpad=14)\n",
    "plt.title(\"Number of dependants\", y=1.02)"
   ]
  },
  {
   "cell_type": "code",
   "execution_count": null,
   "metadata": {},
   "outputs": [],
   "source": [
    "df['salario_pretendido'].value_counts().hist(bins=10)"
   ]
  },
  {
   "cell_type": "code",
   "execution_count": null,
   "metadata": {},
   "outputs": [],
   "source": [
    "df['salario_pretendido'].describe()"
   ]
  },
  {
   "cell_type": "code",
   "execution_count": null,
   "metadata": {},
   "outputs": [],
   "source": [
    "def salary_outliers(sal):\n",
    "    if sal < 0: return 0\n",
    "    elif sal > 800: return 800\n",
    "    else: return sal"
   ]
  },
  {
   "cell_type": "code",
   "execution_count": null,
   "metadata": {},
   "outputs": [],
   "source": [
    "df['sal_no_out'] = df['salario_pretendido'].apply(salary_outliers)"
   ]
  },
  {
   "cell_type": "code",
   "execution_count": null,
   "metadata": {},
   "outputs": [],
   "source": [
    "df['sal_no_out'].describe()"
   ]
  },
  {
   "cell_type": "code",
   "execution_count": null,
   "metadata": {},
   "outputs": [],
   "source": [
    "df['sal_no_out'].value_counts().hist(bins=10)"
   ]
  },
  {
   "cell_type": "code",
   "execution_count": null,
   "metadata": {},
   "outputs": [],
   "source": [
    "df.iloc[0:1,5:6].values[0][0]"
   ]
  },
  {
   "cell_type": "code",
   "execution_count": null,
   "metadata": {},
   "outputs": [],
   "source": [
    "df['chabilitacao_escolar'].value_counts()"
   ]
  },
  {
   "cell_type": "code",
   "execution_count": null,
   "metadata": {},
   "outputs": [],
   "source": [
    "def edu_level(code):\n",
    "    if code in ['NS', 'SL']: return 0\n",
    "    elif code in ['01', '02', '03', '04', '05', '06']: return 1\n",
    "    elif code in ['07', '08', '09']: return 2\n",
    "    elif code in ['10', '11', '12']: return 3\n",
    "    elif code == 'PS': return 4\n",
    "    elif code in ['BM', 'LC', 'MT']: return 5\n",
    "    elif code == 'DT': return 6\n",
    "    else: return 10"
   ]
  },
  {
   "cell_type": "code",
   "execution_count": null,
   "metadata": {},
   "outputs": [],
   "source": [
    "df['edu_lev'] = df['chabilitacao_escolar'].apply(edu_level)"
   ]
  },
  {
   "cell_type": "code",
   "execution_count": null,
   "metadata": {},
   "outputs": [],
   "source": [
    "df['edu_lev'].value_counts()"
   ]
  },
  {
   "cell_type": "code",
   "execution_count": null,
   "metadata": {},
   "outputs": [],
   "source": [
    "df['edu_lev'].hist(bins=7)\n",
    "plt.xlabel(\"Educational attainment\", labelpad=14)\n",
    "plt.ylabel(\"Number of people\", labelpad=14)\n",
    "plt.xticks([0, 1, 2, 3, 4, 5, 6], [\"1st Cycle Primary\", \"2nd Cycle Primary\", \"3rd Cycle Middle\", \"Secondary\", \"Post Secondary Training\", \"Bachelors or Masters\", \"Doctorate\"], rotation='vertical')\n",
    "plt.title(\"Education levels\", y=1.02)"
   ]
  },
  {
   "cell_type": "code",
   "execution_count": null,
   "metadata": {},
   "outputs": [],
   "source": [
    "df[df['sexo'] == 'M']['edu_lev'].hist(bins=7)\n",
    "plt.xlabel(\"Educational attainment\", labelpad=14)\n",
    "plt.ylabel(\"Number of people\", labelpad=14)\n",
    "plt.xticks([0, 1, 2, 3, 4, 5, 6], [\"1st Cycle Primary\", \"2nd Cycle Primary\", \"3rd Cycle Middle\", \"Secondary\", \"Post Secondary Training\", \"Bachelors or Masters\", \"Doctorate\"], rotation='vertical')\n",
    "plt.title(\"Education levels for men\", y=1.02)"
   ]
  },
  {
   "cell_type": "code",
   "execution_count": null,
   "metadata": {},
   "outputs": [],
   "source": [
    "df[df['sexo'] == 'F']['edu_lev'].hist(bins=7)\n",
    "plt.xlabel(\"Educational attainment\", labelpad=14)\n",
    "plt.ylabel(\"Number of people\", labelpad=14)\n",
    "plt.xticks([0, 1, 2, 3, 4, 5, 6], [\"1st Cycle Primary\", \"2nd Cycle Primary\", \"3rd Cycle Middle\", \"Secondary\", \"Post Secondary Training\", \"Bachelors or Masters\", \"Doctorate\"], rotation='vertical')\n",
    "plt.title(\"Education levels for women\", y=1.02)"
   ]
  },
  {
   "cell_type": "code",
   "execution_count": null,
   "metadata": {},
   "outputs": [],
   "source": [
    "df[df['age'] > 30]['edu_lev'].hist(bins=7)\n",
    "plt.xlabel(\"Educational attainment\", labelpad=14)\n",
    "plt.ylabel(\"Number of people\", labelpad=14)\n",
    "plt.xticks([0, 1, 2, 3, 4, 5, 6], [\"1st Cycle Primary\", \"2nd Cycle Primary\", \"3rd Cycle Middle\", \"Secondary\", \"Post Secondary Training\", \"Bachelors or Masters\", \"Doctorate\"], rotation='vertical')\n",
    "plt.title(\"Education levels for Over 30s\", y=1.02)"
   ]
  },
  {
   "cell_type": "code",
   "execution_count": null,
   "metadata": {},
   "outputs": [],
   "source": [
    "df[df['age'] < 30]['edu_lev'].hist(bins=7)\n",
    "plt.xlabel(\"Educational attainment\", labelpad=14)\n",
    "plt.ylabel(\"Number of people\", labelpad=14)\n",
    "plt.xticks([0, 1, 2, 3, 4, 5, 6], [\"1st Cycle Primary\", \"2nd Cycle Primary\", \"3rd Cycle Middle\", \"Secondary\", \"Post Secondary Training\", \"Bachelors or Masters\", \"Doctorate\"], rotation='vertical')\n",
    "plt.title(\"Education levels for Under 30s\", y=1.02)"
   ]
  },
  {
   "cell_type": "code",
   "execution_count": null,
   "metadata": {},
   "outputs": [],
   "source": [
    "df.head(20)"
   ]
  },
  {
   "cell_type": "code",
   "execution_count": null,
   "metadata": {},
   "outputs": [],
   "source": [
    "df['edu_lev'].hist(bins=7)"
   ]
  },
  {
   "cell_type": "code",
   "execution_count": null,
   "metadata": {},
   "outputs": [],
   "source": [
    "df['age'] =  df['data_nascimento'].apply(cal_age)"
   ]
  },
  {
   "cell_type": "code",
   "execution_count": null,
   "metadata": {},
   "outputs": [],
   "source": [
    "df.boxplot(column=['age'])"
   ]
  },
  {
   "cell_type": "code",
   "execution_count": null,
   "metadata": {},
   "outputs": [],
   "source": [
    "def real_age(age):\n",
    "    if age < 0 or age > 115:\n",
    "        return 0\n",
    "    else:\n",
    "        return 1\n",
    "    \n",
    "def cal_age(dob):\n",
    "    years = (datetime.datetime.now() - dob).days / 365\n",
    "\n",
    "    return years"
   ]
  },
  {
   "cell_type": "code",
   "execution_count": null,
   "metadata": {},
   "outputs": [],
   "source": [
    "df['realistic'] = df['age'].apply(real_age)"
   ]
  },
  {
   "cell_type": "code",
   "execution_count": null,
   "metadata": {},
   "outputs": [],
   "source": [
    "df['realistic'].value_counts()"
   ]
  },
  {
   "cell_type": "code",
   "execution_count": null,
   "metadata": {},
   "outputs": [],
   "source": [
    "df[df['realistic'] == 1]['age'].hist(bins=10)\n",
    "plt.xlabel(\"Age\", labelpad=14)\n",
    "plt.ylabel(\"Number of people\", labelpad=14)\n",
    "plt.title(\"Age distribution in database\", y=1.02)"
   ]
  },
  {
   "cell_type": "code",
   "execution_count": null,
   "metadata": {},
   "outputs": [],
   "source": [
    "df['formacao_profissional'].value_counts().plot.bar()\n",
    "plt.xlabel(\"Have Professional Training\", labelpad=14)\n",
    "plt.ylabel(\"Number of people\", labelpad=14)\n",
    "plt.xticks([0, 1], [\"No\", \"Yes\"])\n",
    "plt.title(\"Professional Training\", y=1.02)"
   ]
  }
 ],
 "metadata": {
  "kernelspec": {
   "display_name": "iefp",
   "language": "python",
   "name": "iefp"
  },
  "language_info": {
   "codemirror_mode": {
    "name": "ipython",
    "version": 3
   },
   "file_extension": ".py",
   "mimetype": "text/x-python",
   "name": "python",
   "nbconvert_exporter": "python",
   "pygments_lexer": "ipython3",
   "version": "3.6.8"
  }
 },
 "nbformat": 4,
 "nbformat_minor": 4
}
