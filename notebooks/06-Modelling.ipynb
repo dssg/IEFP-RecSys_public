{
 "cells": [
  {
   "cell_type": "markdown",
   "metadata": {},
   "source": [
    "## Notebook Magic"
   ]
  },
  {
   "cell_type": "code",
   "execution_count": 1,
   "metadata": {},
   "outputs": [],
   "source": [
    "%matplotlib inline\n",
    "%load_ext autoreload"
   ]
  },
  {
   "cell_type": "markdown",
   "metadata": {},
   "source": [
    "## Imports"
   ]
  },
  {
   "cell_type": "code",
   "execution_count": 2,
   "metadata": {},
   "outputs": [],
   "source": [
    "import os\n",
    "import yaml\n",
    "import pandas as pd\n",
    "import matplotlib.pyplot as plt\n",
    "import pandas as pd\n",
    "import seaborn as sns\n",
    "import numpy as np\n",
    "\n",
    "from sklearn.ensemble import RandomForestClassifier\n",
    "from sklearn.model_selection import cross_validate\n",
    "from sklearn.model_selection import train_test_split\n",
    "from sklearn.metrics import accuracy_score\n",
    "from sklearn.metrics import average_precision_score\n",
    "from sklearn.metrics import precision_recall_curve\n",
    "from sklearn.metrics import confusion_matrix\n",
    "from sklearn.metrics import auc, roc_curve\n",
    "\n",
    "from sklearn.linear_model import LogisticRegression, Lasso"
   ]
  },
  {
   "cell_type": "code",
   "execution_count": 3,
   "metadata": {},
   "outputs": [
    {
     "name": "stdout",
     "output_type": "stream",
     "text": [
      "(137888, 99)\n"
     ]
    }
   ],
   "source": [
    "df = pd.read_parquet(\"s3://iefp-unemployment/modelling.parquet\")\n",
    "print(df.shape)"
   ]
  },
  {
   "cell_type": "code",
   "execution_count": 34,
   "metadata": {},
   "outputs": [
    {
     "data": {
      "text/plain": [
       "(40966, 99)"
      ]
     },
     "execution_count": 34,
     "metadata": {},
     "output_type": "execute_result"
    }
   ],
   "source": [
    "df[(df[\"journey_length\"] < 365) & (df[\"success\"] == True)].shape"
   ]
  },
  {
   "cell_type": "code",
   "execution_count": 35,
   "metadata": {},
   "outputs": [
    {
     "data": {
      "text/plain": [
       "0.2970961940125319"
      ]
     },
     "execution_count": 35,
     "metadata": {},
     "output_type": "execute_result"
    }
   ],
   "source": [
    "40966/137888"
   ]
  },
  {
   "cell_type": "code",
   "execution_count": 5,
   "metadata": {},
   "outputs": [
    {
     "data": {
      "text/plain": [
       "<matplotlib.axes._subplots.AxesSubplot at 0x7eff886e4400>"
      ]
     },
     "execution_count": 5,
     "metadata": {},
     "output_type": "execute_result"
    },
    {
     "data": {
      "image/png": "[encoded data removed]",
      "text/plain": [
       "<Figure size 432x288 with 1 Axes>"
      ]
     },
     "metadata": {
      "needs_background": "light"
     },
     "output_type": "display_data"
    }
   ],
   "source": [
    "df[df.success == True].journey_length.hist(bins=50)"
   ]
  },
  {
   "cell_type": "markdown",
   "metadata": {},
   "source": [
    "### Success rates of whole dataset"
   ]
  },
  {
   "cell_type": "code",
   "execution_count": 6,
   "metadata": {},
   "outputs": [
    {
     "data": {
      "text/plain": [
       "False    0.702904\n",
       "True     0.297096\n",
       "dtype: float64"
      ]
     },
     "execution_count": 6,
     "metadata": {},
     "output_type": "execute_result"
    }
   ],
   "source": [
    "((df[\"journey_length\"] < 365) & (df[\"success\"] == True)).value_counts() / len(df)"
   ]
  },
  {
   "cell_type": "code",
   "execution_count": 7,
   "metadata": {},
   "outputs": [],
   "source": [
    "def plot_precision_recall(y_test, y_pred, y_prob):\n",
    "    average_precision = average_precision_score(y_test, y_pred)\n",
    "    precision, recall, _ = precision_recall_curve(y_test, y_prob)\n",
    "    print(\"{:.2f}% Precision at {}% Recall\".format(100 * precision[recall>0.8].max(), 80))\n",
    "\n",
    "    step_kwargs = ({'step': 'post'})\n",
    "    plt.step(recall, precision, color='b', alpha=0.2, where='post')\n",
    "    plt.fill_between(recall, precision, alpha=0.2, color='b', **step_kwargs)\n",
    "\n",
    "    plt.xlabel('Recall')\n",
    "    plt.ylabel('Precision')\n",
    "    plt.ylim([0.0, 1.05])\n",
    "    plt.xlim([0.0, 1.0])\n",
    "    plt.title('2-class Precision-Recall curve: AP={0:0.2f}'.format(average_precision))\n",
    "    plt.show()\n",
    "    \n",
    "def plot_roc_curve(y_test, y_prob):\n",
    "    fpr, tpr, threshold = roc_curve(y_test, y_prob)\n",
    "    roc_auc = auc(fpr, tpr)\n",
    "    plt.title('Receiver Operating Characteristic')\n",
    "    plt.plot(fpr, tpr, 'b', label = 'AUC = %0.2f' % roc_auc)\n",
    "    plt.legend(loc = 'lower right')\n",
    "    plt.plot([0, 1], [0, 1],'r--')\n",
    "    plt.xlim([0, 1])\n",
    "    plt.ylim([0, 1])\n",
    "    plt.ylabel('True Positive Rate')\n",
    "    plt.xlabel('False Positive Rate')\n",
    "    plt.show()\n",
    "    \n",
    "def evaluate(y_test, y_pred, y_prob):\n",
    "    print(confusion_matrix(y_test, y_pred))\n",
    "    print(\"\\n---\")\n",
    "    print(\"Accuracy: {:.2f}%\".format(100 * accuracy_score(y_test, y_pred)))\n",
    "    print(\"\\n---\")\n",
    "    plot_precision_recall(y_test, y_pred, y_prob)\n",
    "    plot_roc_curve(y_test, y_prob)"
   ]
  },
  {
   "cell_type": "code",
   "execution_count": 8,
   "metadata": {},
   "outputs": [],
   "source": [
    "def construct_table(df): \n",
    "    # Filter for frequent interventions\n",
    "    # WARNING: data leakage\n",
    "    # frequent_i = df_model.mean()[df_model.mean() > 0.01].index.tolist()\n",
    "    # df_model = df_model[frequent_i]\n",
    "    \n",
    "    \n",
    "    interv_cols = [col for col in df.columns if \"i_\" in col]\n",
    "    df_model = transform_interventions(df, interv_cols)\n",
    "    \n",
    "    dems = [\n",
    "    \"d_age\",\n",
    "    \"d_gender\",\n",
    "    \"d_civil_status\",\n",
    "    \"d_rsi\",\n",
    "    \"d_desired_work_time\",\n",
    "    \"d_desired_contract\",\n",
    "    \"d_disabled\",\n",
    "    \"d_nationality\",\n",
    "    \"d_desired_job_sector\",\n",
    "    \"d_previous_job_sector\",\n",
    "    ]\n",
    "    \n",
    "    df_model[dems] = df[dems]\n",
    "\n",
    "    # Seasonal features\n",
    "    df_model[\"register_month\"] = df.register_date.dt.month\n",
    "    df_model[\"register_year\"] = df.register_date.dt.year\n",
    "\n",
    "    \n",
    "    df_model = pd.get_dummies(df_model, drop_first=True, dummy_na=True)\n",
    "\n",
    "    # Output\n",
    "    df_model[\"ttj_sub_12\"] = (df[\"journey_length\"] < 365) & (df[\"success\"] == True)\n",
    "    \n",
    "    return df_model\n",
    "\n",
    "def transform_interventions(df: pd.DataFrame, interventions: list):\n",
    "    df = df[interventions]\n",
    "    df = (df.notna()).astype('int')\n",
    "    \n",
    "    return df"
   ]
  },
  {
   "cell_type": "markdown",
   "metadata": {},
   "source": [
    "## Get hold out set"
   ]
  },
  {
   "cell_type": "code",
   "execution_count": 9,
   "metadata": {},
   "outputs": [],
   "source": [
    "df_model = construct_table(df)"
   ]
  },
  {
   "cell_type": "code",
   "execution_count": 10,
   "metadata": {},
   "outputs": [
    {
     "name": "stdout",
     "output_type": "stream",
     "text": [
      "(33644, 211)\n"
     ]
    },
    {
     "data": {
      "text/plain": [
       "False    0.758947\n",
       "True     0.241053\n",
       "Name: ttj_sub_12, dtype: float64"
      ]
     },
     "execution_count": 10,
     "metadata": {},
     "output_type": "execute_result"
    }
   ],
   "source": [
    "df_model[\"exit_date\"] = df[\"exit_date\"]\n",
    "df_hold_out = df_model[df_model[\"exit_date\"] >= \"2019-01-01\"].drop(\"exit_date\", axis=1)\n",
    "print(df_hold_out.shape)\n",
    "df_hold_out.ttj_sub_12.value_counts() / len(df_hold_out)"
   ]
  },
  {
   "cell_type": "code",
   "execution_count": 11,
   "metadata": {},
   "outputs": [
    {
     "name": "stdout",
     "output_type": "stream",
     "text": [
      "(104244, 211)\n"
     ]
    },
    {
     "data": {
      "text/plain": [
       "False    0.684816\n",
       "True     0.315184\n",
       "Name: ttj_sub_12, dtype: float64"
      ]
     },
     "execution_count": 11,
     "metadata": {},
     "output_type": "execute_result"
    }
   ],
   "source": [
    "df_model[\"exit_date\"] = df[\"exit_date\"]\n",
    "df_train = df_model[df_model[\"exit_date\"] <= \"2019-01-01\"].drop(\"exit_date\", axis=1)\n",
    "print(df_train.shape)\n",
    "df_train.ttj_sub_12.value_counts() / len(df_train)"
   ]
  },
  {
   "cell_type": "markdown",
   "metadata": {},
   "source": [
    "*Training set has more ttj_sub_12 journeys*"
   ]
  },
  {
   "cell_type": "markdown",
   "metadata": {},
   "source": [
    "# Modelling"
   ]
  },
  {
   "cell_type": "markdown",
   "metadata": {},
   "source": [
    "## Random Forest"
   ]
  },
  {
   "cell_type": "code",
   "execution_count": 12,
   "metadata": {},
   "outputs": [],
   "source": [
    "y = df_train[\"ttj_sub_12\"]\n",
    "X = df_train.drop(\"ttj_sub_12\", axis=1)"
   ]
  },
  {
   "cell_type": "code",
   "execution_count": 13,
   "metadata": {},
   "outputs": [],
   "source": [
    "rf = RandomForestClassifier(n_estimators=1000, max_depth=3, random_state=0, class_weight=\"balanced\")\n",
    "rf.fit(X, y)\n",
    "y_pred = rf.predict(X)\n",
    "y_prob = rf.predict_proba(X)[:,1]"
   ]
  },
  {
   "cell_type": "code",
   "execution_count": 14,
   "metadata": {},
   "outputs": [
    {
     "name": "stdout",
     "output_type": "stream",
     "text": [
      "[[41969 29419]\n",
      " [10771 22085]]\n",
      "\n",
      "---\n",
      "Accuracy: 61.45%\n",
      "\n",
      "---\n",
      "39.16% Precision at 80% Recall\n"
     ]
    },
    {
     "data": {
      "image/png": "[encoded data removed]",
      "text/plain": [
       "<Figure size 432x288 with 1 Axes>"
      ]
     },
     "metadata": {
      "needs_background": "light"
     },
     "output_type": "display_data"
    },
    {
     "data": {
      "image/png": "[encoded data removed]",
      "text/plain": [
       "<Figure size 432x288 with 1 Axes>"
      ]
     },
     "metadata": {
      "needs_background": "light"
     },
     "output_type": "display_data"
    }
   ],
   "source": [
    "evaluate(y, y_pred, y_prob)"
   ]
  },
  {
   "cell_type": "code",
   "execution_count": 15,
   "metadata": {},
   "outputs": [
    {
     "data": {
      "text/plain": [
       "register_year                             0.173955\n",
       "i_modular                                 0.108569\n",
       "i_efa_s3_type_a                           0.076471\n",
       "i_efa_n3_vocational_train                 0.069040\n",
       "d_disabled                                0.064459\n",
       "i_information_job_eval_orientat           0.063689\n",
       "i_employment_contract_insertion           0.051307\n",
       "i_employment-insertion_contract           0.045268\n",
       "d_previous_job_sector_nan                 0.045119\n",
       "d_age                                     0.044750\n",
       "register_month                            0.032487\n",
       "i_tutoring_in_individual_job_search       0.028956\n",
       "i_efa_contin_train_type_b3                0.027036\n",
       "i_train_active_life                       0.026827\n",
       "i_efa_n2_vocational_train                 0.015333\n",
       "i_tutoring_in_collective_job_search       0.012750\n",
       "i_efa_contin_train_type_b2                0.010416\n",
       "d_desired_job_sector_Unskilled workers    0.009057\n",
       "i_technological_expertise                 0.007683\n",
       "i_internship_job                          0.007151\n",
       "dtype: float64"
      ]
     },
     "execution_count": 15,
     "metadata": {},
     "output_type": "execute_result"
    }
   ],
   "source": [
    "pd.Series(rf.feature_importances_, X.columns).sort_values(ascending=False).head(20)"
   ]
  },
  {
   "cell_type": "markdown",
   "metadata": {},
   "source": [
    "### Cross-Val"
   ]
  },
  {
   "cell_type": "code",
   "execution_count": 16,
   "metadata": {},
   "outputs": [],
   "source": [
    "scoring = ['precision_macro', 'average_precision', 'accuracy', 'roc_auc']\n",
    "scores = cross_validate(rf, X, y, scoring=scoring, cv=5)"
   ]
  },
  {
   "cell_type": "code",
   "execution_count": 17,
   "metadata": {},
   "outputs": [
    {
     "data": {
      "text/plain": [
       "fit_time                  17.736979\n",
       "score_time                 3.828998\n",
       "test_precision_macro       0.605229\n",
       "test_average_precision     0.485278\n",
       "test_accuracy              0.618540\n",
       "test_roc_auc               0.676396\n",
       "dtype: float64"
      ]
     },
     "execution_count": 17,
     "metadata": {},
     "output_type": "execute_result"
    }
   ],
   "source": [
    "pd.DataFrame(scores).mean()"
   ]
  },
  {
   "cell_type": "markdown",
   "metadata": {},
   "source": [
    "### Test on hold-out"
   ]
  },
  {
   "cell_type": "code",
   "execution_count": 18,
   "metadata": {},
   "outputs": [
    {
     "data": {
      "text/plain": [
       "RandomForestClassifier(bootstrap=True, class_weight='balanced',\n",
       "                       criterion='gini', max_depth=3, max_features='auto',\n",
       "                       max_leaf_nodes=None, min_impurity_decrease=0.0,\n",
       "                       min_impurity_split=None, min_samples_leaf=1,\n",
       "                       min_samples_split=2, min_weight_fraction_leaf=0.0,\n",
       "                       n_estimators=1000, n_jobs=None, oob_score=False,\n",
       "                       random_state=0, verbose=0, warm_start=False)"
      ]
     },
     "execution_count": 18,
     "metadata": {},
     "output_type": "execute_result"
    }
   ],
   "source": [
    "# Train on whole training set\n",
    "rf.fit(X, y)"
   ]
  },
  {
   "cell_type": "code",
   "execution_count": 19,
   "metadata": {},
   "outputs": [
    {
     "data": {
      "text/plain": [
       "False    0.758947\n",
       "True     0.241053\n",
       "Name: ttj_sub_12, dtype: float64"
      ]
     },
     "execution_count": 19,
     "metadata": {},
     "output_type": "execute_result"
    }
   ],
   "source": [
    "y_hold = df_hold_out[\"ttj_sub_12\"]\n",
    "X_hold = df_hold_out.drop(\"ttj_sub_12\", axis=1)\n",
    "y_hold.value_counts() / len(y_hold)"
   ]
  },
  {
   "cell_type": "code",
   "execution_count": 20,
   "metadata": {},
   "outputs": [],
   "source": [
    "y_pred = rf.predict(X_hold)\n",
    "y_prob = rf.predict_proba(X_hold)[:,1]"
   ]
  },
  {
   "cell_type": "code",
   "execution_count": 21,
   "metadata": {},
   "outputs": [
    {
     "name": "stdout",
     "output_type": "stream",
     "text": [
      "[[10989 14545]\n",
      " [  117  7993]]\n",
      "\n",
      "---\n",
      "Accuracy: 56.42%\n",
      "\n",
      "---\n",
      "50.49% Precision at 80% Recall\n"
     ]
    },
    {
     "data": {
      "image/png": "[encoded data removed]",
      "text/plain": [
       "<Figure size 432x288 with 1 Axes>"
      ]
     },
     "metadata": {
      "needs_background": "light"
     },
     "output_type": "display_data"
    },
    {
     "data": {
      "image/png": "[encoded data removed]",
      "text/plain": [
       "<Figure size 432x288 with 1 Axes>"
      ]
     },
     "metadata": {
      "needs_background": "light"
     },
     "output_type": "display_data"
    }
   ],
   "source": [
    "evaluate(y_hold, y_pred, y_prob)"
   ]
  },
  {
   "cell_type": "markdown",
   "metadata": {},
   "source": [
    "## Regression"
   ]
  },
  {
   "cell_type": "code",
   "execution_count": 23,
   "metadata": {},
   "outputs": [],
   "source": [
    "lg = LogisticRegression(random_state=0, penalty='l2', solver='liblinear')\n",
    "lg.fit(X, y)\n",
    "y_pred = lg.predict(X)\n",
    "y_prob = lg.predict_proba(X)[:,1]"
   ]
  },
  {
   "cell_type": "code",
   "execution_count": null,
   "metadata": {},
   "outputs": [],
   "source": [
    "evaluate(y_test, y_pred, y_prob)"
   ]
  },
  {
   "cell_type": "code",
   "execution_count": 24,
   "metadata": {},
   "outputs": [
    {
     "data": {
      "text/html": [
       "<div>\n",
       "<style scoped>\n",
       "    .dataframe tbody tr th:only-of-type {\n",
       "        vertical-align: middle;\n",
       "    }\n",
       "\n",
       "    .dataframe tbody tr th {\n",
       "        vertical-align: top;\n",
       "    }\n",
       "\n",
       "    .dataframe thead th {\n",
       "        text-align: right;\n",
       "    }\n",
       "</style>\n",
       "<table border=\"1\" class=\"dataframe\">\n",
       "  <thead>\n",
       "    <tr style=\"text-align: right;\">\n",
       "      <th></th>\n",
       "      <th>Feature</th>\n",
       "      <th>Coefficient</th>\n",
       "    </tr>\n",
       "  </thead>\n",
       "  <tbody>\n",
       "    <tr>\n",
       "      <th>5</th>\n",
       "      <td>i_tutoring_in_individual_job_search</td>\n",
       "      <td>0.479907</td>\n",
       "    </tr>\n",
       "    <tr>\n",
       "      <th>30</th>\n",
       "      <td>i_tutoring_in_collective_job_search</td>\n",
       "      <td>0.387942</td>\n",
       "    </tr>\n",
       "    <tr>\n",
       "      <th>15</th>\n",
       "      <td>i_professional_internships</td>\n",
       "      <td>0.353978</td>\n",
       "    </tr>\n",
       "    <tr>\n",
       "      <th>16</th>\n",
       "      <td>i_internship_job</td>\n",
       "      <td>0.245736</td>\n",
       "    </tr>\n",
       "    <tr>\n",
       "      <th>54</th>\n",
       "      <td>i_assertive_communication_job_search_techn</td>\n",
       "      <td>0.221838</td>\n",
       "    </tr>\n",
       "    <tr>\n",
       "      <th>20</th>\n",
       "      <td>i_employment-insertion_contract</td>\n",
       "      <td>0.191974</td>\n",
       "    </tr>\n",
       "    <tr>\n",
       "      <th>29</th>\n",
       "      <td>i_collective_orientation_session</td>\n",
       "      <td>0.162203</td>\n",
       "    </tr>\n",
       "    <tr>\n",
       "      <th>66</th>\n",
       "      <td>d_gender_M</td>\n",
       "      <td>0.153971</td>\n",
       "    </tr>\n",
       "    <tr>\n",
       "      <th>205</th>\n",
       "      <td>d_previous_job_sector_Machinery_Operators_Tran...</td>\n",
       "      <td>0.138423</td>\n",
       "    </tr>\n",
       "    <tr>\n",
       "      <th>201</th>\n",
       "      <td>d_previous_job_sector_Agriculture</td>\n",
       "      <td>0.134223</td>\n",
       "    </tr>\n",
       "    <tr>\n",
       "      <th>196</th>\n",
       "      <td>d_desired_job_sector_Machinery_Operators_Trans...</td>\n",
       "      <td>0.120603</td>\n",
       "    </tr>\n",
       "    <tr>\n",
       "      <th>18</th>\n",
       "      <td>i_reactive</td>\n",
       "      <td>0.105888</td>\n",
       "    </tr>\n",
       "    <tr>\n",
       "      <th>68</th>\n",
       "      <td>d_civil_status_D</td>\n",
       "      <td>0.101190</td>\n",
       "    </tr>\n",
       "    <tr>\n",
       "      <th>208</th>\n",
       "      <td>d_previous_job_sector_Unskilled workers</td>\n",
       "      <td>0.099883</td>\n",
       "    </tr>\n",
       "    <tr>\n",
       "      <th>55</th>\n",
       "      <td>i_entrepreneurship_skills_job_search_techn</td>\n",
       "      <td>0.096221</td>\n",
       "    </tr>\n",
       "    <tr>\n",
       "      <th>6</th>\n",
       "      <td>i_job_search_assistance</td>\n",
       "      <td>0.091981</td>\n",
       "    </tr>\n",
       "    <tr>\n",
       "      <th>53</th>\n",
       "      <td>i_personal_development_job_search_techn</td>\n",
       "      <td>0.082565</td>\n",
       "    </tr>\n",
       "    <tr>\n",
       "      <th>194</th>\n",
       "      <td>d_desired_job_sector_Executive_Management</td>\n",
       "      <td>0.079114</td>\n",
       "    </tr>\n",
       "    <tr>\n",
       "      <th>195</th>\n",
       "      <td>d_desired_job_sector_Industry_Construction_Man...</td>\n",
       "      <td>0.076715</td>\n",
       "    </tr>\n",
       "    <tr>\n",
       "      <th>162</th>\n",
       "      <td>d_nationality_PT</td>\n",
       "      <td>0.070681</td>\n",
       "    </tr>\n",
       "    <tr>\n",
       "      <th>62</th>\n",
       "      <td>d_rsi</td>\n",
       "      <td>0.063326</td>\n",
       "    </tr>\n",
       "    <tr>\n",
       "      <th>1</th>\n",
       "      <td>i_job_search_techn</td>\n",
       "      <td>0.062232</td>\n",
       "    </tr>\n",
       "    <tr>\n",
       "      <th>155</th>\n",
       "      <td>d_nationality_NP</td>\n",
       "      <td>0.058382</td>\n",
       "    </tr>\n",
       "    <tr>\n",
       "      <th>207</th>\n",
       "      <td>d_previous_job_sector_Technicians_Mid_Professi...</td>\n",
       "      <td>0.053837</td>\n",
       "    </tr>\n",
       "    <tr>\n",
       "      <th>72</th>\n",
       "      <td>d_civil_status_U</td>\n",
       "      <td>0.053656</td>\n",
       "    </tr>\n",
       "    <tr>\n",
       "      <th>192</th>\n",
       "      <td>d_desired_job_sector_Agriculture</td>\n",
       "      <td>0.040855</td>\n",
       "    </tr>\n",
       "    <tr>\n",
       "      <th>8</th>\n",
       "      <td>i_paper_subsidy_ace</td>\n",
       "      <td>0.035806</td>\n",
       "    </tr>\n",
       "    <tr>\n",
       "      <th>206</th>\n",
       "      <td>d_previous_job_sector_Scientists_Experts</td>\n",
       "      <td>0.031574</td>\n",
       "    </tr>\n",
       "    <tr>\n",
       "      <th>11</th>\n",
       "      <td>i_invest_young_target_promoter</td>\n",
       "      <td>0.022903</td>\n",
       "    </tr>\n",
       "    <tr>\n",
       "      <th>204</th>\n",
       "      <td>d_previous_job_sector_Industry_Construction_Ma...</td>\n",
       "      <td>0.020806</td>\n",
       "    </tr>\n",
       "    <tr>\n",
       "      <th>...</th>\n",
       "      <td>...</td>\n",
       "      <td>...</td>\n",
       "    </tr>\n",
       "    <tr>\n",
       "      <th>56</th>\n",
       "      <td>i_train_external_entities</td>\n",
       "      <td>-0.020474</td>\n",
       "    </tr>\n",
       "    <tr>\n",
       "      <th>42</th>\n",
       "      <td>i_efa_contin_train_type_b1_b2</td>\n",
       "      <td>-0.021562</td>\n",
       "    </tr>\n",
       "    <tr>\n",
       "      <th>193</th>\n",
       "      <td>d_desired_job_sector_Consumer_Services_Workers</td>\n",
       "      <td>-0.036800</td>\n",
       "    </tr>\n",
       "    <tr>\n",
       "      <th>81</th>\n",
       "      <td>d_nationality_AO</td>\n",
       "      <td>-0.037584</td>\n",
       "    </tr>\n",
       "    <tr>\n",
       "      <th>70</th>\n",
       "      <td>d_civil_status_O</td>\n",
       "      <td>-0.039954</td>\n",
       "    </tr>\n",
       "    <tr>\n",
       "      <th>73</th>\n",
       "      <td>d_civil_status_V</td>\n",
       "      <td>-0.041017</td>\n",
       "    </tr>\n",
       "    <tr>\n",
       "      <th>28</th>\n",
       "      <td>i_learning</td>\n",
       "      <td>-0.042517</td>\n",
       "    </tr>\n",
       "    <tr>\n",
       "      <th>202</th>\n",
       "      <td>d_previous_job_sector_Consumer_Services_Workers</td>\n",
       "      <td>-0.047177</td>\n",
       "    </tr>\n",
       "    <tr>\n",
       "      <th>197</th>\n",
       "      <td>d_desired_job_sector_Scientists_Experts</td>\n",
       "      <td>-0.049126</td>\n",
       "    </tr>\n",
       "    <tr>\n",
       "      <th>41</th>\n",
       "      <td>i_efa_contin_train_type_b1</td>\n",
       "      <td>-0.057305</td>\n",
       "    </tr>\n",
       "    <tr>\n",
       "      <th>52</th>\n",
       "      <td>i_modular_active_life_cgp</td>\n",
       "      <td>-0.062164</td>\n",
       "    </tr>\n",
       "    <tr>\n",
       "      <th>24</th>\n",
       "      <td>i_post-placement_monitoring</td>\n",
       "      <td>-0.069931</td>\n",
       "    </tr>\n",
       "    <tr>\n",
       "      <th>17</th>\n",
       "      <td>i_active_youth_employment</td>\n",
       "      <td>-0.072183</td>\n",
       "    </tr>\n",
       "    <tr>\n",
       "      <th>92</th>\n",
       "      <td>d_nationality_BR</td>\n",
       "      <td>-0.083839</td>\n",
       "    </tr>\n",
       "    <tr>\n",
       "      <th>203</th>\n",
       "      <td>d_previous_job_sector_Executive_Management</td>\n",
       "      <td>-0.098015</td>\n",
       "    </tr>\n",
       "    <tr>\n",
       "      <th>34</th>\n",
       "      <td>i_technological_expertise</td>\n",
       "      <td>-0.122938</td>\n",
       "    </tr>\n",
       "    <tr>\n",
       "      <th>75</th>\n",
       "      <td>d_desired_work_time_P</td>\n",
       "      <td>-0.128318</td>\n",
       "    </tr>\n",
       "    <tr>\n",
       "      <th>51</th>\n",
       "      <td>i_basic_skills_train</td>\n",
       "      <td>-0.143092</td>\n",
       "    </tr>\n",
       "    <tr>\n",
       "      <th>199</th>\n",
       "      <td>d_desired_job_sector_Unskilled workers</td>\n",
       "      <td>-0.153435</td>\n",
       "    </tr>\n",
       "    <tr>\n",
       "      <th>43</th>\n",
       "      <td>i_efa_contin_train_type_b2</td>\n",
       "      <td>-0.201467</td>\n",
       "    </tr>\n",
       "    <tr>\n",
       "      <th>49</th>\n",
       "      <td>i_efa_n2_vocational_train</td>\n",
       "      <td>-0.255204</td>\n",
       "    </tr>\n",
       "    <tr>\n",
       "      <th>47</th>\n",
       "      <td>i_modular</td>\n",
       "      <td>-0.269171</td>\n",
       "    </tr>\n",
       "    <tr>\n",
       "      <th>44</th>\n",
       "      <td>i_efa_contin_train_type_b3</td>\n",
       "      <td>-0.286278</td>\n",
       "    </tr>\n",
       "    <tr>\n",
       "      <th>25</th>\n",
       "      <td>i_information_job_eval_orientat</td>\n",
       "      <td>-0.500588</td>\n",
       "    </tr>\n",
       "    <tr>\n",
       "      <th>4</th>\n",
       "      <td>i_train_active_life</td>\n",
       "      <td>-0.510356</td>\n",
       "    </tr>\n",
       "    <tr>\n",
       "      <th>50</th>\n",
       "      <td>i_efa_n3_vocational_train</td>\n",
       "      <td>-0.517762</td>\n",
       "    </tr>\n",
       "    <tr>\n",
       "      <th>209</th>\n",
       "      <td>d_previous_job_sector_nan</td>\n",
       "      <td>-0.518090</td>\n",
       "    </tr>\n",
       "    <tr>\n",
       "      <th>46</th>\n",
       "      <td>i_efa_s3_type_a</td>\n",
       "      <td>-0.581938</td>\n",
       "    </tr>\n",
       "    <tr>\n",
       "      <th>63</th>\n",
       "      <td>d_disabled</td>\n",
       "      <td>-0.610325</td>\n",
       "    </tr>\n",
       "    <tr>\n",
       "      <th>21</th>\n",
       "      <td>i_employment_contract_insertion</td>\n",
       "      <td>-0.626687</td>\n",
       "    </tr>\n",
       "  </tbody>\n",
       "</table>\n",
       "<p>210 rows × 2 columns</p>\n",
       "</div>"
      ],
      "text/plain": [
       "                                               Feature  Coefficient\n",
       "5                  i_tutoring_in_individual_job_search     0.479907\n",
       "30                 i_tutoring_in_collective_job_search     0.387942\n",
       "15                          i_professional_internships     0.353978\n",
       "16                                    i_internship_job     0.245736\n",
       "54          i_assertive_communication_job_search_techn     0.221838\n",
       "20                     i_employment-insertion_contract     0.191974\n",
       "29                    i_collective_orientation_session     0.162203\n",
       "66                                          d_gender_M     0.153971\n",
       "205  d_previous_job_sector_Machinery_Operators_Tran...     0.138423\n",
       "201                  d_previous_job_sector_Agriculture     0.134223\n",
       "196  d_desired_job_sector_Machinery_Operators_Trans...     0.120603\n",
       "18                                          i_reactive     0.105888\n",
       "68                                    d_civil_status_D     0.101190\n",
       "208            d_previous_job_sector_Unskilled workers     0.099883\n",
       "55          i_entrepreneurship_skills_job_search_techn     0.096221\n",
       "6                              i_job_search_assistance     0.091981\n",
       "53             i_personal_development_job_search_techn     0.082565\n",
       "194          d_desired_job_sector_Executive_Management     0.079114\n",
       "195  d_desired_job_sector_Industry_Construction_Man...     0.076715\n",
       "162                                   d_nationality_PT     0.070681\n",
       "62                                               d_rsi     0.063326\n",
       "1                                   i_job_search_techn     0.062232\n",
       "155                                   d_nationality_NP     0.058382\n",
       "207  d_previous_job_sector_Technicians_Mid_Professi...     0.053837\n",
       "72                                    d_civil_status_U     0.053656\n",
       "192                   d_desired_job_sector_Agriculture     0.040855\n",
       "8                                  i_paper_subsidy_ace     0.035806\n",
       "206           d_previous_job_sector_Scientists_Experts     0.031574\n",
       "11                      i_invest_young_target_promoter     0.022903\n",
       "204  d_previous_job_sector_Industry_Construction_Ma...     0.020806\n",
       "..                                                 ...          ...\n",
       "56                           i_train_external_entities    -0.020474\n",
       "42                       i_efa_contin_train_type_b1_b2    -0.021562\n",
       "193     d_desired_job_sector_Consumer_Services_Workers    -0.036800\n",
       "81                                    d_nationality_AO    -0.037584\n",
       "70                                    d_civil_status_O    -0.039954\n",
       "73                                    d_civil_status_V    -0.041017\n",
       "28                                          i_learning    -0.042517\n",
       "202    d_previous_job_sector_Consumer_Services_Workers    -0.047177\n",
       "197            d_desired_job_sector_Scientists_Experts    -0.049126\n",
       "41                          i_efa_contin_train_type_b1    -0.057305\n",
       "52                           i_modular_active_life_cgp    -0.062164\n",
       "24                         i_post-placement_monitoring    -0.069931\n",
       "17                           i_active_youth_employment    -0.072183\n",
       "92                                    d_nationality_BR    -0.083839\n",
       "203         d_previous_job_sector_Executive_Management    -0.098015\n",
       "34                           i_technological_expertise    -0.122938\n",
       "75                               d_desired_work_time_P    -0.128318\n",
       "51                                i_basic_skills_train    -0.143092\n",
       "199             d_desired_job_sector_Unskilled workers    -0.153435\n",
       "43                          i_efa_contin_train_type_b2    -0.201467\n",
       "49                           i_efa_n2_vocational_train    -0.255204\n",
       "47                                           i_modular    -0.269171\n",
       "44                          i_efa_contin_train_type_b3    -0.286278\n",
       "25                     i_information_job_eval_orientat    -0.500588\n",
       "4                                  i_train_active_life    -0.510356\n",
       "50                           i_efa_n3_vocational_train    -0.517762\n",
       "209                          d_previous_job_sector_nan    -0.518090\n",
       "46                                     i_efa_s3_type_a    -0.581938\n",
       "63                                          d_disabled    -0.610325\n",
       "21                     i_employment_contract_insertion    -0.626687\n",
       "\n",
       "[210 rows x 2 columns]"
      ]
     },
     "execution_count": 24,
     "metadata": {},
     "output_type": "execute_result"
    }
   ],
   "source": [
    "feats = pd.concat([pd.DataFrame(X.columns),pd.DataFrame(np.transpose(lg.coef_))], axis = 1)\n",
    "feats.columns = [\"Feature\", \"Coefficient\"]\n",
    "feats.sort_values(\"Coefficient\", ascending=False)"
   ]
  },
  {
   "cell_type": "code",
   "execution_count": null,
   "metadata": {},
   "outputs": [],
   "source": []
  }
 ],
 "metadata": {
  "kernelspec": {
   "display_name": "iefp",
   "language": "python",
   "name": "iefp"
  },
  "language_info": {
   "codemirror_mode": {
    "name": "ipython",
    "version": 3
   },
   "file_extension": ".py",
   "mimetype": "text/x-python",
   "name": "python",
   "nbconvert_exporter": "python",
   "pygments_lexer": "ipython3",
   "version": "3.6.8"
  }
 },
 "nbformat": 4,
 "nbformat_minor": 4
}
