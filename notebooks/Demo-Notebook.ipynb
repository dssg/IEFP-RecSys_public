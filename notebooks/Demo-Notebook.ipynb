{
 "cells": [
  {
   "cell_type": "markdown",
   "metadata": {},
   "source": [
    "# Demo notebook for IEFP project"
   ]
  },
  {
   "cell_type": "markdown",
   "metadata": {},
   "source": [
    "### Make sure you have installed the requirement and deployed the Luigi pipeline at least once. See instructions on the readme found here: https://github.com/dssg/IEFP-RecSys or locally ./README.md"
   ]
  },
  {
   "cell_type": "markdown",
   "metadata": {},
   "source": [
    "## Get a set of recommendations"
   ]
  },
  {
   "cell_type": "code",
   "execution_count": null,
   "metadata": {},
   "outputs": [],
   "source": [
    "# Import relevant libraries\n",
    "import pandas as pd\n",
    "import boto3\n",
    "import pickle\n",
    "from iefp.recommendation import get_top_recommendations\n",
    "from iefp.data.s3 import read_object"
   ]
  },
  {
   "cell_type": "code",
   "execution_count": null,
   "metadata": {},
   "outputs": [],
   "source": [
    "# Load test set of the final modelling table\n",
    "path_to_test_set = \"s3://iefp-unemployment/models/2019/08/19/test_T170120.parquet\"\n",
    "df_test = pd.read_parquet(path_to_test_set)"
   ]
  },
  {
   "cell_type": "code",
   "execution_count": null,
   "metadata": {},
   "outputs": [],
   "source": [
    "# Drop the output variables from the test set\n",
    "df = df_test.drop(columns=[\"ttj\", \"ttj_sub_12\"])"
   ]
  },
  {
   "cell_type": "code",
   "execution_count": null,
   "metadata": {},
   "outputs": [],
   "source": [
    "# Load the model associated with the the test set\n",
    "path_to_model = \"models/2019/08/19/random_forest_T170120.pkl\"\n",
    "s3 = boto3.client('s3')\n",
    "response = s3.get_object(Bucket='iefp-unemployment', Key=path_to_model)\n",
    "model = pickle.loads(response[\"Body\"].read())"
   ]
  },
  {
   "cell_type": "code",
   "execution_count": null,
   "metadata": {},
   "outputs": [],
   "source": [
    "'''\n",
    "Run the get_top_recommendations function\n",
    "\n",
    "Parameters:\n",
    "\n",
    "model: BaseEstimator Scikit Learn class, individual journey: pd.Series,\n",
    "number of interventions per recommendation, number of recommendations\n",
    "\n",
    "'''\n",
    "get_top_recommendations(model, df.iloc[0], 3, 3)"
   ]
  }
 ],
 "metadata": {
  "kernelspec": {
   "display_name": "iefp",
   "language": "python",
   "name": "iefp"
  },
  "language_info": {
   "codemirror_mode": {
    "name": "ipython",
    "version": 3
   },
   "file_extension": ".py",
   "mimetype": "text/x-python",
   "name": "python",
   "nbconvert_exporter": "python",
   "pygments_lexer": "ipython3",
   "version": "3.6.8"
  }
 },
 "nbformat": 4,
 "nbformat_minor": 4
}
