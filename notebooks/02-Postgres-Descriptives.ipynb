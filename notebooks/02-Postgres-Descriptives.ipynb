{
 "cells": [
  {
   "cell_type": "code",
   "execution_count": null,
   "metadata": {},
   "outputs": [],
   "source": [
    "import os\n",
    "import yaml\n",
    "import pandas as pd\n",
    "import matplotlib as plt\n",
    "\n",
    "from matplotlib import rcParams\n",
    "from pyathena import connect\n",
    "from pyathena.util import as_pandas\n",
    "from sqlalchemy import *\n",
    "\n",
    "%matplotlib inline\n",
    "%load_ext autoreload"
   ]
  },
  {
   "cell_type": "code",
   "execution_count": null,
   "metadata": {},
   "outputs": [],
   "source": [
    "pg_cred = yaml.load(open(\"../conf/local/credentials.yml\"), Loader=yaml.FullLoader)\n"
   ]
  },
  {
   "cell_type": "code",
   "execution_count": null,
   "metadata": {},
   "outputs": [],
   "source": [
    "url = 'postgresql://{}:{}@{}:{}/{}'\n",
    "url = url.format(pg_cred[\"pg_user\"], pg_cred[\"pg_pass\"], pg_cred[\"pg_host\"], 5432, \"iefp\")\n",
    "\n",
    "# The return value of create_engine() is our connection object\n",
    "con = create_engine(url, client_encoding='utf8')\n",
    "\n",
    "# We then bind the connection to MetaData()\n",
    "meta = MetaData(bind=con, reflect=True)"
   ]
  },
  {
   "cell_type": "markdown",
   "metadata": {},
   "source": [
    "## SQL queries to extract intervention information"
   ]
  },
  {
   "cell_type": "code",
   "execution_count": null,
   "metadata": {},
   "outputs": [],
   "source": [
    "# Get intervention information all togetehr in one dataframe. \n",
    "# Remove duplicate rows by only looking at results (tipo_movimento >30).\n",
    "# Remove 'intervention codes' which are not actual interventions (PPE).\n",
    "\n",
    "sql = \"\"\"select\n",
    "ute_id,idade,sexo,ppe,ano_mes,data_intervencao,intervencoes.tipo_movimento,centro,codigo_intervencao,\n",
    "resultado_intervencao, dcodigo_interv \n",
    "\n",
    "from intervencoes\n",
    "\n",
    "join tipos_intervencoes\n",
    "\n",
    "on intervencoes.codigo_intervencao = tipos_intervencoes.codigo_interv\n",
    "\n",
    "where ((intervencoes.tipo_movimento > 30) \n",
    "\n",
    "and intervencoes.codigo_intervencao != '0101' \n",
    "and intervencoes.codigo_intervencao != '0102')\n",
    "\n",
    "order by ute_id\n",
    "\n",
    ";\"\"\"\n",
    "\n",
    "interv_descript = pd.read_sql(sql, con)\n"
   ]
  },
  {
   "cell_type": "code",
   "execution_count": null,
   "metadata": {},
   "outputs": [],
   "source": [
    "# Count the number of different types of interventions for output as a csv\n",
    "\n",
    "sql = \"\"\"select\n",
    "\n",
    "codigo_intervencao, dcodigo_interv, count(codigo_intervencao) as count_code\n",
    "\n",
    "from intervencoes\n",
    "\n",
    "join tipos_intervencoes\n",
    "\n",
    "on intervencoes.codigo_intervencao = tipos_intervencoes.codigo_interv\n",
    "\n",
    "where (intervencoes.tipo_movimento > 30) \n",
    "\n",
    "group by codigo_intervencao, dcodigo_interv \n",
    "\n",
    ";\"\"\"\n",
    "\n",
    "count_int = pd.read_sql(sql, con)\n"
   ]
  },
  {
   "cell_type": "markdown",
   "metadata": {},
   "source": [
    "## Write counts to csv for partners to view"
   ]
  },
  {
   "cell_type": "code",
   "execution_count": null,
   "metadata": {},
   "outputs": [],
   "source": [
    "# Sort by count\n",
    "count_int_sort = count_int.sort_values(by= 'count_code', ascending=False, inplace=False)"
   ]
  },
  {
   "cell_type": "code",
   "execution_count": null,
   "metadata": {},
   "outputs": [],
   "source": [
    "count_int_sort['codigo_intervencao'] = count_int_sort['codigo_intervencao'].astype('int64')"
   ]
  },
  {
   "cell_type": "code",
   "execution_count": null,
   "metadata": {},
   "outputs": [],
   "source": [
    "# Get total count\n",
    "total = count_int_sort.count_code.sum().astype('int64')"
   ]
  },
  {
   "cell_type": "code",
   "execution_count": null,
   "metadata": {},
   "outputs": [],
   "source": [
    "total"
   ]
  },
  {
   "cell_type": "code",
   "execution_count": null,
   "metadata": {},
   "outputs": [],
   "source": [
    "# Make percentage column\n",
    "count_int_sort['perc'] = (count_int_sort.count_code/ total) * 100"
   ]
  },
  {
   "cell_type": "code",
   "execution_count": null,
   "metadata": {},
   "outputs": [],
   "source": [
    "# Write to csv for partners to view\n",
    "count_int_sort.to_csv('count_int.csv',sep=',', header=True) "
   ]
  },
  {
   "cell_type": "markdown",
   "metadata": {},
   "source": [
    "## Intervention descriptions and types"
   ]
  },
  {
   "cell_type": "code",
   "execution_count": null,
   "metadata": {},
   "outputs": [],
   "source": [
    "interv_descript.head(5)"
   ]
  },
  {
   "cell_type": "code",
   "execution_count": null,
   "metadata": {},
   "outputs": [],
   "source": [
    "interv_descipt_nodup = interv_descript.drop_duplicates(subset=None, keep='first', inplace=False)"
   ]
  },
  {
   "cell_type": "code",
   "execution_count": null,
   "metadata": {},
   "outputs": [],
   "source": [
    "interv_descipt_nodup.head(5)"
   ]
  },
  {
   "cell_type": "code",
   "execution_count": null,
   "metadata": {},
   "outputs": [],
   "source": [
    "interv_descript['dcodigo_interv'].unique()"
   ]
  },
  {
   "cell_type": "markdown",
   "metadata": {},
   "source": [
    "## Average number of interventions per person"
   ]
  },
  {
   "cell_type": "code",
   "execution_count": null,
   "metadata": {},
   "outputs": [],
   "source": [
    "interv_descipt_nodup.head(5)"
   ]
  },
  {
   "cell_type": "code",
   "execution_count": null,
   "metadata": {},
   "outputs": [],
   "source": [
    "counts=interv_descipt_nodup.groupby(['ute_id']).size().reset_index(name='counts')\n",
    "\n",
    "print(counts.mean()) # 6 interventions avg (not including PPE)\n",
    "print(counts.min()) # 1\n",
    "print(counts.max()) # 59\n",
    "counts.counts.value_counts()"
   ]
  },
  {
   "cell_type": "code",
   "execution_count": null,
   "metadata": {},
   "outputs": [],
   "source": [
    "# How many interventions have people taken\n",
    "\n",
    "g=sns.distplot(counts['counts'], bins=29) #zoom\n",
    "g.set_xlabel('Number of interventions')\n",
    "g.set_ylabel('Proportion of job seekers')"
   ]
  },
  {
   "cell_type": "code",
   "execution_count": null,
   "metadata": {},
   "outputs": [],
   "source": [
    "counts['counts'].value_counts() # most people have 2 interventions"
   ]
  },
  {
   "cell_type": "markdown",
   "metadata": {},
   "source": [
    "## Distribution of interventions"
   ]
  },
  {
   "cell_type": "code",
   "execution_count": null,
   "metadata": {},
   "outputs": [],
   "source": [
    "interv_descript_nodup['codigo_intervencao'].value_counts()"
   ]
  },
  {
   "cell_type": "code",
   "execution_count": null,
   "metadata": {},
   "outputs": [],
   "source": [
    "code_counts = interv_descript_nodup['codigo_intervencao'].value_counts()"
   ]
  },
  {
   "cell_type": "code",
   "execution_count": null,
   "metadata": {},
   "outputs": [],
   "source": [
    "interv_descript_nodup.head()"
   ]
  },
  {
   "cell_type": "code",
   "execution_count": null,
   "metadata": {},
   "outputs": [],
   "source": [
    "# Description\n",
    "count_all = interv_descript_nodup.dcodigo_interv.value_counts()\n",
    "count_all_df = count_all.rename_axis('codes').reset_index(name='counts')\n",
    "count_all_df.codes = count_all_df.codes.astype('category')\n",
    "count_all_df.head(10)"
   ]
  },
  {
   "cell_type": "code",
   "execution_count": null,
   "metadata": {},
   "outputs": [],
   "source": [
    "# Codes\n",
    "count_all = interv_descript_nodup.codigo_intervencao.value_counts()\n",
    "count_all_df = count_all.rename_axis('codes').reset_index(name='counts')\n",
    "count_all_df.codes = count_all_df.codes.astype('category')\n",
    "count_all_df.head(10)"
   ]
  },
  {
   "cell_type": "markdown",
   "metadata": {},
   "source": [
    "0 INTERVIEW PLACEMENT 1372\n",
    "1 CONTINUOUS TRAINING - MODULAR TRAINING 916\n",
    "2 ACTIVE JOB SEARCH (E.G.) 728\n",
    "3 FORMATION - ACTIVE LIFE 691\n",
    "4 COLLECTIVE INFORMATION SESSION 297\n",
    "5 SOCIAL INSERTION INCOME - RSI 294\n",
    "6 EMPLOYMENT-INSERTION CONTRACT 265\n",
    "7 ORIENTATION INTERVIEW 184\n",
    "8 SOCIAL INSERTION INCOME - END 170\n",
    "9 PLACING 165"
   ]
  },
  {
   "cell_type": "code",
   "execution_count": null,
   "metadata": {},
   "outputs": [],
   "source": [
    "count_all_df_s = count_all_df[0:25]\n",
    "count_all_df_s"
   ]
  },
  {
   "cell_type": "code",
   "execution_count": null,
   "metadata": {},
   "outputs": [],
   "source": [
    "import seaborn as sns\n",
    "#plt.figure(figsize=(15, 15))\n",
    "import matplotlib.pylab as plt\n",
    "\n",
    "hist = sns.barplot(count_all_df_s['codes'].astype('category'), count_all_df_s['counts'])\n",
    "hist.set_ylabel('Intervention Code Count')\n",
    "hist.set_xticklabels(hist.get_xticklabels(), rotation=30)"
   ]
  },
  {
   "cell_type": "code",
   "execution_count": null,
   "metadata": {},
   "outputs": [],
   "source": [
    "interv_descipt_nodup['codigo_intervencao'].astype('category') "
   ]
  },
  {
   "cell_type": "code",
   "execution_count": null,
   "metadata": {},
   "outputs": [],
   "source": [
    "code_counts.head() # interview placement = 7003"
   ]
  },
  {
   "cell_type": "code",
   "execution_count": null,
   "metadata": {},
   "outputs": [],
   "source": [
    "interv_descipt_nodup.head()\n",
    "#interv_descipt_nodup.sexo.value_counts()"
   ]
  },
  {
   "cell_type": "code",
   "execution_count": null,
   "metadata": {},
   "outputs": [],
   "source": [
    "# by sex\n",
    "counts=interv_descipt_nodup[['ute_id','sexo']].groupby(['ute_id','sexo']).size().reset_index(name='counts')\n",
    "#counts=interv_descipt_nodup.groupby(['sexo']).size().reset_index(name='counts')\n",
    "counts.head()\n"
   ]
  },
  {
   "cell_type": "code",
   "execution_count": null,
   "metadata": {},
   "outputs": [],
   "source": [
    "g=sns.barplot(counts['sexo'],counts['counts']) \n",
    "g.set_xlabel('Sex', fontsize=18)\n",
    "g.set_ylabel('Average number of interventions', fontsize=18)"
   ]
  },
  {
   "cell_type": "code",
   "execution_count": null,
   "metadata": {},
   "outputs": [],
   "source": [
    "# by age \n",
    "counts=interv_descipt_nodup[['ute_id','idade']].groupby(['ute_id','idade']).size().reset_index(name='counts')\n",
    "#counts=interv_descipt_nodup.groupby(['sexo']).size().reset_index(name='counts')\n",
    "counts.head()"
   ]
  },
  {
   "cell_type": "code",
   "execution_count": null,
   "metadata": {},
   "outputs": [],
   "source": [
    "# figure size in inches\n",
    "rcParams['figure.figsize'] = 10,7"
   ]
  },
  {
   "cell_type": "code",
   "execution_count": null,
   "metadata": {},
   "outputs": [],
   "source": [
    "counts.idade.dtype"
   ]
  },
  {
   "cell_type": "code",
   "execution_count": null,
   "metadata": {},
   "outputs": [],
   "source": [
    "counts.idade = pd.to_numeric(counts.idade, errors='coerce')"
   ]
  },
  {
   "cell_type": "code",
   "execution_count": null,
   "metadata": {},
   "outputs": [],
   "source": [
    "g=sns.regplot(counts.idade,counts['counts']) \n",
    "g.set_xlabel('Age (years)', fontsize=18)\n",
    "g.set_ylabel('Average number of interventions', fontsize=18)"
   ]
  },
  {
   "cell_type": "markdown",
   "metadata": {},
   "source": [
    "## Outcome codes "
   ]
  },
  {
   "cell_type": "code",
   "execution_count": null,
   "metadata": {},
   "outputs": [],
   "source": [
    "# Count results per person\n",
    "\n",
    "counts=interv_descipt_nodup[['ute_id','sexo','resultado_intervencao']].groupby(['ute_id','sexo','resultado_intervencao']).size().reset_index(name='counts')\n",
    "#counts=interv_descipt_nodup.groupby(['sexo']).size().reset_index(name='counts')\n",
    "counts.head()"
   ]
  },
  {
   "cell_type": "code",
   "execution_count": null,
   "metadata": {},
   "outputs": [],
   "source": [
    "counts.resultado_intervencao.value_counts()"
   ]
  },
  {
   "cell_type": "code",
   "execution_count": null,
   "metadata": {},
   "outputs": [],
   "source": [
    "g=sns.barplot(counts['resultado_intervencao'].astype('category'),counts['counts']) \n",
    "g.set_xlabel('Intervention results', fontsize=18)\n",
    "g.set_ylabel('Frequency of result type', fontsize=18)\n",
    "g.set_xticklabels(g.get_xticklabels(), rotation=30)"
   ]
  },
  {
   "cell_type": "code",
   "execution_count": null,
   "metadata": {},
   "outputs": [],
   "source": [
    "p=counts['resultado_intervencao'].astype('category').value_counts().plot(kind=\"bar\")\n",
    "p.set(xlabel=\"Intevention Result Codes\", ylabel=\"Frequency\")\n",
    "plt.rcParams.update({'font.size': 18})"
   ]
  },
  {
   "cell_type": "code",
   "execution_count": null,
   "metadata": {},
   "outputs": [],
   "source": [
    "# Get results of interventions\n",
    "sql = \"\"\"select\n",
    "ute_id,idade,sexo,ppe,ano_mes,data_intervencao,intervencoes.tipo_movimento,centro,codigo_intervencao,\n",
    "resultado_intervencao, dcodigo_interv, dresultado \n",
    "\n",
    "from intervencoes\n",
    "\n",
    "join tipos_intervencoes\n",
    "\n",
    "on intervencoes.codigo_intervencao = tipos_intervencoes.codigo_interv\n",
    "\n",
    "join resultado_intervencoes\n",
    "\n",
    "on resultado_intervencoes.cresultado ilike intervencoes.resultado_intervencao\n",
    "\n",
    "where ((intervencoes.tipo_movimento > 30) \n",
    "\n",
    "and intervencoes.codigo_intervencao != '0101' \n",
    "and intervencoes.codigo_intervencao != '0102')\n",
    "\n",
    "order by ute_id\n",
    "\n",
    "limit 10000\n",
    ";\"\"\"\n",
    "\n",
    "interv_descript_res = pd.read_sql(sql, con)"
   ]
  },
  {
   "cell_type": "code",
   "execution_count": null,
   "metadata": {},
   "outputs": [],
   "source": [
    "interv_descript_res.head(20)"
   ]
  },
  {
   "cell_type": "code",
   "execution_count": null,
   "metadata": {},
   "outputs": [],
   "source": []
  }
 ],
 "metadata": {
  "kernelspec": {
   "display_name": "iefp",
   "language": "python",
   "name": "iefp"
  },
  "language_info": {
   "codemirror_mode": {
    "name": "ipython",
    "version": 3
   },
   "file_extension": ".py",
   "mimetype": "text/x-python",
   "name": "python",
   "nbconvert_exporter": "python",
   "pygments_lexer": "ipython3",
   "version": "3.6.8"
  }
 },
 "nbformat": 4,
 "nbformat_minor": 4
}
