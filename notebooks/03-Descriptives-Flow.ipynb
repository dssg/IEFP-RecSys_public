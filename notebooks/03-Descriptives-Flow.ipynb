{
 "cells": [
  {
   "cell_type": "markdown",
   "metadata": {},
   "source": [
    "## Notebook Magic"
   ]
  },
  {
   "cell_type": "code",
   "execution_count": null,
   "metadata": {},
   "outputs": [],
   "source": [
    "%matplotlib inline\n",
    "%load_ext autoreload"
   ]
  },
  {
   "cell_type": "markdown",
   "metadata": {},
   "source": [
    "## Imports"
   ]
  },
  {
   "cell_type": "code",
   "execution_count": null,
   "metadata": {},
   "outputs": [],
   "source": [
    "import os\n",
    "import yaml\n",
    "import pandas as pd\n",
    "from sqlalchemy import *\n",
    "import matplotlib.pyplot as plt\n",
    "import seaborn as sns"
   ]
  },
  {
   "cell_type": "markdown",
   "metadata": {},
   "source": [
    "## SQL Connection"
   ]
  },
  {
   "cell_type": "code",
   "execution_count": null,
   "metadata": {},
   "outputs": [],
   "source": [
    "pg_cred = yaml.load(open(\"../conf/local/credentials.yml\"), Loader=yaml.FullLoader)"
   ]
  },
  {
   "cell_type": "code",
   "execution_count": null,
   "metadata": {},
   "outputs": [],
   "source": [
    "url = 'postgresql://{}:{}@{}:{}/{}'\n",
    "url = url.format(pg_cred[\"pg_user\"], pg_cred[\"pg_pass\"], pg_cred[\"pg_host\"], 5432, \"iefp\")\n",
    "con = create_engine(url, client_encoding='utf8')\n",
    "meta = MetaData(bind=con, reflect=True)"
   ]
  },
  {
   "cell_type": "markdown",
   "metadata": {},
   "source": [
    "## Get Pedidos Table"
   ]
  },
  {
   "cell_type": "code",
   "execution_count": null,
   "metadata": {},
   "outputs": [],
   "source": [
    "ped_cols = yaml.load(open(\"../conf/base/sigae_columns.yml\"), Loader=yaml.FullLoader)[\"pedidos\"]\n",
    "table = 'pedidos'"
   ]
  },
  {
   "cell_type": "markdown",
   "metadata": {},
   "source": [
    "## Distribution of reasons for signing up"
   ]
  },
  {
   "cell_type": "code",
   "execution_count": null,
   "metadata": {},
   "outputs": [],
   "source": [
    "%%time\n",
    "sql = \"\"\"\n",
    "select {}\n",
    "from {}\n",
    "where \"tipo_movimento\" = 11\n",
    "order by \"ano_mes\" desc\n",
    "limit 1000000\n",
    "\"\"\".format(', '.join(ped_cols), \"pedidos\")\n",
    "\n",
    "df = pd.read_sql(sql, con)"
   ]
  },
  {
   "cell_type": "code",
   "execution_count": null,
   "metadata": {},
   "outputs": [],
   "source": [
    "cols = '*'\n",
    "table = 'motivos_inscricao'\n",
    "sql = \"\"\"\n",
    "select {}\n",
    "from {}\n",
    "\"\"\".format(', '.join(cols), table)\n",
    "df_motivos_inscricao = pd.read_sql(sql, con)"
   ]
  },
  {
   "cell_type": "code",
   "execution_count": null,
   "metadata": {},
   "outputs": [],
   "source": [
    "df_register = df.merge(df_motivos_inscricao, left_on=\"motivo_inscricao\", right_on=\"cmotivo_inscricao\")\n",
    "hist = df_register[\"dmotivo_inscricao\"].value_counts()/len(df_register)\n",
    "hist.plot.barh(figsize=(12,8), title=\"Distribution of Registering Reasons\")"
   ]
  },
  {
   "cell_type": "markdown",
   "metadata": {},
   "source": [
    "## Distribution of reason for cancelling registration"
   ]
  },
  {
   "cell_type": "code",
   "execution_count": null,
   "metadata": {},
   "outputs": [],
   "source": [
    "%%time\n",
    "sql = \"\"\"\n",
    "select {}\n",
    "from {}\n",
    "where \"tipo_movimento\" = 31\n",
    "order by \"ano_mes\" desc\n",
    "limit 1000000\n",
    "\"\"\".format(', '.join(ped_cols), \"pedidos\")\n",
    "\n",
    "df = pd.read_sql(sql, con)"
   ]
  },
  {
   "cell_type": "code",
   "execution_count": null,
   "metadata": {},
   "outputs": [],
   "source": [
    "cols = '*'\n",
    "table = 'motivos_anulacao'\n",
    "sql = \"\"\"\n",
    "select {}\n",
    "from {}\n",
    "\"\"\".format(', '.join(cols), table)\n",
    "df_motivos_anulacao = pd.read_sql(sql, con)"
   ]
  },
  {
   "cell_type": "code",
   "execution_count": null,
   "metadata": {},
   "outputs": [],
   "source": [
    "df_exit = df.copy()\n",
    "df_cancel = df_exit.merge(df_motivos_anulacao, left_on=\"motivo_anulacao\", right_on=\"cmotivo_anulacao\")\n",
    "hist = df_cancel[\"dmotivo_anulacao\"].value_counts()/len(df_cancel)\n",
    "hist.plot.barh(figsize=(12,8), title=\"Distribution of Exit Reasons\");"
   ]
  },
  {
   "cell_type": "markdown",
   "metadata": {},
   "source": [
    "## Monthly Registers, Exits and Placements"
   ]
  },
  {
   "cell_type": "code",
   "execution_count": null,
   "metadata": {},
   "outputs": [],
   "source": [
    "%%time\n",
    "sql = \"\"\"\n",
    "select ano_mes, tipo_movimento, count(*)\n",
    "from pedidos\n",
    "where tipo_movimento = 31 or tipo_movimento = 21 or tipo_movimento = 11\n",
    "group by ano_mes, tipo_movimento\n",
    "\"\"\"\n",
    "df = pd.read_sql(sql, con)"
   ]
  },
  {
   "cell_type": "code",
   "execution_count": null,
   "metadata": {},
   "outputs": [],
   "source": [
    "df_flow = df.copy()\n",
    "df_flow = df_flow.pivot(index='ano_mes', columns='tipo_movimento', values='count').reset_index()\n",
    "df_flow[\"ano_mes\"] = pd.to_datetime(df_flow[\"ano_mes\"].astype(\"int\").astype(\"str\"), format=\"%Y%m\")\n",
    "df_flow = df_flow.set_index(\"ano_mes\")\n",
    "df_flow = df_flow.rolling(3).mean()\n",
    "df_flow.plot(figsize=(12,8), title=\"Monthly Registers (11), Exits (31) and IEFP Placements (21)\");"
   ]
  }
 ],
 "metadata": {
  "kernelspec": {
   "display_name": "iefp",
   "language": "python",
   "name": "iefp"
  },
  "language_info": {
   "codemirror_mode": {
    "name": "ipython",
    "version": 3
   },
   "file_extension": ".py",
   "mimetype": "text/x-python",
   "name": "python",
   "nbconvert_exporter": "python",
   "pygments_lexer": "ipython3",
   "version": "3.6.8"
  }
 },
 "nbformat": 4,
 "nbformat_minor": 4
}
