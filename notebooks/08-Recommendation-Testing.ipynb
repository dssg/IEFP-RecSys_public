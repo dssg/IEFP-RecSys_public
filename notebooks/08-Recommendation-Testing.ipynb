{
 "cells": [
  {
   "cell_type": "code",
   "execution_count": null,
   "metadata": {},
   "outputs": [],
   "source": [
    "import os\n",
    "import yaml\n",
    "\n",
    "\n",
    "import pandas as pd\n",
    "import matplotlib.pyplot as plt\n",
    "\n",
    "import seaborn as sns\n",
    "import numpy as np\n",
    "import pickle\n",
    "import boto3\n",
    "import time\n",
    "import math\n",
    "\n",
    "from sklearn.model_selection import cross_validate\n",
    "from sklearn.ensemble import RandomForestClassifier, ExtraTreesClassifier, GradientBoostingClassifier, AdaBoostClassifier\n",
    "from sklearn.model_selection import train_test_split\n",
    "from sklearn.metrics import accuracy_score\n",
    "from sklearn.metrics import average_precision_score\n",
    "from sklearn.metrics import precision_recall_curve\n",
    "from sklearn.metrics import confusion_matrix\n",
    "from sklearn.metrics import auc, roc_curve\n",
    "\n",
    "from sklearn.linear_model import LogisticRegression, Lasso\n",
    "\n",
    "from sklearn.metrics import f1_score\n",
    "from sklearn.model_selection import GridSearchCV\n",
    "from sklearn.pipeline import Pipeline\n",
    "from sklearn.preprocessing import MinMaxScaler\n",
    "\n",
    "from scipy.stats import randint\n",
    "\n",
    "import itertools\n",
    "\n",
    "from iefp.recommendation import *\n",
    "\n",
    "from IPython.display import display\n",
    "pd.options.display.max_columns = None\n",
    "pd.options.display.width = 0"
   ]
  },
  {
   "cell_type": "code",
   "execution_count": null,
   "metadata": {},
   "outputs": [],
   "source": [
    "%matplotlib inline\n",
    "%load_ext autoreload"
   ]
  },
  {
   "cell_type": "code",
   "execution_count": null,
   "metadata": {},
   "outputs": [],
   "source": [
    "df_train = pd.read_parquet(\"s3://iefp-unemployment/copy_test_train/train_T180509.parquet\")\n",
    "df_test = pd.read_parquet(\"s3://iefp-unemployment/copy_test_train/test_T180509.parquet\")"
   ]
  },
  {
   "cell_type": "code",
   "execution_count": null,
   "metadata": {},
   "outputs": [],
   "source": [
    "new_df_test = pd.read_parquet(\"s3://iefp-unemployment/modelling/test.parquet\")"
   ]
  },
  {
   "cell_type": "code",
   "execution_count": null,
   "metadata": {},
   "outputs": [],
   "source": [
    "s3 = boto3.client('s3')\n",
    "response = s3.get_object(Bucket='iefp-unemployment', Key='copy_test_train/random_forest_T180509.pkl')\n",
    "model = pickle.loads(response[\"Body\"].read())"
   ]
  },
  {
   "cell_type": "code",
   "execution_count": null,
   "metadata": {},
   "outputs": [],
   "source": [
    "def get_sub_group(df, observation):\n",
    "    \n",
    "    journey = pd.DataFrame(observation).T\n",
    "    \n",
    "    journey[\"youngest\"] = (journey[\"d_age\"] >= 0.0) & (journey[\"d_age\"] < 0.2)\n",
    "    journey[\"young_adult\"] = (journey[\"d_age\"] >= 0.2) & (journey[\"d_age\"] < 0.3)\n",
    "    journey[\"adult\"] = (journey[\"d_age\"] >= 0.3) & (journey[\"d_age\"] < 0.40)\n",
    "    journey[\"middle_adult\"] = (journey[\"d_age\"] >= 0.4) & (journey[\"d_age\"] < 0.5)\n",
    "    journey[\"older_adult\"] = (journey[\"d_age\"] >= 0.5) & (journey[\"d_age\"] < 0.6)\n",
    "    journey[\"senior\"] = (journey[\"d_age\"] >= 0.6) & (journey[\"d_age\"] < 0.7)\n",
    "    journey[\"old_senior\"] = (journey[\"d_age\"] >= 0.7) & (journey[\"d_age\"] < 0.8)\n",
    "    journey[\"old\"] = (journey[\"d_age\"] >= 0.8)\n",
    "    \n",
    "    df[\"youngest\"] = (df[\"d_age\"] >= 0.0) & (df[\"d_age\"] < 0.2)\n",
    "    df[\"young_adult\"] = (df[\"d_age\"] >= 0.2) & (df[\"d_age\"] < 0.3)\n",
    "    df[\"adult\"] = (df[\"d_age\"] >= 0.3) & (df[\"d_age\"] < 0.40)\n",
    "    df[\"middle_adult\"] = (df[\"d_age\"] >= 0.4) & (df[\"d_age\"] < 0.5)\n",
    "    df[\"older_adult\"] = (df[\"d_age\"] >= 0.5) & (df[\"d_age\"] < 0.6)\n",
    "    df[\"senior\"] = (df[\"d_age\"] >= 0.6) & (df[\"d_age\"] < 0.7)\n",
    "    df[\"old_senior\"] = (df[\"d_age\"] >= 0.7) & (df[\"d_age\"] < 0.8)\n",
    "    df[\"old\"] = (df[\"d_age\"] >= 0.8)\n",
    "    \n",
    "    dems = [\"d_gender_M\", \"d_disabled\", \"d_subsidy\", \"d_rsi_True\",\n",
    "           \"youngest\", \"young_adult\", \"adult\", \"middle_adult\", \n",
    "            \"older_adult\", \"senior\", \"old_senior\", \"old\", \"d_nationality_other\",\n",
    "           \"d_school_qualification_2.0\", \"d_school_qualification_3.0\",\n",
    "            \"d_school_qualification_4.0\", \"d_school_qualification_5.0\",\n",
    "            \"d_school_qualification_6.0\", \"d_school_qualification_nan\"]\n",
    "    \n",
    "    sub_group = df.merge(journey[dems], on=dems, right_index=True, how=\"inner\")\n",
    "\n",
    "    return sub_group"
   ]
  },
  {
   "cell_type": "code",
   "execution_count": null,
   "metadata": {},
   "outputs": [],
   "source": [
    "full_set = df_train.append(df_test)"
   ]
  },
  {
   "cell_type": "code",
   "execution_count": null,
   "metadata": {},
   "outputs": [],
   "source": [
    "def eval_recommendations(journey, full_dataset, recommendation_lst):\n",
    "\n",
    "    if not recommendation_lst:\n",
    "        return 1\n",
    "\n",
    "    predicted_prob_success = recommendation_lst.pop()\n",
    "    \n",
    "    sub_group = get_sub_group(full_dataset, journey)\n",
    "    \n",
    "    recommendations = [(\"i_\" + \"_\".join(inter.split())) for inter in recommendation_lst]\n",
    "    \n",
    "    mean_success_rate = []\n",
    "    for rec in recommendations:\n",
    "        took_rec = sub_group[sub_group[rec] == 1.0]\n",
    "        mean_success_rate.append(took_rec[\"ttj_sub_12\"].astype(int).mean())\n",
    "\n",
    "    if not mean_success_rate:\n",
    "        print(\"warning: no successful examples\")\n",
    "        average = 0.0\n",
    "    else:\n",
    "        average = sum(mean_success_rate) / len(mean_success_rate)\n",
    "    \n",
    "    error = abs(predicted_prob_success - average)\n",
    "    \n",
    "    return error"
   ]
  },
  {
   "cell_type": "code",
   "execution_count": null,
   "metadata": {},
   "outputs": [],
   "source": [
    "df_test.drop(columns = [\"ttj\", \"ttj_sub_12\"], inplace=True)"
   ]
  },
  {
   "cell_type": "code",
   "execution_count": null,
   "metadata": {},
   "outputs": [],
   "source": [
    "sample = df_test.sample(frac=0.005, random_state=1)"
   ]
  },
  {
   "cell_type": "code",
   "execution_count": null,
   "metadata": {},
   "outputs": [],
   "source": [
    "get_top_recommendations(model, sample.iloc[0], 3, 1).iloc[0]"
   ]
  },
  {
   "cell_type": "code",
   "execution_count": null,
   "metadata": {},
   "outputs": [],
   "source": [
    "sample[\"recommendations\"] = sample.apply(lambda x: list(get_top_recommendations(model, x, 3, 1).iloc[0]), axis=1)"
   ]
  },
  {
   "cell_type": "code",
   "execution_count": null,
   "metadata": {},
   "outputs": [],
   "source": [
    "sample[\"rec_error\"] = sample.apply(lambda x: eval_recommendations(x, full_set, x['recommendations']), axis=1)"
   ]
  },
  {
   "cell_type": "code",
   "execution_count": null,
   "metadata": {},
   "outputs": [],
   "source": [
    "sample.to_pickle(\"./test_set_with_rec_error.pkl\")"
   ]
  },
  {
   "cell_type": "code",
   "execution_count": null,
   "metadata": {},
   "outputs": [],
   "source": [
    "sample['rec_error'].mean()"
   ]
  }
 ],
 "metadata": {
  "kernelspec": {
   "display_name": "iefp",
   "language": "python",
   "name": "iefp"
  },
  "language_info": {
   "codemirror_mode": {
    "name": "ipython",
    "version": 3
   },
   "file_extension": ".py",
   "mimetype": "text/x-python",
   "name": "python",
   "nbconvert_exporter": "python",
   "pygments_lexer": "ipython3",
   "version": "3.6.8"
  }
 },
 "nbformat": 4,
 "nbformat_minor": 4
}
