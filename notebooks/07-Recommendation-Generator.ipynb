{
 "cells": [
  {
   "cell_type": "markdown",
   "metadata": {},
   "source": [
    "## Notebook Magic"
   ]
  },
  {
   "cell_type": "code",
   "execution_count": null,
   "metadata": {},
   "outputs": [],
   "source": [
    "%matplotlib inline\n",
    "%load_ext autoreload"
   ]
  },
  {
   "cell_type": "markdown",
   "metadata": {},
   "source": [
    "## Imports"
   ]
  },
  {
   "cell_type": "code",
   "execution_count": null,
   "metadata": {},
   "outputs": [],
   "source": [
    "import os\n",
    "import yaml\n",
    "import pandas as pd\n",
    "import matplotlib.pyplot as plt\n",
    "import pandas as pd\n",
    "import seaborn as sns\n",
    "import numpy as np\n",
    "\n",
    "from sklearn.model_selection import cross_validate\n",
    "from sklearn.ensemble import RandomForestClassifier, ExtraTreesClassifier, GradientBoostingClassifier, AdaBoostClassifier\n",
    "from sklearn.model_selection import train_test_split\n",
    "from sklearn.metrics import accuracy_score\n",
    "from sklearn.metrics import average_precision_score\n",
    "from sklearn.metrics import precision_recall_curve\n",
    "from sklearn.metrics import confusion_matrix\n",
    "from sklearn.metrics import auc, roc_curve\n",
    "\n",
    "from sklearn.linear_model import LogisticRegression, Lasso\n",
    "\n",
    "from sklearn.metrics import f1_score\n",
    "from sklearn.model_selection import GridSearchCV\n",
    "from sklearn.pipeline import Pipeline\n",
    "from sklearn.preprocessing import MinMaxScaler\n",
    "\n",
    "from scipy.stats import randint\n",
    "\n",
    "import itertools\n",
    "\n",
    "from IPython.display import display\n",
    "pd.options.display.max_columns = None\n",
    "pd.options.display.width = 0"
   ]
  },
  {
   "cell_type": "code",
   "execution_count": null,
   "metadata": {},
   "outputs": [],
   "source": [
    "df = pd.read_parquet(\"s3://iefp-unemployment/modelling/modelling.parquet\")"
   ]
  },
  {
   "cell_type": "code",
   "execution_count": null,
   "metadata": {},
   "outputs": [],
   "source": [
    "df.shape\n",
    "display(df.head(10))"
   ]
  },
  {
   "cell_type": "code",
   "execution_count": null,
   "metadata": {},
   "outputs": [],
   "source": [
    "df.info()"
   ]
  },
  {
   "cell_type": "code",
   "execution_count": null,
   "metadata": {},
   "outputs": [],
   "source": [
    "# Intervention feature preparation\n",
    "\n",
    "interv_cols = [col for col in df.columns if \"i_\" in col]\n",
    "X = df[interv_cols].copy()\n",
    "\n",
    "# Strip col names\n",
    "X.columns = [col.replace(\"i_\", \"\") for col in X.columns]\n",
    "\n",
    "# Make df boolean\n",
    "X = (X.notna()).astype('int')\n",
    "\n",
    "# Filter for frequent interventions\n",
    "frequent_i = X.mean()[X.mean() > 0.01].index.tolist()\n",
    "X = X[frequent_i]"
   ]
  },
  {
   "cell_type": "code",
   "execution_count": null,
   "metadata": {},
   "outputs": [],
   "source": [
    "# Demographics prep\n",
    "\n",
    "dems = [\"d_age\", \"d_gender\", \"d_civil_status\", \"d_rsi\", \"d_desired_work_time\", \"d_desired_contract\",\n",
    "       \"d_school_qualification\", \"d_college_qualification\", \"d_disabled\", \"d_subsidy\", \"d_previous_job_sector\",\n",
    "       \"d_desired_job_sector\", \"d_previous_job_experience\"]\n",
    "\n",
    "X[dems] = df[dems]"
   ]
  },
  {
   "cell_type": "code",
   "execution_count": null,
   "metadata": {},
   "outputs": [],
   "source": [
    "display(X.head(10))"
   ]
  },
  {
   "cell_type": "code",
   "execution_count": null,
   "metadata": {},
   "outputs": [],
   "source": [
    "X.info()"
   ]
  },
  {
   "cell_type": "code",
   "execution_count": null,
   "metadata": {},
   "outputs": [],
   "source": [
    "# Dealing with missing values\n",
    "# Leave None type as feature in college_qual\n",
    "# Fill NAs with 0 for school qualification!!!\n",
    "# Fill NAs with 0 for previous job experience\n",
    "\n",
    "X['d_school_qualification'] = X['d_school_qualification'].fillna(0)\n",
    "X['d_previous_job_experience'] = X['d_previous_job_experience'].fillna(0)\n"
   ]
  },
  {
   "cell_type": "code",
   "execution_count": null,
   "metadata": {},
   "outputs": [],
   "source": [
    "X.info()"
   ]
  },
  {
   "cell_type": "code",
   "execution_count": null,
   "metadata": {},
   "outputs": [],
   "source": [
    "# Create temporal features\n",
    "\n",
    "# Encode temporal variables as strings\n",
    "\n",
    "X[\"register_month\"] = df.register_date.dt.month.astype(str)\n",
    "X[\"register_year\"] = df.register_date.dt.year.astype(str)\n",
    "\n",
    "# Convert categorical to dummies \n",
    "\n",
    "X = pd.get_dummies(X, drop_first=True, dummy_na=True)\n",
    "\n",
    "display(X.head(10))"
   ]
  },
  {
   "cell_type": "code",
   "execution_count": null,
   "metadata": {},
   "outputs": [],
   "source": [
    "# Set output variable\n",
    "\n",
    "Y = df[\"success\"]"
   ]
  },
  {
   "cell_type": "code",
   "execution_count": null,
   "metadata": {},
   "outputs": [],
   "source": [
    "X.columns.tolist()"
   ]
  },
  {
   "cell_type": "code",
   "execution_count": null,
   "metadata": {},
   "outputs": [],
   "source": [
    "# Test/Train split\n",
    "\n",
    "\n",
    "X_train, X_test, y_train, y_test = train_test_split(X, Y, test_size=0.4, random_state=0)"
   ]
  },
  {
   "cell_type": "code",
   "execution_count": null,
   "metadata": {},
   "outputs": [],
   "source": [
    "\n",
    "# Prepare Random Forest pipeline with scaling (for Age and job experience)\n",
    "\n",
    "rf__scale_pipeline = Pipeline([\n",
    "    ('scale', MinMaxScaler()),\n",
    "    ('rf', RandomForestClassifier(n_estimators=300, n_jobs=-1, random_state=0))\n",
    "])\n",
    "\n",
    "# Best model from big grid search\n",
    "\n",
    "best_rf__scale_pipeline = Pipeline([\n",
    "    ('scale', MinMaxScaler()),\n",
    "    ('rf', RandomForestClassifier(bootstrap=True, class_weight=None,\n",
    "                                        criterion='gini', max_depth=20,\n",
    "                                        max_features='sqrt',\n",
    "                                        max_leaf_nodes=None,\n",
    "                                        min_impurity_decrease=0.0,\n",
    "                                        min_impurity_split=None,\n",
    "                                        min_samples_leaf=1,\n",
    "                                        min_samples_split=20,\n",
    "                                        min_weight_fraction_leaf=0.0,\n",
    "                                        n_estimators=100, n_jobs=-1,\n",
    "                                        oob_score=False, random_state=0,\n",
    "                                        verbose=0, warm_start=False))\n",
    "])\n"
   ]
  },
  {
   "cell_type": "code",
   "execution_count": null,
   "metadata": {},
   "outputs": [],
   "source": [
    "# Best model\n",
    "\n",
    "best_model = best_rf__scale_pipeline.fit(X_train, y_train)\n",
    "\n",
    "print(confusion_matrix(y_test, best_model.predict(X_test)))\n",
    "\n",
    "print(accuracy_score(y_test, best_model.predict(X_test)))"
   ]
  },
  {
   "cell_type": "code",
   "execution_count": null,
   "metadata": {},
   "outputs": [],
   "source": [
    "# Grid search\n",
    "\n",
    "big_param_grid = [\n",
    "        {'rf__n_estimators': [1,10,100,1000,10000],\n",
    "         'rf__max_depth': [1,5,10,20,50,100],\n",
    "         'rf__max_features': ['sqrt','log2'],\n",
    "         'rf__min_samples_split': [2,5,10],\n",
    "         'rf__n_jobs': [-1]\n",
    "        },\n",
    "    ]\n",
    "\n",
    "param_grid = [\n",
    "        {'rf__n_estimators': [500, 1000],\n",
    "         'rf__max_depth': [2, 3, 6]\n",
    "        },\n",
    "    ]\n",
    "\n",
    "\n",
    "rf_grid_search = GridSearchCV(rf__scale_pipeline, param_grid, cv=3, refit=True)\n",
    "\n",
    "rf_grid_search.fit(X_train, y_train)\n",
    "\n",
    "rf_final_model = rf_grid_search.best_estimator_\n",
    "\n",
    "print(confusion_matrix(y_test, rf_final_model.predict(X_test)))\n",
    "\n",
    "print(accuracy_score(y_test, rf_final_model.predict(X_test)))\n",
    "'''\n",
    "f = open(\"results.txt\", \"a\")\n",
    "f.write(str(rf_final_model) + \"\\n\")\n",
    "f.write(str(confusion_matrix(y_test, rf_final_model.predict(X_test))) + \"\\n\")\n",
    "f.write(str(accuracy_score(y_test, rf_final_model.predict(X_test))) + \"\\n\")\n",
    "f.write(\"\\n\")\n",
    "f.close()\n",
    "'''"
   ]
  },
  {
   "cell_type": "code",
   "execution_count": null,
   "metadata": {},
   "outputs": [],
   "source": [
    "# Permutations - full\n",
    "\n",
    "combinations = [c for c in itertools.product([0, 1], repeat=16) if sum(c) <= 2]\n",
    "\n",
    "combo_df = pd.DataFrame(combinations)\n",
    "\n",
    "#combo_df.to_pickle(\"./full_combo.pkl\")\n",
    "#unpickled_df = pd.read_pickle(\"./full_combo.pkl\")"
   ]
  },
  {
   "cell_type": "code",
   "execution_count": null,
   "metadata": {},
   "outputs": [],
   "source": [
    "type(X_test.iloc[[75]])"
   ]
  },
  {
   "cell_type": "code",
   "execution_count": null,
   "metadata": {},
   "outputs": [],
   "source": [
    "type(X.iloc[[75]])"
   ]
  },
  {
   "cell_type": "code",
   "execution_count": null,
   "metadata": {},
   "outputs": [],
   "source": [
    "user_2_data = X.iloc[93182]"
   ]
  },
  {
   "cell_type": "code",
   "execution_count": null,
   "metadata": {},
   "outputs": [],
   "source": [
    "user_data = X_test.iloc[[5631]]"
   ]
  },
  {
   "cell_type": "code",
   "execution_count": null,
   "metadata": {},
   "outputs": [],
   "source": [
    "user_data_fixed = user_data.drop(user_data.iloc[:,0:16], axis=1)"
   ]
  },
  {
   "cell_type": "code",
   "execution_count": null,
   "metadata": {},
   "outputs": [],
   "source": [
    "# Create user dataframe to match combosize \n",
    "\n",
    "user_fixed_df = pd.DataFrame(np.tile(user_data_fixed.values, len(combo_df.index)).reshape(-1,len(user_data_fixed.columns)), \n",
    "                   columns=user_data_fixed.columns)"
   ]
  },
  {
   "cell_type": "code",
   "execution_count": null,
   "metadata": {},
   "outputs": [],
   "source": [
    "predict_df = combo_df.join(user_fixed_df)"
   ]
  },
  {
   "cell_type": "code",
   "execution_count": null,
   "metadata": {},
   "outputs": [],
   "source": [
    "probabilities = pd.DataFrame(best_model.predict_proba(predict_df))"
   ]
  },
  {
   "cell_type": "code",
   "execution_count": null,
   "metadata": {},
   "outputs": [],
   "source": [
    "probabilities.columns = [\"unsuccessful\", \"successful\"]"
   ]
  },
  {
   "cell_type": "code",
   "execution_count": null,
   "metadata": {},
   "outputs": [],
   "source": [
    "results_df = predict_df.join(probabilities)"
   ]
  },
  {
   "cell_type": "code",
   "execution_count": null,
   "metadata": {},
   "outputs": [],
   "source": [
    "results_df.iloc[:,0:16].columns = ['i_job_search_techn',\n",
    " 'i_train_active_life',\n",
    " 'i_tutoring_in_individual_job_search',\n",
    " 'i_professional_internships',\n",
    " 'i_internship_job',\n",
    " 'i_employment-insertion_contract',\n",
    " 'i_employment_contract_insertion',\n",
    " 'i_information_job_eval_orientat',\n",
    " 'i_collective_orientation_session',\n",
    " 'i_tutoring_in_collective_job_search',\n",
    " 'i_efa_s3_type_a',\n",
    " 'i_modular',\n",
    " 'i_efa_n3_vocational_train',\n",
    " 'i_assertive_communication_job_search_techn',\n",
    " 'i_entrepreneurship_skills_job_search_techn',\n",
    " 'i_train_external_entities']"
   ]
  },
  {
   "cell_type": "code",
   "execution_count": null,
   "metadata": {},
   "outputs": [],
   "source": [
    "display(results_df.sort_values(by=['successful'], ascending=False))"
   ]
  },
  {
   "cell_type": "code",
   "execution_count": null,
   "metadata": {},
   "outputs": [],
   "source": [
    "display(results_df.sort_values(by=['successful'], ascending=False))"
   ]
  },
  {
   "cell_type": "code",
   "execution_count": null,
   "metadata": {},
   "outputs": [],
   "source": []
  }
 ],
 "metadata": {
  "kernelspec": {
   "display_name": "iefp",
   "language": "python",
   "name": "iefp"
  },
  "language_info": {
   "codemirror_mode": {
    "name": "ipython",
    "version": 3
   },
   "file_extension": ".py",
   "mimetype": "text/x-python",
   "name": "python",
   "nbconvert_exporter": "python",
   "pygments_lexer": "ipython3",
   "version": "3.6.8"
  }
 },
 "nbformat": 4,
 "nbformat_minor": 4
}
