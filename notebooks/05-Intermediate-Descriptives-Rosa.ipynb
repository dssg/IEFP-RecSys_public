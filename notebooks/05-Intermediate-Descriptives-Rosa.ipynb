{
 "cells": [
  {
   "cell_type": "markdown",
   "metadata": {},
   "source": [
    "## Notebook Magic"
   ]
  },
  {
   "cell_type": "code",
   "execution_count": 120,
   "metadata": {},
   "outputs": [],
   "source": [
    "%matplotlib inline\n",
    "%load_ext autoreload"
   ]
  },
  {
   "cell_type": "markdown",
   "metadata": {},
   "source": [
    "## Imports"
   ]
  },
  {
   "cell_type": "code",
   "execution_count": 121,
   "metadata": {},
   "outputs": [],
   "source": [
    "import os\n",
    "import yaml\n",
    "import pandas as pd\n",
    "import matplotlib.pyplot as plt\n",
    "import pandas as pd\n",
    "import seaborn as sns\n",
    "import numpy as np\n",
    "import sklearn\n",
    "\n",
    "from sklearn.cluster import KMeans"
   ]
  },
  {
   "cell_type": "markdown",
   "metadata": {},
   "source": [
    "## Load Intermediate Layer"
   ]
  },
  {
   "cell_type": "code",
   "execution_count": 122,
   "metadata": {},
   "outputs": [
    {
     "data": {
      "text/html": [
       "<div>\n",
       "<style scoped>\n",
       "    .dataframe tbody tr th:only-of-type {\n",
       "        vertical-align: middle;\n",
       "    }\n",
       "\n",
       "    .dataframe tbody tr th {\n",
       "        vertical-align: top;\n",
       "    }\n",
       "\n",
       "    .dataframe thead th {\n",
       "        text-align: right;\n",
       "    }\n",
       "</style>\n",
       "<table border=\"1\" class=\"dataframe\">\n",
       "  <thead>\n",
       "    <tr style=\"text-align: right;\">\n",
       "      <th></th>\n",
       "      <th>user_id</th>\n",
       "      <th>journey_count</th>\n",
       "      <th>register_date</th>\n",
       "      <th>register_reason</th>\n",
       "      <th>exit_date_21</th>\n",
       "      <th>exit_date_31</th>\n",
       "      <th>exit_reason</th>\n",
       "      <th>birth_date</th>\n",
       "      <th>gender</th>\n",
       "      <th>age</th>\n",
       "      <th>...</th>\n",
       "      <th>intervention_date_791</th>\n",
       "      <th>intervention_date_794</th>\n",
       "      <th>intervention_date_795</th>\n",
       "      <th>intervention_date_796</th>\n",
       "      <th>intervention_date_797</th>\n",
       "      <th>intervention_date_9902</th>\n",
       "      <th>intervention_date_9903</th>\n",
       "      <th>intervention_date_9904</th>\n",
       "      <th>intervention_date_9906</th>\n",
       "      <th>intervention_date_9907</th>\n",
       "    </tr>\n",
       "  </thead>\n",
       "  <tbody>\n",
       "    <tr>\n",
       "      <th>0</th>\n",
       "      <td>186</td>\n",
       "      <td>1.0</td>\n",
       "      <td>2018-05-03</td>\n",
       "      <td>5.0</td>\n",
       "      <td>NaT</td>\n",
       "      <td>2018-07-02</td>\n",
       "      <td>19.0</td>\n",
       "      <td>1966-04-28</td>\n",
       "      <td>F</td>\n",
       "      <td>52.0</td>\n",
       "      <td>...</td>\n",
       "      <td>NaT</td>\n",
       "      <td>NaT</td>\n",
       "      <td>NaT</td>\n",
       "      <td>NaT</td>\n",
       "      <td>NaT</td>\n",
       "      <td>NaT</td>\n",
       "      <td>NaT</td>\n",
       "      <td>NaT</td>\n",
       "      <td>NaT</td>\n",
       "      <td>NaT</td>\n",
       "    </tr>\n",
       "    <tr>\n",
       "      <th>1</th>\n",
       "      <td>304</td>\n",
       "      <td>1.0</td>\n",
       "      <td>2017-01-17</td>\n",
       "      <td>7.0</td>\n",
       "      <td>NaT</td>\n",
       "      <td>2017-11-21</td>\n",
       "      <td>11.0</td>\n",
       "      <td>1962-06-28</td>\n",
       "      <td>M</td>\n",
       "      <td>54.0</td>\n",
       "      <td>...</td>\n",
       "      <td>NaT</td>\n",
       "      <td>NaT</td>\n",
       "      <td>NaT</td>\n",
       "      <td>NaT</td>\n",
       "      <td>NaT</td>\n",
       "      <td>NaT</td>\n",
       "      <td>NaT</td>\n",
       "      <td>NaT</td>\n",
       "      <td>NaT</td>\n",
       "      <td>NaT</td>\n",
       "    </tr>\n",
       "    <tr>\n",
       "      <th>2</th>\n",
       "      <td>323</td>\n",
       "      <td>1.0</td>\n",
       "      <td>2016-02-05</td>\n",
       "      <td>7.0</td>\n",
       "      <td>NaT</td>\n",
       "      <td>2017-07-25</td>\n",
       "      <td>20.0</td>\n",
       "      <td>1979-01-22</td>\n",
       "      <td>M</td>\n",
       "      <td>37.0</td>\n",
       "      <td>...</td>\n",
       "      <td>NaT</td>\n",
       "      <td>NaT</td>\n",
       "      <td>NaT</td>\n",
       "      <td>NaT</td>\n",
       "      <td>NaT</td>\n",
       "      <td>2016-09-23</td>\n",
       "      <td>NaT</td>\n",
       "      <td>NaT</td>\n",
       "      <td>NaT</td>\n",
       "      <td>NaT</td>\n",
       "    </tr>\n",
       "    <tr>\n",
       "      <th>3</th>\n",
       "      <td>574</td>\n",
       "      <td>1.0</td>\n",
       "      <td>2017-06-30</td>\n",
       "      <td>5.0</td>\n",
       "      <td>NaT</td>\n",
       "      <td>2018-05-18</td>\n",
       "      <td>61.0</td>\n",
       "      <td>1976-05-06</td>\n",
       "      <td>M</td>\n",
       "      <td>41.0</td>\n",
       "      <td>...</td>\n",
       "      <td>NaT</td>\n",
       "      <td>NaT</td>\n",
       "      <td>NaT</td>\n",
       "      <td>NaT</td>\n",
       "      <td>NaT</td>\n",
       "      <td>NaT</td>\n",
       "      <td>NaT</td>\n",
       "      <td>NaT</td>\n",
       "      <td>NaT</td>\n",
       "      <td>NaT</td>\n",
       "    </tr>\n",
       "    <tr>\n",
       "      <th>4</th>\n",
       "      <td>724</td>\n",
       "      <td>3.0</td>\n",
       "      <td>2018-04-18</td>\n",
       "      <td>15.0</td>\n",
       "      <td>NaT</td>\n",
       "      <td>2018-12-19</td>\n",
       "      <td>44.0</td>\n",
       "      <td>1978-12-13</td>\n",
       "      <td>F</td>\n",
       "      <td>39.0</td>\n",
       "      <td>...</td>\n",
       "      <td>NaT</td>\n",
       "      <td>NaT</td>\n",
       "      <td>NaT</td>\n",
       "      <td>NaT</td>\n",
       "      <td>NaT</td>\n",
       "      <td>NaT</td>\n",
       "      <td>NaT</td>\n",
       "      <td>NaT</td>\n",
       "      <td>NaT</td>\n",
       "      <td>NaT</td>\n",
       "    </tr>\n",
       "  </tbody>\n",
       "</table>\n",
       "<p>5 rows × 94 columns</p>\n",
       "</div>"
      ],
      "text/plain": [
       "   user_id  journey_count register_date  register_reason exit_date_21  \\\n",
       "0      186            1.0    2018-05-03              5.0          NaT   \n",
       "1      304            1.0    2017-01-17              7.0          NaT   \n",
       "2      323            1.0    2016-02-05              7.0          NaT   \n",
       "3      574            1.0    2017-06-30              5.0          NaT   \n",
       "4      724            3.0    2018-04-18             15.0          NaT   \n",
       "\n",
       "  exit_date_31  exit_reason birth_date gender   age  ...  \\\n",
       "0   2018-07-02         19.0 1966-04-28      F  52.0  ...   \n",
       "1   2017-11-21         11.0 1962-06-28      M  54.0  ...   \n",
       "2   2017-07-25         20.0 1979-01-22      M  37.0  ...   \n",
       "3   2018-05-18         61.0 1976-05-06      M  41.0  ...   \n",
       "4   2018-12-19         44.0 1978-12-13      F  39.0  ...   \n",
       "\n",
       "   intervention_date_791  intervention_date_794 intervention_date_795  \\\n",
       "0                    NaT                    NaT                   NaT   \n",
       "1                    NaT                    NaT                   NaT   \n",
       "2                    NaT                    NaT                   NaT   \n",
       "3                    NaT                    NaT                   NaT   \n",
       "4                    NaT                    NaT                   NaT   \n",
       "\n",
       "  intervention_date_796 intervention_date_797 intervention_date_9902  \\\n",
       "0                   NaT                   NaT                    NaT   \n",
       "1                   NaT                   NaT                    NaT   \n",
       "2                   NaT                   NaT             2016-09-23   \n",
       "3                   NaT                   NaT                    NaT   \n",
       "4                   NaT                   NaT                    NaT   \n",
       "\n",
       "  intervention_date_9903 intervention_date_9904 intervention_date_9906  \\\n",
       "0                    NaT                    NaT                    NaT   \n",
       "1                    NaT                    NaT                    NaT   \n",
       "2                    NaT                    NaT                    NaT   \n",
       "3                    NaT                    NaT                    NaT   \n",
       "4                    NaT                    NaT                    NaT   \n",
       "\n",
       "  intervention_date_9907  \n",
       "0                    NaT  \n",
       "1                    NaT  \n",
       "2                    NaT  \n",
       "3                    NaT  \n",
       "4                    NaT  \n",
       "\n",
       "[5 rows x 94 columns]"
      ]
     },
     "execution_count": 122,
     "metadata": {},
     "output_type": "execute_result"
    }
   ],
   "source": [
    "df = pd.read_parquet(\"s3://iefp-unemployment/intermediate/transform/intermediate.parquet\")\n",
    "df.head()"
   ]
  },
  {
   "cell_type": "markdown",
   "metadata": {},
   "source": [
    "## Get intervention codes "
   ]
  },
  {
   "cell_type": "code",
   "execution_count": 123,
   "metadata": {},
   "outputs": [],
   "source": [
    "interventions_cols = [col for col in df.columns if \"intervention\" in col]"
   ]
  },
  {
   "cell_type": "code",
   "execution_count": 124,
   "metadata": {},
   "outputs": [],
   "source": [
    "target_codes = [codes.replace('intervention_date_', '') for codes in interventions_cols]"
   ]
  },
  {
   "cell_type": "code",
   "execution_count": 125,
   "metadata": {},
   "outputs": [
    {
     "ename": "FileNotFoundError",
     "evalue": "[Errno 2] No such file or directory: '../conf/base/intervention_translation.yml'",
     "output_type": "error",
     "traceback": [
      "\u001b[0;31m---------------------------------------------------------------------------\u001b[0m",
      "\u001b[0;31mFileNotFoundError\u001b[0m                         Traceback (most recent call last)",
      "\u001b[0;32m<ipython-input-125-633f5a436820>\u001b[0m in \u001b[0;36m<module>\u001b[0;34m\u001b[0m\n\u001b[1;32m      1\u001b[0m \u001b[0;31m# Load data dictionary\u001b[0m\u001b[0;34m\u001b[0m\u001b[0;34m\u001b[0m\u001b[0;34m\u001b[0m\u001b[0m\n\u001b[0;32m----> 2\u001b[0;31m \u001b[0mcolumn_dict\u001b[0m \u001b[0;34m=\u001b[0m \u001b[0myaml\u001b[0m\u001b[0;34m.\u001b[0m\u001b[0mload\u001b[0m\u001b[0;34m(\u001b[0m\u001b[0mopen\u001b[0m\u001b[0;34m(\u001b[0m\u001b[0;34m'../conf/base/intervention_translation.yml'\u001b[0m\u001b[0;34m)\u001b[0m\u001b[0;34m,\u001b[0m\u001b[0mLoader\u001b[0m\u001b[0;34m=\u001b[0m\u001b[0myaml\u001b[0m\u001b[0;34m.\u001b[0m\u001b[0mFullLoader\u001b[0m\u001b[0;34m)\u001b[0m\u001b[0;34m\u001b[0m\u001b[0;34m\u001b[0m\u001b[0m\n\u001b[0m",
      "\u001b[0;31mFileNotFoundError\u001b[0m: [Errno 2] No such file or directory: '../conf/base/intervention_translation.yml'"
     ]
    }
   ],
   "source": [
    "# Load data dictionary\n",
    "column_dict = yaml.load(open('../conf/base/intervention_translation.yml'),Loader=yaml.FullLoader)"
   ]
  },
  {
   "cell_type": "code",
   "execution_count": null,
   "metadata": {},
   "outputs": [],
   "source": [
    "print(len(set(column_dict)))\n",
    "print(len(set(target_codes)))"
   ]
  },
  {
   "cell_type": "code",
   "execution_count": null,
   "metadata": {},
   "outputs": [],
   "source": [
    "target_codes = list(map(int, target_codes))"
   ]
  },
  {
   "cell_type": "markdown",
   "metadata": {},
   "source": [
    "## Only keep dict keys where key in target code"
   ]
  },
  {
   "cell_type": "code",
   "execution_count": null,
   "metadata": {},
   "outputs": [],
   "source": [
    "unwanted = set(column_dict) - set(target_codes)\n",
    "for unwanted_key in unwanted: del column_dict[unwanted_key]"
   ]
  },
  {
   "cell_type": "code",
   "execution_count": null,
   "metadata": {},
   "outputs": [],
   "source": [
    "len(column_dict)"
   ]
  },
  {
   "cell_type": "code",
   "execution_count": null,
   "metadata": {},
   "outputs": [],
   "source": [
    "# write dict:\n",
    "with open('intervention_translation_dict.yml', 'w') as outfile:\n",
    "    yaml.dump(column_dict, outfile, default_flow_style=False)"
   ]
  },
  {
   "cell_type": "markdown",
   "metadata": {},
   "source": [
    "## Use new dict to translate intermediate column names"
   ]
  },
  {
   "cell_type": "code",
   "execution_count": null,
   "metadata": {},
   "outputs": [],
   "source": [
    "# Load new data dictionary\n",
    "code_dict = yaml.load(open('../conf/base/intervention_translation_dict.yml'),Loader=yaml.FullLoader)\n",
    "df = pd.read_parquet(\"s3://iefp-unemployment/intermediate/transform/intermediate.parquet\")"
   ]
  },
  {
   "cell_type": "code",
   "execution_count": null,
   "metadata": {},
   "outputs": [],
   "source": [
    "df.head()"
   ]
  },
  {
   "cell_type": "code",
   "execution_count": null,
   "metadata": {},
   "outputs": [],
   "source": [
    "# replace for intervention cols (as in same order)"
   ]
  },
  {
   "cell_type": "code",
   "execution_count": null,
   "metadata": {},
   "outputs": [],
   "source": [
    "df.columns = [col.replace(\"intervention_date_\", \"\") for col in df.columns]"
   ]
  },
  {
   "cell_type": "code",
   "execution_count": null,
   "metadata": {},
   "outputs": [],
   "source": [
    "code_dict = {str(key):code_dict[key] for key in code_dict}"
   ]
  },
  {
   "cell_type": "code",
   "execution_count": null,
   "metadata": {},
   "outputs": [],
   "source": [
    "# replace col_names\n",
    "df = df.rename(columns=code_dict)"
   ]
  },
  {
   "cell_type": "code",
   "execution_count": null,
   "metadata": {},
   "outputs": [],
   "source": [
    "def Translate_Intervention_Codes(df):\n",
    "    '''Function to '''\n",
    "    code_dict = yaml.load(open('../conf/base/intervention_translation_dict.yml'),Loader=yaml.FullLoader)\n",
    "    df.columns = [col.replace(\"intervention_date_\", \"\") for col in df.columns]\n",
    "    code_dict = {str(key):code_dict[key] for key in code_dict}\n",
    "    df = df.rename(columns=code_dict)\n",
    "    return df"
   ]
  },
  {
   "cell_type": "code",
   "execution_count": null,
   "metadata": {},
   "outputs": [],
   "source": [
    "df = pd.read_parquet(\"s3://iefp-unemployment/intermediate/transform/intermediate.parquet\")"
   ]
  },
  {
   "cell_type": "code",
   "execution_count": null,
   "metadata": {},
   "outputs": [],
   "source": [
    "df = translate_codes(df)\n",
    "    "
   ]
  },
  {
   "cell_type": "code",
   "execution_count": 127,
   "metadata": {},
   "outputs": [
    {
     "data": {
      "text/plain": [
       "array(['user_id', 'journey_count', 'register_date', 'register_reason',\n",
       "       'exit_date_21', 'exit_date_31', 'exit_reason', 'birth_date',\n",
       "       'gender', 'age', 'disabled', 'dependents', 'professional_training',\n",
       "       'profession_card', 'school_qualification', 'college_qualification',\n",
       "       'civil_status', 'registration_type', 'nationality', 'parish',\n",
       "       'center_area', 'subsidy', 'rsi', 'previous_cpp',\n",
       "       'previous_job_experience', 'desired_cpp', 'desired_location',\n",
       "       'desired_work_time', 'desired_contract', 'success', 'ttj_sub_9',\n",
       "       'rvcc_other_entities', 'job_search_techn', 'professional_rvcc',\n",
       "       'rvcc_integrated', 'train_active_life',\n",
       "       'tutoring_in_individual_job_search', 'job_search_assistance',\n",
       "       'pae_cpe_subsidy', 'paper_subsidy_ace', 'paecpe_ace',\n",
       "       'business_and_employment_creation_help',\n",
       "       'invest_young_target_promoter', 'invest_young_another_promoter',\n",
       "       'other_employment_program', 'insertion_companies',\n",
       "       'professional_internships', 'internship_job',\n",
       "       'active_youth_employment', 'reactive', 'arts_and_crafts_train',\n",
       "       'employment-insertion_contract', 'employment_contract_insertion',\n",
       "       'vocational_train_disabilities_cgd',\n",
       "       'vocational_train_disabilities_cgp', 'post-placement_monitoring',\n",
       "       'information_job_eval_orientat', 'occupational_rehabilitation',\n",
       "       'integration_stages_disabilities',\n",
       "       'open_market_supported_employment', 'learning',\n",
       "       'collective_orientation_session',\n",
       "       'tutoring_in_collective_job_search', 'feg_counseling_actions',\n",
       "       'learning_cgp', 'initial_pedagogical_train_of_trainers',\n",
       "       'continuing_pedagogical_train_of_trainers',\n",
       "       'technological_expertise', 'portuguese_program_for_everyone',\n",
       "       'contin_train_professional_qual_cgp', 'efa_adult_education_cgp',\n",
       "       'technological_specialization_cgp',\n",
       "       'portuguese_program_for_everyone_cgp',\n",
       "       'contin_train_specialization_cgp', 'efa_contin_train_type_b1',\n",
       "       'efa_contin_train_type_b1_b2', 'efa_contin_train_type_b2',\n",
       "       'efa_contin_train_type_b3', 'efa_contin_train_type_b2_b3',\n",
       "       'efa_s3_type_a', 'modular', 'contin_train_modular_extra_catalogue',\n",
       "       'efa_n2_vocational_train', 'efa_n3_vocational_train',\n",
       "       'basic_skills_train', 'modular_active_life_cgp',\n",
       "       'personal_development_job_search_techn',\n",
       "       'assertive_communication_job_search_techn',\n",
       "       'entrepreneurship_skills_job_search_techn',\n",
       "       'train_external_entities', 'education',\n",
       "       'professional_internships_extra_iefp', 'pepal_stages_extra_iefp',\n",
       "       'cei-prevpap_extra_iefp'], dtype=object)"
      ]
     },
     "execution_count": 127,
     "metadata": {},
     "output_type": "execute_result"
    }
   ],
   "source": [
    "m = pd.read_parquet(\"s3://iefp-unemployment/intermediate/transform/modelling.parquet\")\n",
    "m.columns.values"
   ]
  }
 ],
 "metadata": {
  "kernelspec": {
   "display_name": "iefp",
   "language": "python",
   "name": "iefp"
  },
  "language_info": {
   "codemirror_mode": {
    "name": "ipython",
    "version": 3
   },
   "file_extension": ".py",
   "mimetype": "text/x-python",
   "name": "python",
   "nbconvert_exporter": "python",
   "pygments_lexer": "ipython3",
   "version": "3.6.8"
  }
 },
 "nbformat": 4,
 "nbformat_minor": 4
}
